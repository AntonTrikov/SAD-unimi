{
 "cells": [
  {
   "cell_type": "markdown",
   "metadata": {},
   "source": [
    "## Esercizio 0\n",
    "Sia $X$ una variabile casuale continua. Indichiamo con $q_1, q_2$ ed $q_3$ rispettivamente il primo, il secondo e il terzo quartile di $X$.\n",
    "- 0.1. Quanto vale la probabilità che $X$ assuma valori $\\leq q_2$?\n",
    "  - $50\\%$\n",
    "- 0.2. Quanto vale la probabilità che $X$ assuma valori compresi tra $q_1$ e $q_3$?\n",
    "  - $50\\%$ \n",
    "- 0.3. Facciamo l’ulteriore ipotesi che $X$ sia una variabile normale di parametri $\\mu$ e $\\sigma^2$.\n",
    "  - 0.3.1. Si determini un valore reale positivo $\\alpha$ tale che sia uguale a $0.5$ la probabilità $\\mathbb{P}(\\mu-\\alpha\\sigma \\leq X \\leq \\mu + \\alpha\\sigma)$.\n",
    "    - $\\mathbb{P}(\\mu-\\alpha\\sigma \\leq X \\leq \\mu + \\alpha\\sigma) = 0.5 $  \n",
    "    $1-(\\mathbb{P}(X \\geq \\mu+\\alpha\\sigma)+\\mathbb{P}(\\mu-*\\alpha\\sigma\\geq X)) = 0.5$   \n",
    "    $1-(2\\mathbb{P}(X \\leq \\mu -\\alpha\\sigma))=0.5$    \n",
    "    $1-(2\\Phi(\\frac{\\mu -\\alpha\\sigma -\\mu}{\\sigma}))=0.5$  \n",
    "    $1-(2\\Phi(\\alpha)) = 0.5$  \n",
    "    $2\\Phi(\\alpha)-1 = 0.5$  \n",
    "    $\\Phi(\\alpha) = 0.75$  \n",
    "    $\\alpha = 0.674$"
   ]
  },
  {
   "cell_type": "code",
   "execution_count": 1,
   "metadata": {},
   "outputs": [
    {
     "data": {
      "text/html": [
       "0.674489750196082"
      ],
      "text/latex": [
       "0.674489750196082"
      ],
      "text/markdown": [
       "0.674489750196082"
      ],
      "text/plain": [
       "[1] 0.6744898"
      ]
     },
     "metadata": {},
     "output_type": "display_data"
    }
   ],
   "source": [
    "qnorm(3/4,0,1)"
   ]
  },
  {
   "cell_type": "markdown",
   "metadata": {},
   "source": [
    "- - 0.3.2. Esprimere $q_1$ e $q_3$ in funzione di $\\mu$ e $\\sigma$.\n",
    "    - $q_1 = \\mu - \\alpha\\sigma$  \n",
    "    $q_3 = \\mu + \\alpha\\sigma$\n",
    "  - 0.3.3. Fissati, solo in questo punto, $\\mu = 1$ e $\\sigma = 1$, tracciare un grafico indicativo della densità di probabilità di $X$. Su tale grafico si evidenzino $q_1$, $q_3$ e la probabilità $\\mathbb{P}(q_1≤X≤q_3)$."
   ]
  },
  {
   "cell_type": "code",
   "execution_count": 27,
   "metadata": {},
   "outputs": [
    {
     "data": {
      "image/png": "[encoded data removed]",
      "text/plain": [
       "plot without title"
      ]
     },
     "metadata": {
      "image/png": {
       "height": 420,
       "width": 420
      },
      "text/plain": {
       "height": 420,
       "width": 420
      }
     },
     "output_type": "display_data"
    }
   ],
   "source": [
    "x = seq(from=-5,to=5,length.out=100)\n",
    "y = dnorm(x,1,1)\n",
    "plot(x,y,type=\"l\")\n",
    "\n",
    "q1 = qnorm(1/4,1,1)\n",
    "q2 = qnorm(2/4,1,1)\n",
    "q3 = qnorm(3/4,1,1)\n",
    "\n",
    "lines(c(q1,q1),c(0,dnorm(q1,1,1)))\n",
    "lines(c(q3,q3),c(0,dnorm(q3,1,1)))\n",
    "axis(side=1,at=c(q1,q2,q3),labels=c(\"q1\",\"μ\",\"q3\"))"
   ]
  },
  {
   "cell_type": "markdown",
   "metadata": {},
   "source": [
    "- - 0.3.4. Controllare che la probabilità  $\\mathbb{P}(\\mu - 2\\sigma \\leq X \\leq \\mu + 2\\sigma)$ che $X$ assuma valori in un intervallo di semi ampiezza $2\\sigma$ centrato su $\\mu$ è circa uguale a $0.95$.\n",
    "    - $\\mathbb{P}(\\mu - 2\\sigma \\leq X \\leq \\mu + 2\\sigma) = $  \n",
    "    $1-(2\\mathbb{P}(X\\leq\\mu-2\\sigma)) = $  \n",
    "    $1-(2\\Phi(-2)) = $  \n",
    "    $2\\Phi(2)-1 \\simeq 0.954$\n"
   ]
  },
  {
   "cell_type": "code",
   "execution_count": 28,
   "metadata": {},
   "outputs": [
    {
     "data": {
      "text/html": [
       "0.954499736103642"
      ],
      "text/latex": [
       "0.954499736103642"
      ],
      "text/markdown": [
       "0.954499736103642"
      ],
      "text/plain": [
       "[1] 0.9544997"
      ]
     },
     "metadata": {},
     "output_type": "display_data"
    }
   ],
   "source": [
    "2*pnorm(2,0,1)-1"
   ]
  },
  {
   "cell_type": "markdown",
   "metadata": {},
   "source": [
    "- 0.4. Dato un campione casuale $X_1,...,X_n$ estratto da una popolazione $X$ normale di valore atteso $\\mu$ e deviazione standard $\\sigma$, fissati due valori $0<\\delta<1$ e $\\epsilon>0$, indicata con $\\bar{X}$ la media campionaria $\\frac{1}{n}\\sum_i X_i$, e indicata con $\\Phi$ la funzione di ripartizione della normale standard, si controlli che: $$\\mathbb{P}(|\\bar{X}-\\mu|\\leq\\epsilon)\\geq\\delta \\text{ è vera se } \\Phi(\\frac{\\epsilon\\sqrt{n}}{\\sigma})\\geq\\frac{1+\\delta}{2}$$\n",
    "  - Sia $\\frac{|\\bar{X}-\\mu|}{\\sigma/\\sqrt{n}} \\approx Y \\sim \\mathcal{N}(0,1)$  \n",
    "  $\\mathbb{P}(|\\bar{X}-\\mu|\\leq \\epsilon) \\geq \\delta $  \n",
    "  $\\mathbb{P}(\\frac{|\\bar{X}-\\mu|}{\\sigma/\\sqrt{n}}\\leq\\epsilon)\\geq\\delta $  \n",
    "  $\\mathbb{P}(|Y|\\leq\\frac{\\epsilon\\sqrt{n}}{\\sigma})\\geq\\delta $  \n",
    "  $2\\Phi(\\frac{\\epsilon\\sqrt{n}}{\\sigma})-1 \\geq \\delta$  \n",
    "  $\\Phi(\\frac{\\epsilon\\sqrt{n}}{\\sigma}) \\geq \\frac{1+\\delta}{2}$"
   ]
  },
  {
   "cell_type": "code",
   "execution_count": 5,
   "metadata": {},
   "outputs": [
    {
     "data": {
      "text/html": [
       "<table>\n",
       "<caption>A data.frame: 5 × 20</caption>\n",
       "<thead>\n",
       "\t<tr><th></th><th scope=col>Cartella</th><th scope=col>IP</th><th scope=col>GravitaIP</th><th scope=col>EtaAnni</th><th scope=col>MORTE</th><th scope=col>MC</th><th scope=col>SURVIVALTIME</th><th scope=col>Terapia</th><th scope=col>Antiaritmico</th><th scope=col>PesoKg</th><th scope=col>VTricuspide</th><th scope=col>AsxAo</th><th scope=col>OndaE</th><th scope=col>OndaEA</th><th scope=col>FrazEspuls</th><th scope=col>FrazAccorc</th><th scope=col>EDVI</th><th scope=col>ESVI</th><th scope=col>Allodiast</th><th scope=col>Allosist</th></tr>\n",
       "\t<tr><th></th><th scope=col>&lt;fct&gt;</th><th scope=col>&lt;fct&gt;</th><th scope=col>&lt;int&gt;</th><th scope=col>&lt;dbl&gt;</th><th scope=col>&lt;int&gt;</th><th scope=col>&lt;int&gt;</th><th scope=col>&lt;int&gt;</th><th scope=col>&lt;int&gt;</th><th scope=col>&lt;fct&gt;</th><th scope=col>&lt;dbl&gt;</th><th scope=col>&lt;dbl&gt;</th><th scope=col>&lt;dbl&gt;</th><th scope=col>&lt;dbl&gt;</th><th scope=col>&lt;dbl&gt;</th><th scope=col>&lt;int&gt;</th><th scope=col>&lt;int&gt;</th><th scope=col>&lt;dbl&gt;</th><th scope=col>&lt;dbl&gt;</th><th scope=col>&lt;dbl&gt;</th><th scope=col>&lt;dbl&gt;</th></tr>\n",
       "</thead>\n",
       "<tbody>\n",
       "\t<tr><th scope=row>1</th><td>S0601</td><td>NO</td><td>0</td><td>10.35</td><td>0</td><td>NA</td><td>  0</td><td>2</td><td>NO</td><td> 5.25</td><td>0</td><td>2.50</td><td>1.15</td><td>0.97</td><td>70</td><td>37</td><td> 78.69</td><td>23.75</td><td>1.58</td><td>0.99</td></tr>\n",
       "\t<tr><th scope=row>2</th><td>C0621</td><td>NO</td><td>0</td><td>15.21</td><td>1</td><td> 1</td><td>341</td><td>3</td><td>NO</td><td> 6.00</td><td>0</td><td>1.61</td><td>1.50</td><td>1.47</td><td>83</td><td>51</td><td>130.58</td><td>23.88</td><td>1.94</td><td>0.99</td></tr>\n",
       "\t<tr><th scope=row>3</th><td>B0918</td><td>NO</td><td>0</td><td>15.77</td><td>1</td><td> 1</td><td>117</td><td>3</td><td>NO</td><td> 3.20</td><td>0</td><td>2.50</td><td>1.87</td><td>2.08</td><td>91</td><td>62</td><td>180.35</td><td>16.22</td><td>2.21</td><td>0.84</td></tr>\n",
       "\t<tr><th scope=row>4</th><td>R1009</td><td>NO</td><td>0</td><td>13.54</td><td>1</td><td> 1</td><td> 93</td><td>4</td><td>SI</td><td>26.50</td><td>0</td><td>3.07</td><td>2.28</td><td>2.85</td><td>75</td><td>44</td><td>234.17</td><td>40.15</td><td>2.09</td><td>1.16</td></tr>\n",
       "\t<tr><th scope=row>5</th><td>R1513</td><td>NO</td><td>0</td><td>10.72</td><td>0</td><td>NA</td><td>666</td><td>3</td><td>NO</td><td>11.00</td><td>0</td><td>2.54</td><td>0.75</td><td>0.86</td><td>69</td><td>38</td><td>139.84</td><td>43.89</td><td>1.98</td><td>1.23</td></tr>\n",
       "</tbody>\n",
       "</table>\n"
      ],
      "text/latex": [
       "A data.frame: 5 × 20\n",
       "\\begin{tabular}{r|llllllllllllllllllll}\n",
       "  & Cartella & IP & GravitaIP & EtaAnni & MORTE & MC & SURVIVALTIME & Terapia & Antiaritmico & PesoKg & VTricuspide & AsxAo & OndaE & OndaEA & FrazEspuls & FrazAccorc & EDVI & ESVI & Allodiast & Allosist\\\\\n",
       "  & <fct> & <fct> & <int> & <dbl> & <int> & <int> & <int> & <int> & <fct> & <dbl> & <dbl> & <dbl> & <dbl> & <dbl> & <int> & <int> & <dbl> & <dbl> & <dbl> & <dbl>\\\\\n",
       "\\hline\n",
       "\t1 & S0601 & NO & 0 & 10.35 & 0 & NA &   0 & 2 & NO &  5.25 & 0 & 2.50 & 1.15 & 0.97 & 70 & 37 &  78.69 & 23.75 & 1.58 & 0.99\\\\\n",
       "\t2 & C0621 & NO & 0 & 15.21 & 1 &  1 & 341 & 3 & NO &  6.00 & 0 & 1.61 & 1.50 & 1.47 & 83 & 51 & 130.58 & 23.88 & 1.94 & 0.99\\\\\n",
       "\t3 & B0918 & NO & 0 & 15.77 & 1 &  1 & 117 & 3 & NO &  3.20 & 0 & 2.50 & 1.87 & 2.08 & 91 & 62 & 180.35 & 16.22 & 2.21 & 0.84\\\\\n",
       "\t4 & R1009 & NO & 0 & 13.54 & 1 &  1 &  93 & 4 & SI & 26.50 & 0 & 3.07 & 2.28 & 2.85 & 75 & 44 & 234.17 & 40.15 & 2.09 & 1.16\\\\\n",
       "\t5 & R1513 & NO & 0 & 10.72 & 0 & NA & 666 & 3 & NO & 11.00 & 0 & 2.54 & 0.75 & 0.86 & 69 & 38 & 139.84 & 43.89 & 1.98 & 1.23\\\\\n",
       "\\end{tabular}\n"
      ],
      "text/markdown": [
       "\n",
       "A data.frame: 5 × 20\n",
       "\n",
       "| <!--/--> | Cartella &lt;fct&gt; | IP &lt;fct&gt; | GravitaIP &lt;int&gt; | EtaAnni &lt;dbl&gt; | MORTE &lt;int&gt; | MC &lt;int&gt; | SURVIVALTIME &lt;int&gt; | Terapia &lt;int&gt; | Antiaritmico &lt;fct&gt; | PesoKg &lt;dbl&gt; | VTricuspide &lt;dbl&gt; | AsxAo &lt;dbl&gt; | OndaE &lt;dbl&gt; | OndaEA &lt;dbl&gt; | FrazEspuls &lt;int&gt; | FrazAccorc &lt;int&gt; | EDVI &lt;dbl&gt; | ESVI &lt;dbl&gt; | Allodiast &lt;dbl&gt; | Allosist &lt;dbl&gt; |\n",
       "|---|---|---|---|---|---|---|---|---|---|---|---|---|---|---|---|---|---|---|---|---|\n",
       "| 1 | S0601 | NO | 0 | 10.35 | 0 | NA |   0 | 2 | NO |  5.25 | 0 | 2.50 | 1.15 | 0.97 | 70 | 37 |  78.69 | 23.75 | 1.58 | 0.99 |\n",
       "| 2 | C0621 | NO | 0 | 15.21 | 1 |  1 | 341 | 3 | NO |  6.00 | 0 | 1.61 | 1.50 | 1.47 | 83 | 51 | 130.58 | 23.88 | 1.94 | 0.99 |\n",
       "| 3 | B0918 | NO | 0 | 15.77 | 1 |  1 | 117 | 3 | NO |  3.20 | 0 | 2.50 | 1.87 | 2.08 | 91 | 62 | 180.35 | 16.22 | 2.21 | 0.84 |\n",
       "| 4 | R1009 | NO | 0 | 13.54 | 1 |  1 |  93 | 4 | SI | 26.50 | 0 | 3.07 | 2.28 | 2.85 | 75 | 44 | 234.17 | 40.15 | 2.09 | 1.16 |\n",
       "| 5 | R1513 | NO | 0 | 10.72 | 0 | NA | 666 | 3 | NO | 11.00 | 0 | 2.54 | 0.75 | 0.86 | 69 | 38 | 139.84 | 43.89 | 1.98 | 1.23 |\n",
       "\n"
      ],
      "text/plain": [
       "  Cartella IP GravitaIP EtaAnni MORTE MC SURVIVALTIME Terapia Antiaritmico\n",
       "1 S0601    NO 0         10.35   0     NA   0          2       NO          \n",
       "2 C0621    NO 0         15.21   1      1 341          3       NO          \n",
       "3 B0918    NO 0         15.77   1      1 117          3       NO          \n",
       "4 R1009    NO 0         13.54   1      1  93          4       SI          \n",
       "5 R1513    NO 0         10.72   0     NA 666          3       NO          \n",
       "  PesoKg VTricuspide AsxAo OndaE OndaEA FrazEspuls FrazAccorc EDVI   ESVI \n",
       "1  5.25  0           2.50  1.15  0.97   70         37          78.69 23.75\n",
       "2  6.00  0           1.61  1.50  1.47   83         51         130.58 23.88\n",
       "3  3.20  0           2.50  1.87  2.08   91         62         180.35 16.22\n",
       "4 26.50  0           3.07  2.28  2.85   75         44         234.17 40.15\n",
       "5 11.00  0           2.54  0.75  0.86   69         38         139.84 43.89\n",
       "  Allodiast Allosist\n",
       "1 1.58      0.99    \n",
       "2 1.94      0.99    \n",
       "3 2.21      0.84    \n",
       "4 2.09      1.16    \n",
       "5 1.98      1.23    "
      ]
     },
     "metadata": {},
     "output_type": "display_data"
    }
   ],
   "source": [
    "data = read.csv(\"cani.csv\", sep=\";\", dec=\",\")\n",
    "data[1:5,]"
   ]
  },
  {
   "cell_type": "code",
   "execution_count": 7,
   "metadata": {},
   "outputs": [
    {
     "name": "stdout",
     "output_type": "stream",
     "text": [
      "[1] 161\n",
      "[1] 58\n"
     ]
    }
   ],
   "source": [
    "print(nrow(data)) # 1.1\n",
    "print(nrow(data[(!is.na(data$IP)) & (data$IP == \"SI\"),])) # 1.2 "
   ]
  },
  {
   "cell_type": "markdown",
   "metadata": {},
   "source": [
    "- 1.1. Quanti sono i cani seguiti dall’ambulatorio?\n",
    "  - $161$\n",
    "- 1.2. Quanti cani soffrono di ipertensione?\n",
    "  - $58$\n",
    "- 1.3. Consideriamo ora l’età dei pazienti.\n",
    "  - 1.3.1. Tracciare un istogramma dell’età dei cani con i seguenti accorgimenti:\n",
    "    - fissando a un anno l’ampiezza delle classi\n",
    "    - considerando gli intervalli chiusi a sinistra e aperti a destra."
   ]
  },
  {
   "cell_type": "code",
   "execution_count": 44,
   "metadata": {},
   "outputs": [
    {
     "data": {
      "image/png": "[encoded data removed]",
      "text/plain": [
       "Plot with title “Histogram of data$EtaAnni”"
      ]
     },
     "metadata": {
      "image/png": {
       "height": 420,
       "width": 420
      },
      "text/plain": {
       "height": 420,
       "width": 420
      }
     },
     "output_type": "display_data"
    }
   ],
   "source": [
    "hist(data$EtaAnni, breaks=seq(0,20,1), right=FALSE, axes=FALSE)\n",
    "axis(1, at=1:20,labels=1:20, las=2)\n",
    "axis(2, at=1:40,labels=1:40, las=2)"
   ]
  },
  {
   "cell_type": "markdown",
   "metadata": {},
   "source": [
    "- - 1.3.2. Descrivere l’età dei pazienti compilando la Tabella 1, in cui scegliere un opportuno indice di centralità e un opportuno indice di dispersione."
   ]
  },
  {
   "cell_type": "code",
   "execution_count": 10,
   "metadata": {},
   "outputs": [
    {
     "name": "stdout",
     "output_type": "stream",
     "text": [
      "median : 12.55 \n",
      "IQR    : 3.17 3.17 \n"
     ]
    }
   ],
   "source": [
    "cat(\"median :\", median(data$EtaAnni),end=\"\\n\")\n",
    "cat(\"IQR    :\", quantile(data$EtaAnni,0.75)-quantile(data$EtaAnni,0.25), IQR(data$EtaAnni),end=\"\\n\")"
   ]
  },
  {
   "cell_type": "markdown",
   "metadata": {},
   "source": [
    "- - 1.3.3. Quanti sono i pazienti di età compresa nell’intervallo tra i 12 e i 13 anni, estremo inferiore incluso ed estremo superiore escluso ?\n",
    "  - 1.3.4. Quanti anni ha il cane più anziano?\n",
    "  - 1.3.5. Qual è la fascia di età maggiormente rappresentata?"
   ]
  },
  {
   "cell_type": "code",
   "execution_count": 43,
   "metadata": {},
   "outputs": [
    {
     "name": "stdout",
     "output_type": "stream",
     "text": [
      "1.3.3: 32 \n",
      "1.3.4: 16.84 \n",
      "1.3.5: [12,13) \n"
     ]
    }
   ],
   "source": [
    "cat(\"1.3.3:\",nrow(data[(data$EtaAnni >= 12) & (data$EtaAnni < 13),]),end=\"\\n\")\n",
    "cat(\"1.3.4:\",max(data$EtaAnni),end=\"\\n\")\n",
    "cat(\"1.3.5:\",\"[12,13)\",end=\"\\n\")"
   ]
  },
  {
   "cell_type": "markdown",
   "metadata": {},
   "source": [
    "- 4. Consideriamo le variabili MORTE e MC.\n",
    "  - 4.1. Quanti cani sono deceduti?"
   ]
  },
  {
   "cell_type": "code",
   "execution_count": 44,
   "metadata": {},
   "outputs": [
    {
     "name": "stdout",
     "output_type": "stream",
     "text": [
      "[1] 118\n"
     ]
    }
   ],
   "source": [
    "print(nrow(data[data$MORTE == 1,]))"
   ]
  },
  {
   "cell_type": "markdown",
   "metadata": {},
   "source": [
    "- - 4.2. Nell’inserire le informazioni riguardo a un cane deceduto, l’operatore ha sempre specificato se la morte è avvenuta per cause cardiache o per altre cause?  Se la risposta è \"no\", in quanti casi (sempre relativamente ai cani deceduti) l’operatore ha omesso tale informazione?"
   ]
  },
  {
   "cell_type": "code",
   "execution_count": 45,
   "metadata": {},
   "outputs": [
    {
     "data": {
      "text/html": [
       "46"
      ],
      "text/latex": [
       "46"
      ],
      "text/markdown": [
       "46"
      ],
      "text/plain": [
       "[1] 46"
      ]
     },
     "metadata": {},
     "output_type": "display_data"
    }
   ],
   "source": [
    "nrow(data[is.na(data$MC), ])"
   ]
  },
  {
   "cell_type": "markdown",
   "metadata": {},
   "source": [
    "- - 1.4.3. Controllare che non ci siano nei dati incongruenze riguardo alla morte, ovvero che non ci siano casi per i quali il cane risulta vivo ma morto di morte cardiaca."
   ]
  },
  {
   "cell_type": "code",
   "execution_count": 45,
   "metadata": {},
   "outputs": [
    {
     "data": {
      "text/html": [
       "0"
      ],
      "text/latex": [
       "0"
      ],
      "text/markdown": [
       "0"
      ],
      "text/plain": [
       "[1] 0"
      ]
     },
     "metadata": {},
     "output_type": "display_data"
    }
   ],
   "source": [
    "nrow(data[(!is.na(data$MC)) & (!is.na(data$MORTE)) & (data$MC == 1) & (data$MORTE == 0),])"
   ]
  },
  {
   "cell_type": "markdown",
   "metadata": {},
   "source": [
    "- - 1.4.4. Quanti cani sono deceduti per cause cardiache?"
   ]
  },
  {
   "cell_type": "code",
   "execution_count": 46,
   "metadata": {},
   "outputs": [
    {
     "data": {
      "text/html": [
       "87"
      ],
      "text/latex": [
       "87"
      ],
      "text/markdown": [
       "87"
      ],
      "text/plain": [
       "[1] 87"
      ]
     },
     "metadata": {},
     "output_type": "display_data"
    }
   ],
   "source": [
    "sum(!is.na(data$MC) & data$MC ==1)"
   ]
  },
  {
   "cell_type": "markdown",
   "metadata": {},
   "source": [
    "- - 1.4.5. Tra le morti avvenute, quale percentuale è stata per cause cardiache?"
   ]
  },
  {
   "cell_type": "code",
   "execution_count": 47,
   "metadata": {},
   "outputs": [
    {
     "data": {
      "text/html": [
       "75.6521739130435"
      ],
      "text/latex": [
       "75.6521739130435"
      ],
      "text/markdown": [
       "75.6521739130435"
      ],
      "text/plain": [
       "[1] 75.65217"
      ]
     },
     "metadata": {},
     "output_type": "display_data"
    }
   ],
   "source": [
    "casi_favorevoli = nrow(data[(!is.na(data$MC))& (!is.na(data$MORTE)) & (data$MC == 1)   ,])\n",
    "casi_totali     = nrow(data[(!is.na(data$MC))& (!is.na(data$MORTE)) & (data$MORTE == 1),])\n",
    "casi_favorevoli*100/casi_totali"
   ]
  },
  {
   "cell_type": "markdown",
   "metadata": {},
   "source": [
    "- 1.5. La variabile Gravita IP è un indice di gravità dell’ipertensione.\n",
    "  - 1.5.1. Si tratta di un carattere scalare, ordinale oppure nominale?\n",
    "    - ordinale\n",
    "  - 1.5.2. Quali valori può assumere?\n",
    "    - $\\{0,1,2,3\\}$\n",
    "  - 1.5.3. Produrre la tabella delle frequenze relative di Gravita IP.\n",
    "  "
   ]
  },
  {
   "cell_type": "code",
   "execution_count": 49,
   "metadata": {},
   "outputs": [
    {
     "data": {
      "text/plain": [
       "\n",
       "         0          1          2          3 \n",
       "0.63975155 0.18012422 0.11180124 0.06832298 "
      ]
     },
     "metadata": {},
     "output_type": "display_data"
    }
   ],
   "source": [
    "relative_freq = prop.table(table(data$GravitaIP))\n",
    "relative_freq"
   ]
  },
  {
   "cell_type": "markdown",
   "metadata": {},
   "source": [
    "- 5.4. Tracciare un grafico opportuno per descrivere la gravità dell’ipertensione."
   ]
  },
  {
   "cell_type": "code",
   "execution_count": 61,
   "metadata": {},
   "outputs": [
    {
     "data": {
      "image/png": "[encoded data removed]",
      "text/plain": [
       "plot without title"
      ]
     },
     "metadata": {
      "image/png": {
       "height": 360,
       "width": 720
      },
      "text/plain": {
       "height": 360,
       "width": 720
      }
     },
     "output_type": "display_data"
    }
   ],
   "source": [
    "library(repr)\n",
    "layout(matrix(1:2,1,2))\n",
    "options(repr.plot.width = 12, repr.plot.height = 6)\n",
    "pie(prop.table(table(data$GravitaIP)))\n",
    "barplot(prop.table(table(data$GravitaIP)))"
   ]
  },
  {
   "cell_type": "markdown",
   "metadata": {},
   "source": [
    "- 1.6. Consideriamo l’assunzione di farmaci antiaritmici e la morte per cause cardiache.\n",
    "  - 1.6.1. Produrre la tabella delle frequenze assolute del carattere Antiaritmico.\n",
    "  - 1.6.2. Quanti sono i cani che assumono un farmaco antiaritmico?\n",
    "  - 1.6.3. Il carattere Antiaritmico è categorico. Volendolo convertire in un carattere numerico,con quale valore numerico mettereste in corrispondenza valore\"SI\"? Con quale il\"NO\"?\n",
    "  - 1.6.4. Produrre la tabella delle frequenze assolute congiunte dei caratteri Antiaritmico e MC.\n",
    "  - 1.6.5. Quale percentuale dei cani morti per cause cardiache assumeva un farmaco antiaritmico?"
   ]
  },
  {
   "cell_type": "code",
   "execution_count": 50,
   "metadata": {},
   "outputs": [
    {
     "name": "stdout",
     "output_type": "stream",
     "text": [
      "===============1.6.1===============\n",
      "\n",
      " NO  SI \n",
      "150  11 \n",
      "===============1.6.2===============\n",
      "[1] 11\n",
      "===============1.6.3===============\n",
      "[1] \"1 e 0 sembrano una buona soluzione\"\n",
      "===============1.6.4===============\n",
      "    \n",
      "      0  1\n",
      "  NO 28 78\n",
      "  SI  0  9\n",
      "===============1.6.5===============\n",
      "10.34483 %"
     ]
    }
   ],
   "source": [
    "cat(rep(\"=\",15),\"1.6.1\",rep(\"=\",15),sep=\"\",\"\\n\")\n",
    "print(table(data$Antiaritmico))\n",
    "cat(rep(\"=\",15),\"1.6.2\",rep(\"=\",15),sep=\"\",\"\\n\")\n",
    "print(nrow(data[data$Antiaritmico == \"SI\",]))\n",
    "cat(rep(\"=\",15),\"1.6.3\",rep(\"=\",15),sep=\"\",\"\\n\")\n",
    "print(\"1 e 0 sembrano una buona soluzione\")\n",
    "cat(rep(\"=\",15),\"1.6.4\",rep(\"=\",15),sep=\"\",\"\\n\")\n",
    "frequenze_congiunte = table(data$Antiaritmico,data$MC) \n",
    "print(frequenze_congiunte)\n",
    "cat(rep(\"=\",15),\"1.6.5\",rep(\"=\",15),sep=\"\",\"\\n\")\n",
    "casi_totali     = sum(frequenze_congiunte[,\"1\"])\n",
    "casi_favorevoli = frequenze_congiunte[\"SI\",\"1\"]\n",
    "cat(casi_favorevoli*100/casi_totali,\"%\")"
   ]
  },
  {
   "cell_type": "markdown",
   "metadata": {},
   "source": [
    "- 1.7. Il carattere SURVIVALTIME (tempo di sopravvivenza) ci dice per quanti giorni il paziente è rimasto in vita a partire dalla prima visita presso l’ambulatorio. Come mostrato nei grafici di Figura 1, la distribuzione delle frequenze del tempo di sopravvivenza haun aspetto molto diverso se si considera rispetto ai cani ancora in vita oppure a quelli morti. Potete rispondere alle seguenti due domande semplicemente ispezionando i grafici di Figura 1, considerando un anno costituito da 365 giorni.\n",
    "  - 1.7.1. Quale percentuale di cani tuttora vivi è in cura presso l’ambulatorio da menodi un anno?"
   ]
  },
  {
   "cell_type": "code",
   "execution_count": 73,
   "metadata": {},
   "outputs": [
    {
     "data": {
      "text/html": [
       "65.1162790697674"
      ],
      "text/latex": [
       "65.1162790697674"
      ],
      "text/markdown": [
       "65.1162790697674"
      ],
      "text/plain": [
       "[1] 65.11628"
      ]
     },
     "metadata": {},
     "output_type": "display_data"
    }
   ],
   "source": [
    "ecdf(data[data$MORTE==0,]$SURVIVALTIME)(365)*100"
   ]
  },
  {
   "cell_type": "markdown",
   "metadata": {},
   "source": [
    "- - 1.7.2. Quale percentuale di cani deceduti è sopravvissuta più di 3 anni?"
   ]
  },
  {
   "cell_type": "code",
   "execution_count": 75,
   "metadata": {},
   "outputs": [
    {
     "data": {
      "text/html": [
       "0.101694915254237"
      ],
      "text/latex": [
       "0.101694915254237"
      ],
      "text/markdown": [
       "0.101694915254237"
      ],
      "text/plain": [
       "[1] 0.1016949"
      ]
     },
     "metadata": {},
     "output_type": "display_data"
    }
   ],
   "source": [
    "morti <- data[data$MORTE==1,]\n",
    "s <- ecdf(morti$SURVIVALTIME)(365*3) # cani morti sopravvissuti meno di 3 anni\n",
    "1-s # cani morti sopravvissuti più di 3 anni"
   ]
  },
  {
   "cell_type": "markdown",
   "metadata": {},
   "source": [
    "## Esercizio 2\n",
    "- 2.1. Tracciare un grafico opportuno per descrivere il tempo di sopravvivenza."
   ]
  },
  {
   "cell_type": "code",
   "execution_count": 76,
   "metadata": {},
   "outputs": [
    {
     "data": {
      "image/png": "[encoded data removed]",
      "text/plain": [
       "Plot with title “Histogram of data$SURVIVALTIME”"
      ]
     },
     "metadata": {
      "image/png": {
       "height": 360,
       "width": 900
      },
      "text/plain": {
       "height": 360,
       "width": 900
      }
     },
     "output_type": "display_data"
    }
   ],
   "source": [
    "layout(matrix(1:2,1,2))\n",
    "options(repr.plot.width = 15, repr.plot.height = 6)\n",
    "hist(data$SURVIVALTIME,breaks=seq(0,3000,by=365),xaxt=\"n\")\n",
    "axis(side=1, at=seq(0,3000, 365))\n",
    "boxplot(data$SURVIVALTIME)\n"
   ]
  },
  {
   "cell_type": "markdown",
   "metadata": {},
   "source": [
    "- 2.2. Calcolare una stima del tempo di sopravvivenza atteso\n",
    "  - la distribuzione sembra essere esponenziale quindi usiamo, come al solito, la media campionaria"
   ]
  },
  {
   "cell_type": "code",
   "execution_count": 78,
   "metadata": {},
   "outputs": [
    {
     "data": {
      "text/html": [
       "459.888198757764"
      ],
      "text/latex": [
       "459.888198757764"
      ],
      "text/markdown": [
       "459.888198757764"
      ],
      "text/plain": [
       "[1] 459.8882"
      ]
     },
     "metadata": {},
     "output_type": "display_data"
    }
   ],
   "source": [
    "mean(data$SURVIVALTIME)"
   ]
  },
  {
   "cell_type": "markdown",
   "metadata": {},
   "source": [
    "- 2.3. Esprimere, in funzione di $X_1,...,X_n$, lo stimatore $T_n$ utilizzato per eseguire la stima del punto precedente. \n",
    "  - $T_n = \\frac{1}{n}\\sum_{i=1}^n X_i$\n",
    "- 2.4. Tale stimatore è non distorto? Si giustifichi la risposta.\n",
    "  - $\\mu_{T_n} = \\mathbb{E}[T_n] = \\mathbb{E}[\\frac{1}{n}\\sum_{i=1}^{n} X_i] = \\frac{1}{n}\\sum_{i=1}^{n}\\mathbb{E}[X_i] = \\frac{1}{n}n\\mathbb{E}[X] = \\mathbb{E}[X] = \\mu_X$\n",
    "- 2.5. Esprimere, in funzione di $n$ e della deviazione standard $\\sigma$ della relativa popolazione, la deviazione standard di $T_n$.\n",
    "  - $\\sigma_{T_n}^2 = \\mathbb{V}[T_n] = \\mathbb{V}[\\frac{1}{n}\\sum_{i=1}^{n} X_i] = \\frac{1}{n^2}n\\mathbb{V}[X] = \\frac{1}{n}\\sigma_X^2$\n",
    "    $\\sigma_{T_n} = \\frac{1}{\\sqrt{n}}\\sigma_X$\n",
    "- 2.6. Calcolare una stima della deviazione standard del tempo di sopravvivenza.\n",
    "  - usiamo lo stimatore non distorto della deviazione std. $\\sqrt{\\frac{\\sum_i (x_i - \\bar{x})^2}{n-1}}$ dove $\\bar{x}$ è la media campionaria."
   ]
  },
  {
   "cell_type": "markdown",
   "metadata": {},
   "source": [
    "- 2.7. Determinare un numero di osservazioni sufficiente affinché, nella stima del tempo di sopravvivenza atteso, si compia un errore al più di due mesi (60 giorni) con probabilità almeno uguale a 0.9.\n",
    "  - $\\mathbb{P}(|T_n - \\mu_{X}|\\leq 60)\\geq 0.9$  \n",
    "  $\\mathbb{P}(|\\frac{T_n - \\mu_{X}}{\\sigma_X/\\sqrt{n}}|\\leq \\frac{60\\sqrt{n}}{\\sigma_x})\\geq 0.9$  \n",
    "  Sappiamo che $\\frac{T_n - \\mu_{X}}{\\sigma_X/\\sqrt{n}} \\approx Y \\sim \\mathcal{N}(0,1)$  \n",
    "  $\\mathbb{P}(|Y|\\leq \\frac{60\\sqrt{n}}{\\sigma_x})\\geq 0.9$  \n",
    "  $1-(2\\Phi(\\frac{-60\\sqrt{n}}{\\sigma_X}))\\geq 0.9$  \n",
    "  $\\Phi(\\frac{60\\sqrt{n}}{\\sigma_X})\\geq 19/20$  \n",
    "  $\\Phi^{-1}(\\frac{19}{20})\\leq \\frac{60\\sqrt{n}}{\\sigma_X}$  \n",
    "  $\\frac{\\sigma_X\\Phi^{-1}(\\frac{19}{20})}{60} \\leq \\sqrt{n}$  \n",
    "  $n \\geq (\\frac{\\sigma_X\\Phi^{-1}(\\frac{19}{20})}{60})^2$"
   ]
  },
  {
   "cell_type": "code",
   "execution_count": 51,
   "metadata": {},
   "outputs": [
    {
     "name": "stdout",
     "output_type": "stream",
     "text": [
      "[1] 1.644854\n"
     ]
    },
    {
     "data": {
      "text/html": [
       "164.040678771983"
      ],
      "text/latex": [
       "164.040678771983"
      ],
      "text/markdown": [
       "164.040678771983"
      ],
      "text/plain": [
       "[1] 164.0407"
      ]
     },
     "metadata": {},
     "output_type": "display_data"
    }
   ],
   "source": [
    "q = qnorm(19/20,0,1)\n",
    "print(q)\n",
    "((sd(data$SURVIVALTIME[!is.na(data$SURVIVALTIME)])*q)/60)**2"
   ]
  },
  {
   "cell_type": "code",
   "execution_count": 54,
   "metadata": {},
   "outputs": [
    {
     "data": {
      "text/html": [
       "161"
      ],
      "text/latex": [
       "161"
      ],
      "text/markdown": [
       "161"
      ],
      "text/plain": [
       "[1] 161"
      ]
     },
     "metadata": {},
     "output_type": "display_data"
    }
   ],
   "source": [
    "length(data$SURVIVALTIME[!is.na(data$SURVIVALTIME)])"
   ]
  },
  {
   "cell_type": "markdown",
   "metadata": {},
   "source": [
    "- 2.8. Qual è la taglia $n$ del nostro campione? Tale valore è sufficiente a garantire le condizioni richieste al punto precedente? Si giustifichi la risposta.\n",
    "  - $n = 161$, $n$ è di poco insufficiente a garantire le condizione richieste.\n",
    "- 2.9. Proporre uno stimatore del tempo di sopravvivenza atteso, espresso in anni.\n",
    "  - $\\hat{T_n} = T_n/365$\n",
    "- 2.10 Lo stimatore proposto al punto precedente è non distorto? Si giustifichi la risposta.\n",
    "  - $\\mathbb{E}[\\hat{T}_n] = \\mathbb{E}[\\frac{1}{365n}\\sum_{i=1}^{n} X_i] = \\mathbb{E}[X/365]= \\mathbb{E}[X]/365$\n",
    "  che è non distorto rispetto alla v.a. $\\mathbb{E}[X]/365$\n",
    "- 2.11. Calcolare una stima del tempo di sopravvivenza atteso, espresso in anni."
   ]
  },
  {
   "cell_type": "code",
   "execution_count": 84,
   "metadata": {},
   "outputs": [
    {
     "data": {
      "text/html": [
       "1.25996766782949"
      ],
      "text/latex": [
       "1.25996766782949"
      ],
      "text/markdown": [
       "1.25996766782949"
      ],
      "text/plain": [
       "[1] 1.259968"
      ]
     },
     "metadata": {},
     "output_type": "display_data"
    }
   ],
   "source": [
    "mean(data$SURVIVALTIME[!is.na(data$SURVIVALTIME)])/365"
   ]
  },
  {
   "cell_type": "markdown",
   "metadata": {},
   "source": [
    "## Esercizio 3\n",
    "- 3.1. I caratteri EDVI e Allodiast sono indipendenti? Motivare la risposta, anche con l’ausilio di un grafico."
   ]
  },
  {
   "cell_type": "code",
   "execution_count": 85,
   "metadata": {},
   "outputs": [
    {
     "data": {
      "text/html": [
       "0.907303981775358"
      ],
      "text/latex": [
       "0.907303981775358"
      ],
      "text/markdown": [
       "0.907303981775358"
      ],
      "text/plain": [
       "[1] 0.907304"
      ]
     },
     "metadata": {},
     "output_type": "display_data"
    },
    {
     "data": {
      "image/png": "[encoded data removed]",
      "text/plain": [
       "plot without title"
      ]
     },
     "metadata": {
      "image/png": {
       "height": 360,
       "width": 900
      },
      "text/plain": {
       "height": 360,
       "width": 900
      }
     },
     "output_type": "display_data"
    }
   ],
   "source": [
    "plot(data$EDVI, data$Allodiast)\n",
    "cor(data$EDVI, data$Allodiast)"
   ]
  },
  {
   "cell_type": "markdown",
   "metadata": {},
   "source": [
    "- - non si direbbero indipendenti, all'aumentare di uno aumenta anche l'altro.\n",
    "- 3.2. Con l’ausilio di uno o più grafici e del valore degli indici descrittivi che conoscete, commentate l’affermazione: \"La variabile Allodiast segue una legge normale\"."
   ]
  },
  {
   "cell_type": "code",
   "execution_count": 86,
   "metadata": {},
   "outputs": [
    {
     "data": {
      "text/html": [
       "2.01335403726708"
      ],
      "text/latex": [
       "2.01335403726708"
      ],
      "text/markdown": [
       "2.01335403726708"
      ],
      "text/plain": [
       "[1] 2.013354"
      ]
     },
     "metadata": {},
     "output_type": "display_data"
    },
    {
     "data": {
      "text/html": [
       "2"
      ],
      "text/latex": [
       "2"
      ],
      "text/markdown": [
       "2"
      ],
      "text/plain": [
       "[1] 2"
      ]
     },
     "metadata": {},
     "output_type": "display_data"
    },
    {
     "data": {
      "image/png": "[encoded data removed]",
      "text/plain": [
       "Plot with title “Normal Q-Q Plot”"
      ]
     },
     "metadata": {
      "image/png": {
       "height": 360,
       "width": 720
      },
      "text/plain": {
       "height": 360,
       "width": 720
      }
     },
     "output_type": "display_data"
    }
   ],
   "source": [
    "layout(matrix(1:2,1,2))\n",
    "options(repr.plot.width = 12, repr.plot.height = 6)\n",
    "\n",
    "hist(data$Allodiast,breaks=seq(1,3,0.1)) \n",
    "\n",
    "mean(data$Allodiast)\n",
    "median(data$Allodiast)\n",
    "\n",
    "qqnorm(data$Allodiast)\n",
    "qqline(data$Allodiast)"
   ]
  },
  {
   "cell_type": "markdown",
   "metadata": {},
   "source": [
    "- - A giudicare dall'istogramma si direbbe abbastanza simile ad una campana simmetrica con una leggera divergenza nelle code.  \n",
    "  - media e mediana sono praticamente uguali (il che è vero per v.a. normali)\n",
    "  - il qqplot mosta che la nostra distribuzione si adagia molto bene ad una normale.\n",
    "- 3.4. Verificare se le osservazioni di Allodiast sono coerenti con la proprietà al punto 3.4. dell’esercizio 0."
   ]
  },
  {
   "cell_type": "code",
   "execution_count": 91,
   "metadata": {},
   "outputs": [
    {
     "data": {
      "text/html": [
       "0.962732919254658"
      ],
      "text/latex": [
       "0.962732919254658"
      ],
      "text/markdown": [
       "0.962732919254658"
      ],
      "text/plain": [
       "[1] 0.9627329"
      ]
     },
     "metadata": {},
     "output_type": "display_data"
    }
   ],
   "source": [
    "mu = mean(data$Allodiast[!is.na(data$Allodiast)])\n",
    "sigma = sd(data$Allodiast[!is.na(data$Allodiast)])\n",
    "cdf = ecdf(data$Allodiast[!is.na(data$Allodiast)])\n",
    "cdf(mu+2*sigma)-cdf(mu-2*sigma)"
   ]
  },
  {
   "cell_type": "markdown",
   "metadata": {},
   "source": [
    "il che è molto vicino a $0.95$"
   ]
  }
 ],
 "metadata": {
  "kernelspec": {
   "display_name": "R",
   "language": "R",
   "name": "ir"
  },
  "language_info": {
   "codemirror_mode": "r",
   "file_extension": ".r",
   "mimetype": "text/x-r-source",
   "name": "R",
   "pygments_lexer": "r",
   "version": "3.6.3"
  }
 },
 "nbformat": 4,
 "nbformat_minor": 4
}
