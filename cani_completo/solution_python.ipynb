{
 "cells": [
  {
   "cell_type": "markdown",
   "metadata": {},
   "source": [
    "## Esercizio 0\n",
    "Sia $X$ una variabile casuale continua. Indichiamo con $q_1, q_2$ ed $q_3$ rispettivamente il primo, il secondo e il terzo quartile di $X$.\n",
    "- 0.1. Quanto vale la probabilità che $X$ assuma valori $\\leq q_2$?\n",
    "  - $50\\%$\n",
    "- 0.2. Quanto vale la probabilità che $X$ assuma valori compresi tra $q_1$ e $q_3$?\n",
    "  - $50\\%$ \n",
    "- 0.3. Facciamo l’ulteriore ipotesi che $X$ sia una variabile normale di parametri $\\mu$ e $\\sigma^2$.\n",
    "  - 0.3.1. Si determini un valore reale positivo $\\alpha$ tale che sia uguale a $0.5$ la probabilità $\\mathbb{P}(\\mu-\\alpha\\sigma \\leq X \\leq \\mu + \\alpha\\sigma)$.\n",
    "    - $\\mathbb{P}(\\mu-\\alpha\\sigma \\leq X \\leq \\mu + \\alpha\\sigma) = 0.5 $  \n",
    "    $1-(\\mathbb{P}(X \\geq \\mu+\\alpha\\sigma)+\\mathbb{P}(\\mu-*\\alpha\\sigma\\geq X)) = 0.5$   \n",
    "    $1-(2\\mathbb{P}(X \\leq \\mu -\\alpha\\sigma))=0.5$    \n",
    "    $1-(2\\Phi(\\frac{\\mu -\\alpha\\sigma -\\mu}{\\sigma}))=0.5$  \n",
    "    $1-(2\\Phi(\\alpha)) = 0.5$  \n",
    "    $2\\Phi(\\alpha)-1 = 0.5$  \n",
    "    $\\Phi(\\alpha) = 0.75$  \n",
    "    $\\alpha = 0.674$"
   ]
  },
  {
   "cell_type": "code",
   "execution_count": 43,
   "metadata": {},
   "outputs": [
    {
     "name": "stdout",
     "output_type": "stream",
     "text": [
      "0.6744897501960817\n"
     ]
    }
   ],
   "source": [
    "from scipy.stats import norm\n",
    "alpha = norm(0,1).ppf(3/4)\n",
    "print(alpha)"
   ]
  },
  {
   "cell_type": "markdown",
   "metadata": {},
   "source": [
    "- - 0.3.2. Esprimere $q_1$ e $q_3$ in funzione di $\\mu$ e $\\sigma$.\n",
    "    - $q_1 = \\mu - \\alpha\\sigma$  \n",
    "    $q_2 = \\mu + \\alpha\\sigma$\n",
    "  - 0.3.3. Fissati, solo in questo punto, $\\mu = 1$ e $\\sigma = 1$, tracciare un grafico indicativo della densità di probabilità di $X$. Su tale grafico si evidenzino $q_1$, $q_3$ e la probabilità $\\mathbb{P}(q_1≤X≤q_3)$."
   ]
  },
  {
   "cell_type": "code",
   "execution_count": 37,
   "metadata": {},
   "outputs": [
    {
     "name": "stdout",
     "output_type": "stream",
     "text": [
      "ℙ(𝑞1≤𝑋≤𝑞3) =  0.5\n"
     ]
    },
    {
     "data": {
      "image/png": "[encoded data removed]",
      "text/plain": [
       "<Figure size 432x288 with 1 Axes>"
      ]
     },
     "metadata": {
      "needs_background": "light"
     },
     "output_type": "display_data"
    }
   ],
   "source": [
    "import matplotlib.pyplot as plt\n",
    "import numpy as np\n",
    "\n",
    "fig,ax = plt.subplots(1,1)\n",
    "x = np.linspace(-5,5,100)\n",
    "q1 = norm(1,1).ppf(1/4)\n",
    "q3 = norm(1,1).ppf(3/4)\n",
    "y = norm(1,1).pdf(x)\n",
    "\n",
    "ax.plot([q1,q1],[0,norm(1,1).pdf(q1)], color=\"black\")\n",
    "ax.plot([q3,q3],[0,norm(1,1).pdf(q3)], color=\"black\")\n",
    "\n",
    "ax.set_xticks([q1,1,q3])\n",
    "ax.set_xticklabels([\"q1\",\"μ\",\"q3\"])\n",
    "\n",
    "plt.plot(x,y)\n",
    "\n",
    "print(\"ℙ(𝑞1≤𝑋≤𝑞3) = \",norm(1,1).cdf(q3)-norm(1,1).cdf(q1))"
   ]
  },
  {
   "cell_type": "markdown",
   "metadata": {},
   "source": [
    "- - 0.3.4. Controllare che la probabilità $\\mathbb{P}(\\mu - 2\\sigma \\leq X \\leq \\mu + 2\\sigma)$ che $X$ assuma valori in un intervallo di semi ampiezza $2\\sigma$ centrato su $\\mu$ è circa uguale a $0.95$.\n",
    "    - $\\mathbb{P}(\\mu - 2\\sigma \\leq X \\leq \\mu + 2\\sigma) = $  \n",
    "    $1-(2\\mathbb{P}(X\\leq\\mu-2\\sigma)) = $  \n",
    "    $1-(2\\Phi(-2)) = $  \n",
    "    $2\\Phi(2)-1 \\simeq 0.954$\n"
   ]
  },
  {
   "cell_type": "code",
   "execution_count": 42,
   "metadata": {},
   "outputs": [
    {
     "data": {
      "text/plain": [
       "0.9544997361036416"
      ]
     },
     "execution_count": 42,
     "metadata": {},
     "output_type": "execute_result"
    }
   ],
   "source": [
    "2*norm(0,1).cdf(2)-1"
   ]
  },
  {
   "cell_type": "markdown",
   "metadata": {},
   "source": [
    "- 0.4. Dato un campione casuale $X_1,...,X_n$ estratto da una popolazione $X$ normale di valore atteso $\\mu$ e deviazione standard $\\sigma$, fissati due valori $0<\\delta<1$ e $\\epsilon>0$, indicata con $\\bar{X}$ la media campionaria $\\frac{1}{n}\\sum_i X_i$, e indicata con $\\Phi$ la funzione di ripartizione della normale standard, si controlli che: $$\\mathbb{P}(|\\bar{X}-\\mu|\\leq\\epsilon)\\geq\\delta \\text{ è vera se } \\Phi(\\frac{\\epsilon\\sqrt{n}}{\\sigma})\\geq\\frac{1+\\delta}{2}$$\n",
    "  - Sia $\\frac{|\\bar{X}-\\mu|}{\\sigma/\\sqrt{n}} \\approx Y \\sim \\mathcal{N}(0,1)$  \n",
    "  $\\mathbb{P}(|\\bar{X}-\\mu|\\leq \\epsilon) \\geq \\delta = $  \n",
    "  $\\mathbb{P}(\\frac{|\\bar{X}-\\mu|}{\\sigma/\\sqrt{n}}\\leq\\epsilon)\\geq\\delta $  \n",
    "  $\\mathbb{P}(|Y|\\leq\\frac{\\epsilon\\sqrt{n}}{\\sigma})\\geq\\delta $  \n",
    "  $2\\Phi(\\frac{\\epsilon\\sqrt{n}}{\\sigma})-1 \\geq \\delta$  \n",
    "  $\\Phi(\\frac{\\epsilon\\sqrt{n}}{\\sigma}) \\geq \\frac{1+\\delta}{2}$"
   ]
  },
  {
   "cell_type": "code",
   "execution_count": 3,
   "metadata": {},
   "outputs": [
    {
     "data": {
      "text/html": [
       "<div>\n",
       "<style scoped>\n",
       "    .dataframe tbody tr th:only-of-type {\n",
       "        vertical-align: middle;\n",
       "    }\n",
       "\n",
       "    .dataframe tbody tr th {\n",
       "        vertical-align: top;\n",
       "    }\n",
       "\n",
       "    .dataframe thead th {\n",
       "        text-align: right;\n",
       "    }\n",
       "</style>\n",
       "<table border=\"1\" class=\"dataframe\">\n",
       "  <thead>\n",
       "    <tr style=\"text-align: right;\">\n",
       "      <th></th>\n",
       "      <th>Cartella</th>\n",
       "      <th>IP</th>\n",
       "      <th>GravitaIP</th>\n",
       "      <th>EtaAnni</th>\n",
       "      <th>MORTE</th>\n",
       "      <th>MC</th>\n",
       "      <th>SURVIVALTIME</th>\n",
       "      <th>Terapia</th>\n",
       "      <th>Antiaritmico</th>\n",
       "      <th>PesoKg</th>\n",
       "      <th>VTricuspide</th>\n",
       "      <th>AsxAo</th>\n",
       "      <th>OndaE</th>\n",
       "      <th>OndaEA</th>\n",
       "      <th>FrazEspuls</th>\n",
       "      <th>FrazAccorc</th>\n",
       "      <th>EDVI</th>\n",
       "      <th>ESVI</th>\n",
       "      <th>Allodiast</th>\n",
       "      <th>Allosist</th>\n",
       "    </tr>\n",
       "  </thead>\n",
       "  <tbody>\n",
       "    <tr>\n",
       "      <th>0</th>\n",
       "      <td>S0601</td>\n",
       "      <td>NO</td>\n",
       "      <td>0</td>\n",
       "      <td>10.35</td>\n",
       "      <td>0</td>\n",
       "      <td>NaN</td>\n",
       "      <td>0</td>\n",
       "      <td>2</td>\n",
       "      <td>NO</td>\n",
       "      <td>5.25</td>\n",
       "      <td>0.0</td>\n",
       "      <td>2.50</td>\n",
       "      <td>1.15</td>\n",
       "      <td>0.97</td>\n",
       "      <td>70.0</td>\n",
       "      <td>37.0</td>\n",
       "      <td>78.69</td>\n",
       "      <td>23.75</td>\n",
       "      <td>1.58</td>\n",
       "      <td>0.99</td>\n",
       "    </tr>\n",
       "    <tr>\n",
       "      <th>1</th>\n",
       "      <td>C0621</td>\n",
       "      <td>NO</td>\n",
       "      <td>0</td>\n",
       "      <td>15.21</td>\n",
       "      <td>1</td>\n",
       "      <td>1.0</td>\n",
       "      <td>341</td>\n",
       "      <td>3</td>\n",
       "      <td>NO</td>\n",
       "      <td>6.00</td>\n",
       "      <td>0.0</td>\n",
       "      <td>1.61</td>\n",
       "      <td>1.50</td>\n",
       "      <td>1.47</td>\n",
       "      <td>83.0</td>\n",
       "      <td>51.0</td>\n",
       "      <td>130.58</td>\n",
       "      <td>23.88</td>\n",
       "      <td>1.94</td>\n",
       "      <td>0.99</td>\n",
       "    </tr>\n",
       "    <tr>\n",
       "      <th>2</th>\n",
       "      <td>B0918</td>\n",
       "      <td>NO</td>\n",
       "      <td>0</td>\n",
       "      <td>15.77</td>\n",
       "      <td>1</td>\n",
       "      <td>1.0</td>\n",
       "      <td>117</td>\n",
       "      <td>3</td>\n",
       "      <td>NO</td>\n",
       "      <td>3.20</td>\n",
       "      <td>0.0</td>\n",
       "      <td>2.50</td>\n",
       "      <td>1.87</td>\n",
       "      <td>2.08</td>\n",
       "      <td>91.0</td>\n",
       "      <td>62.0</td>\n",
       "      <td>180.35</td>\n",
       "      <td>16.22</td>\n",
       "      <td>2.21</td>\n",
       "      <td>0.84</td>\n",
       "    </tr>\n",
       "    <tr>\n",
       "      <th>3</th>\n",
       "      <td>R1009</td>\n",
       "      <td>NO</td>\n",
       "      <td>0</td>\n",
       "      <td>13.54</td>\n",
       "      <td>1</td>\n",
       "      <td>1.0</td>\n",
       "      <td>93</td>\n",
       "      <td>4</td>\n",
       "      <td>SI</td>\n",
       "      <td>26.50</td>\n",
       "      <td>0.0</td>\n",
       "      <td>3.07</td>\n",
       "      <td>2.28</td>\n",
       "      <td>2.85</td>\n",
       "      <td>75.0</td>\n",
       "      <td>44.0</td>\n",
       "      <td>234.17</td>\n",
       "      <td>40.15</td>\n",
       "      <td>2.09</td>\n",
       "      <td>1.16</td>\n",
       "    </tr>\n",
       "    <tr>\n",
       "      <th>4</th>\n",
       "      <td>R1513</td>\n",
       "      <td>NO</td>\n",
       "      <td>0</td>\n",
       "      <td>10.72</td>\n",
       "      <td>0</td>\n",
       "      <td>NaN</td>\n",
       "      <td>666</td>\n",
       "      <td>3</td>\n",
       "      <td>NO</td>\n",
       "      <td>11.00</td>\n",
       "      <td>0.0</td>\n",
       "      <td>2.54</td>\n",
       "      <td>0.75</td>\n",
       "      <td>0.86</td>\n",
       "      <td>69.0</td>\n",
       "      <td>38.0</td>\n",
       "      <td>139.84</td>\n",
       "      <td>43.89</td>\n",
       "      <td>1.98</td>\n",
       "      <td>1.23</td>\n",
       "    </tr>\n",
       "  </tbody>\n",
       "</table>\n",
       "</div>"
      ],
      "text/plain": [
       "  Cartella  IP  GravitaIP  EtaAnni  MORTE   MC  SURVIVALTIME  Terapia  \\\n",
       "0    S0601  NO          0    10.35      0  NaN             0        2   \n",
       "1    C0621  NO          0    15.21      1  1.0           341        3   \n",
       "2    B0918  NO          0    15.77      1  1.0           117        3   \n",
       "3    R1009  NO          0    13.54      1  1.0            93        4   \n",
       "4    R1513  NO          0    10.72      0  NaN           666        3   \n",
       "\n",
       "  Antiaritmico  PesoKg  VTricuspide  AsxAo  OndaE  OndaEA  FrazEspuls  \\\n",
       "0           NO    5.25          0.0   2.50   1.15    0.97        70.0   \n",
       "1           NO    6.00          0.0   1.61   1.50    1.47        83.0   \n",
       "2           NO    3.20          0.0   2.50   1.87    2.08        91.0   \n",
       "3           SI   26.50          0.0   3.07   2.28    2.85        75.0   \n",
       "4           NO   11.00          0.0   2.54   0.75    0.86        69.0   \n",
       "\n",
       "   FrazAccorc    EDVI   ESVI  Allodiast  Allosist  \n",
       "0        37.0   78.69  23.75       1.58      0.99  \n",
       "1        51.0  130.58  23.88       1.94      0.99  \n",
       "2        62.0  180.35  16.22       2.21      0.84  \n",
       "3        44.0  234.17  40.15       2.09      1.16  \n",
       "4        38.0  139.84  43.89       1.98      1.23  "
      ]
     },
     "execution_count": 3,
     "metadata": {},
     "output_type": "execute_result"
    }
   ],
   "source": [
    "import pandas\n",
    "data = pandas.read_csv(\"cani.csv\",delimiter=\";\", decimal=\",\")\n",
    "data[:5]"
   ]
  },
  {
   "cell_type": "code",
   "execution_count": 8,
   "metadata": {},
   "outputs": [
    {
     "name": "stdout",
     "output_type": "stream",
     "text": [
      "161\n",
      "58\n"
     ]
    }
   ],
   "source": [
    "print(len(data)) # 1.1\n",
    "print(len(data.loc[data.IP == \"SI\",])) # 1.2 "
   ]
  },
  {
   "cell_type": "markdown",
   "metadata": {},
   "source": [
    "- 1.1. Quanti sono i cani seguiti dall’ambulatorio?\n",
    "  - $161$\n",
    "- 1.2. Quanti cani soffrono di ipertensione?\n",
    "  - $58$\n",
    "- 1.3. Consideriamo ora l’età dei pazienti.\n",
    "  - 1.3.1. Tracciare un istogramma dell’età dei cani con i seguenti accorgimenti:\n",
    "    - fissando a un anno l’ampiezza delle classi\n",
    "    - considerando gli intervalli chiusi a sinistra e aperti a destra."
   ]
  },
  {
   "cell_type": "code",
   "execution_count": 9,
   "metadata": {},
   "outputs": [
    {
     "data": {
      "image/png": "[encoded data removed]",
      "text/plain": [
       "<Figure size 432x288 with 1 Axes>"
      ]
     },
     "metadata": {
      "needs_background": "light"
     },
     "output_type": "display_data"
    }
   ],
   "source": [
    "import math\n",
    "import matplotlib.pyplot as plt\n",
    "age_min = min(data.EtaAnni.apply(math.floor))\n",
    "age_max = max(data.EtaAnni.apply(math.floor))+1\n",
    "plt0 = data.EtaAnni.hist(bins=range(age_min,age_max), align=\"left\", grid=True,)\n",
    "plt0 = plt0.set_xticks(list(range(0,16)))"
   ]
  },
  {
   "cell_type": "markdown",
   "metadata": {},
   "source": [
    "- - 1.3.2. Descrivere l’età dei pazienti compilando la Tabella 1, in cui scegliere un opportunoindice di centralità e un opportuno indice di dispersione."
   ]
  },
  {
   "cell_type": "code",
   "execution_count": 10,
   "metadata": {},
   "outputs": [
    {
     "name": "stdout",
     "output_type": "stream",
     "text": [
      "min    : 1.22\n",
      "median : 12.55\n",
      "IQR    : 3.17\n",
      "max    : 16.84\n"
     ]
    }
   ],
   "source": [
    "print(\"min    :\", data.EtaAnni.min())\n",
    "print(\"median :\", data.EtaAnni.median())\n",
    "print(\"IQR    :\", data.EtaAnni.quantile(0.75)-data.EtaAnni.quantile(0.25))\n",
    "print(\"max    :\", data.EtaAnni.max())"
   ]
  },
  {
   "cell_type": "markdown",
   "metadata": {},
   "source": [
    "- - 1.3.3. Quanti sono i pazienti di età compresa nell’intervallo tra i 12 e i 13 anni, estremoinferiore incluso ed estremo superiore escluso ?\n",
    "  - 1.3.4. Quanti anni ha il cane più anziano?\n",
    "  - 1.3.5. Qual è la fascia di età maggiormente rappresentata?"
   ]
  },
  {
   "cell_type": "code",
   "execution_count": null,
   "metadata": {},
   "outputs": [],
   "source": [
    "print(\"1.3.3:\",data.loc[(data.EtaAnni < 13) & (data.EtaAnni >= 12),:].__len__())\n",
    "print(\"1.3.4:\",data.EtaAnni.max())\n",
    "print(\"1.3.5:\",\"[12,13)\")"
   ]
  },
  {
   "cell_type": "markdown",
   "metadata": {},
   "source": [
    "- 4. Consideriamo le variabili MORTE e MC.\n",
    "  - 4.1. Quanti cani sono deceduti?"
   ]
  },
  {
   "cell_type": "code",
   "execution_count": 12,
   "metadata": {},
   "outputs": [
    {
     "name": "stdout",
     "output_type": "stream",
     "text": [
      "118\n"
     ]
    }
   ],
   "source": [
    "print(len(data.loc[data.MORTE == 1,:]))"
   ]
  },
  {
   "cell_type": "markdown",
   "metadata": {},
   "source": [
    "- - 4.2. Nell’inserire le informazioni riguardo a un cane deceduto, l’operatore ha sempre specificato se la morte è avvenuta per cause cardiache o per altre cause?  Se la risposta è \"no\", in quanti casi (sempre relativamente ai cani deceduti) l’operatore ha omesso tale informazione?"
   ]
  },
  {
   "cell_type": "code",
   "execution_count": 13,
   "metadata": {},
   "outputs": [
    {
     "data": {
      "text/plain": [
       "46"
      ]
     },
     "execution_count": 13,
     "metadata": {},
     "output_type": "execute_result"
    }
   ],
   "source": [
    "data.loc[pandas.isna(data.MC), ].__len__()"
   ]
  },
  {
   "cell_type": "markdown",
   "metadata": {},
   "source": [
    "- - 1.4.3. Controllare che non ci siano nei dati incongruenze riguardo alla morte, ovvero che non ci siano casi per i quali il cane risulta vivo ma morto di morte cardiaca."
   ]
  },
  {
   "cell_type": "code",
   "execution_count": 16,
   "metadata": {},
   "outputs": [
    {
     "data": {
      "text/plain": [
       "0"
      ]
     },
     "execution_count": 16,
     "metadata": {},
     "output_type": "execute_result"
    }
   ],
   "source": [
    "data.loc[(~ pandas.isna(data.MC)) & (data.MC == 1) & (data.MORTE == 0),:].__len__()"
   ]
  },
  {
   "cell_type": "markdown",
   "metadata": {},
   "source": [
    "- - 1.4.4. Quanti cani sono deceduti per cause cardiache?"
   ]
  },
  {
   "cell_type": "code",
   "execution_count": 17,
   "metadata": {},
   "outputs": [
    {
     "data": {
      "text/plain": [
       "87"
      ]
     },
     "execution_count": 17,
     "metadata": {},
     "output_type": "execute_result"
    }
   ],
   "source": [
    "sum(data.MC.dropna() == 1)"
   ]
  },
  {
   "cell_type": "markdown",
   "metadata": {},
   "source": [
    "- - 1.4.5. Tra le morti avvenute, quale percentuale è stata per cause cardiache?"
   ]
  },
  {
   "cell_type": "code",
   "execution_count": 18,
   "metadata": {},
   "outputs": [
    {
     "name": "stdout",
     "output_type": "stream",
     "text": [
      "75.65217391304348%\n"
     ]
    }
   ],
   "source": [
    "casi_favorevoli = data.loc[(~ pandas.isna(data.MC)) & (data.MC == 1)   ,:].__len__()\n",
    "casi_totali     = data.loc[(~ pandas.isna(data.MC)) & (data.MORTE == 1),:].__len__()\n",
    "print(casi_favorevoli*100/casi_totali,\"%\",sep=\"\")"
   ]
  },
  {
   "cell_type": "markdown",
   "metadata": {},
   "source": [
    "- 1.5. La variabileGravita IP è un indice di gravità dell’ipertensione.\n",
    "  - 1.5.1. Si tratta di un carattere scalare, ordinale oppure nominale?\n",
    "    - ordinale\n",
    "  - 1.5.2. Quali valori può assumere?\n",
    "    - $\\{0,1,2,3\\}$\n",
    "  - 1.5.3. Produrre la tabella delle frequenze relative di Gravita IP.\n",
    "  "
   ]
  },
  {
   "cell_type": "code",
   "execution_count": 21,
   "metadata": {},
   "outputs": [
    {
     "data": {
      "text/plain": [
       "0    0.639752\n",
       "1    0.180124\n",
       "2    0.111801\n",
       "3    0.068323\n",
       "Name: GravitaIP, dtype: float64"
      ]
     },
     "execution_count": 21,
     "metadata": {},
     "output_type": "execute_result"
    }
   ],
   "source": [
    "relative_freq = data.GravitaIP.value_counts()/sum(data.GravitaIP.value_counts())\n",
    "relative_freq"
   ]
  },
  {
   "cell_type": "markdown",
   "metadata": {},
   "source": [
    "- 1.5.4. Tracciare un grafico opportuno per descrivere la gravità dell’ipertensione."
   ]
  },
  {
   "cell_type": "code",
   "execution_count": 22,
   "metadata": {},
   "outputs": [
    {
     "data": {
      "image/png": "[encoded data removed]",
      "text/plain": [
       "<Figure size 1080x360 with 2 Axes>"
      ]
     },
     "metadata": {
      "needs_background": "light"
     },
     "output_type": "display_data"
    }
   ],
   "source": [
    "fig, ax = plt.subplots(nrows=1, ncols=2)\n",
    "fig.set_size_inches(15,5)\n",
    "relative_freq.index = list(relative_freq.apply(lambda x: str(x)[:6]))\n",
    "plt0 = relative_freq.plot.pie(ax = ax[0])\n",
    "plt0 = plt0.legend([\"0\",\"1\",\"2\",\"3\"])\n",
    "\n",
    "relative_freq.index = [\"0\",\"1\",\"2\",\"3\"]\n",
    "plt1 = relative_freq.plot.bar(ax = ax[1])\n",
    "plt1 = plt1.legend()"
   ]
  },
  {
   "cell_type": "markdown",
   "metadata": {},
   "source": [
    "- 1.6. Consideriamo l’assunzione di farmaci antiaritmici e la morte per cause cardiache.\n",
    "  - 1.6.1. Produrre la tabella delle frequenze assolute del carattere Antiaritmico.\n",
    "  - 1.6.2. Quanti sono i cani che assumono un farmaco antiaritmico?\n",
    "  - 1.6.3. Il carattere Antiaritmico è categorico. Volendolo convertire in un carattere numerico,con quale valore numerico mettereste in corrispondenza valore\"SI\"? Con quale il\"NO\"?\n",
    "  - 1.6.4. Produrre la tabella delle frequenze assolute congiunte dei caratteri Antiaritmico e MC.\n",
    "  - 1.6.5. Quale percentuale dei cani morti per cause cardiache assumeva un farmaco antiaritmico?"
   ]
  },
  {
   "cell_type": "code",
   "execution_count": 28,
   "metadata": {},
   "outputs": [
    {
     "name": "stdout",
     "output_type": "stream",
     "text": [
      "===============1.6.1===============\n",
      "NO    150\n",
      "SI     11\n",
      "Name: Antiaritmico, dtype: int64\n",
      "===============1.6.2===============\n",
      "11\n",
      "===============1.6.3===============\n",
      "1 e 0 sembrano una buona soluzione\n",
      "===============1.6.4===============\n",
      "===============1.6.5===============\n",
      "10.344827586206897 %\n"
     ]
    }
   ],
   "source": [
    "print(\"=\"*15 + \"1.6.1\" + \"=\"*15)\n",
    "print(data.Antiaritmico.value_counts())\n",
    "print(\"=\"*15 + \"1.6.2\" + \"=\"*15)\n",
    "print(len(data.loc[data.Antiaritmico == \"SI\",:]))\n",
    "print(\"=\"*15 + \"1.6.3\" + \"=\"*15)\n",
    "print(\"1 e 0 sembrano una buona soluzione\")\n",
    "print(\"=\"*15 + \"1.6.4\" + \"=\"*15)\n",
    "frequenze_congiunte = pandas.crosstab(data.Antiaritmico,data.MC) \n",
    "frequenze_congiunte\n",
    "print(\"=\"*15 + \"1.6.5\" + \"=\"*15)\n",
    "casi_totali     = sum(frequenze_congiunte.loc[:,1])\n",
    "casi_favorevoli = frequenze_congiunte.loc[\"SI\",1]\n",
    "print(casi_favorevoli*100/casi_totali,\"%\")"
   ]
  },
  {
   "cell_type": "markdown",
   "metadata": {},
   "source": [
    "- 1.7. Il carattere SURVIVALTIME (tempo di sopravvivenza) ci dice per quanti giorni il paziente è rimasto in vita a partire dalla prima visita presso l’ambulatorio. Come mostrato nei grafici di Figura 1, la distribuzione delle frequenze del tempo di sopravvivenza haun aspetto molto diverso se si considera rispetto ai cani ancora in vita oppure a quelli morti. Potete rispondere alle seguenti due domande semplicemente ispezionando i grafici di Figura 1, considerando un anno costituito da 365 giorni.\n",
    "  - 1.7.1. Quale percentuale di cani tuttora vivi è in cura presso l’ambulatorio da menodi un anno?"
   ]
  },
  {
   "cell_type": "code",
   "execution_count": 29,
   "metadata": {},
   "outputs": [
    {
     "name": "stdout",
     "output_type": "stream",
     "text": [
      "65.11627906976744 %\n"
     ]
    }
   ],
   "source": [
    "casi_favorevoli = len(data.loc[(data.MORTE==0) & (data.SURVIVALTIME <= 365),\"SURVIVALTIME\"])\n",
    "casi_totali     = len(data.loc[data.MORTE==0,\"SURVIVALTIME\"])\n",
    "print(casi_favorevoli*100/casi_totali,\"%\")"
   ]
  },
  {
   "cell_type": "markdown",
   "metadata": {},
   "source": [
    "- - 1.7.2. Quale percentuale di cani deceduti è sopravvissuta più di 3 anni?"
   ]
  },
  {
   "cell_type": "code",
   "execution_count": 30,
   "metadata": {},
   "outputs": [
    {
     "name": "stdout",
     "output_type": "stream",
     "text": [
      "10.169491525423728 %\n"
     ]
    }
   ],
   "source": [
    "casi_favorevoli = data.loc[(data.MORTE == 1) & (data.SURVIVALTIME > 365*3), :].__len__()\n",
    "casi_totali     = data.loc[data.MORTE == 1, :].__len__()\n",
    "print(casi_favorevoli*100/casi_totali,\"%\")"
   ]
  },
  {
   "cell_type": "markdown",
   "metadata": {},
   "source": [
    "## Esercizio 2\n",
    "- 2.1. Tracciare un grafico opportuno per descrivere il tempo di sopravvivenza."
   ]
  },
  {
   "cell_type": "code",
   "execution_count": 31,
   "metadata": {},
   "outputs": [
    {
     "data": {
      "image/png": "[encoded data removed]",
      "text/plain": [
       "<Figure size 1080x360 with 2 Axes>"
      ]
     },
     "metadata": {
      "needs_background": "light"
     },
     "output_type": "display_data"
    }
   ],
   "source": [
    "fig, ax = plt.subplots(nrows=1, ncols=2)\n",
    "fig.set_size_inches(15,5)\n",
    "plt0 = data.SURVIVALTIME.hist(bins=range(0,3000)[0:3000:365], ax=ax[0])\n",
    "plt1 = data.SURVIVALTIME.plot.box(ax=ax[1])"
   ]
  },
  {
   "cell_type": "markdown",
   "metadata": {},
   "source": [
    "- 2.2. Calcolare una stima del tempo di sopravvivenza atteso\n",
    "  - la distribuzione sembra essere esponenziale quindi usiamo, come al solito, la media campionaria"
   ]
  },
  {
   "cell_type": "code",
   "execution_count": 32,
   "metadata": {},
   "outputs": [
    {
     "data": {
      "text/plain": [
       "459.888198757764"
      ]
     },
     "execution_count": 32,
     "metadata": {},
     "output_type": "execute_result"
    }
   ],
   "source": [
    "data.SURVIVALTIME.mean()"
   ]
  },
  {
   "cell_type": "markdown",
   "metadata": {},
   "source": [
    "- 2.3. Esprimere, in funzione di $X_1,...,X_n$, lo stimatore $T_n$ utilizzato per eseguire la stima del punto precedente. \n",
    "  - $T_n = \\frac{1}{n}\\sum_{i=1}^n X_i$\n",
    "- 2.4. Tale stimatore è non distorto? Si giustifichi la risposta.\n",
    "  - $\\mu_{T_n} = \\mathbb{E}[T_n] = \\mathbb{E}[\\frac{1}{n}\\sum_{i=1}^{n} X_i] = \\frac{1}{n}\\sum_{i=1}^{n}\\mathbb{E}[X_i] = \\frac{1}{n}n\\mathbb{E}[X] = \\mathbb{E}[X] = \\mu_X$\n",
    "- 2.5. Esprimere, in funzione di $n$ e della deviazione standard $\\sigma$ della relativa popolazione, la deviazione standard di $T_n$.\n",
    "  - $\\sigma_{T_n}^2 = \\mathbb{V}[T_n] = \\mathbb{V}[\\frac{1}{n}\\sum_{i=1}^{n} X_i] = \\frac{1}{n^2}n\\mathbb{V}[X] = \\frac{1}{n}\\sigma_X^2$\n",
    "    $\\sigma_{T_n} = \\frac{1}{\\sqrt{n}}\\sigma_X$\n",
    "- 2.6. Calcolare una stima della deviazione standard del tempo di sopravvivenza.\n",
    "  - usiamo lo stimatore non distorto della deviazione std. $\\sqrt{\\frac{\\sum_i (x_i - \\bar{x})^2}{n-1}}$ dove $\\bar{x}$ è la media campionaria."
   ]
  },
  {
   "cell_type": "code",
   "execution_count": 50,
   "metadata": {},
   "outputs": [
    {
     "name": "stdout",
     "output_type": "stream",
     "text": [
      "467.1967063479367\n",
      "467.19670634793675\n"
     ]
    }
   ],
   "source": [
    "sample_mean = data.SURVIVALTIME.dropna().mean()\n",
    "n = len(data.SURVIVALTIME.dropna())\n",
    "\n",
    "# .std() calcola la stima della deviazione standard e non la deviazione standard, che comunque è quello che vogliamo di solito!\n",
    "print((sum([(x-sample_mean)**2 for x in data.SURVIVALTIME.dropna()])/(n-1))**0.5)\n",
    "print(data.SURVIVALTIME.dropna().std())\n"
   ]
  },
  {
   "cell_type": "markdown",
   "metadata": {},
   "source": [
    "- 1.7. Determinare un numero di osservazioni sufficiente affinché, nella stima del tempo di sopravvivenza atteso, si compia un errore al più di due mesi (60 giorni) con probabilità almeno uguale a 0.9.\n",
    "  - $\\mathbb{P}(|T_n - \\mu_{T_n}|\\leq 60)\\geq 0.9$  \n",
    "  $\\mathbb{P}(|T_n - \\mu_{X}|\\leq 60)\\geq 0.9$  \n",
    "  $\\mathbb{P}(|\\frac{T_n - \\mu_{X}}{\\sigma_X/\\sqrt{n}}|\\leq \\frac{60\\sqrt{n}}{\\sigma_x})\\geq 0.9$  \n",
    "  Sappiamo che $\\frac{T_n - \\mu_{X}}{\\sigma_X/\\sqrt{n}} \\approx Y \\sim \\mathcal{N}(0,1)$  \n",
    "  $\\mathbb{P}(|Y|\\leq \\frac{60\\sqrt{n}}{\\sigma_x})\\geq 0.9$  \n",
    "  $1-(2\\Phi(\\frac{-60\\sqrt{n}}{\\sigma_X}))\\geq 0.9$  \n",
    "  $\\Phi(\\frac{60\\sqrt{n}}{\\sigma_X})\\geq 19/20$  \n",
    "  $\\Phi^{-1}(\\frac{19}{20})\\leq \\frac{60\\sqrt{n}}{\\sigma_X}$  \n",
    "  $\\frac{\\sigma_X\\Phi^{-1}(\\frac{19}{20})}{60} \\leq \\sqrt{n}$  \n",
    "  $n \\geq (\\frac{\\sigma_X\\Phi^{-1}(\\frac{19}{20})}{60})^2$"
   ]
  },
  {
   "cell_type": "code",
   "execution_count": 62,
   "metadata": {},
   "outputs": [
    {
     "data": {
      "text/plain": [
       "164.04067877198332"
      ]
     },
     "execution_count": 62,
     "metadata": {},
     "output_type": "execute_result"
    }
   ],
   "source": [
    "from scipy import stats\n",
    "q = stats.norm(0,1).ppf(19/20)\n",
    "((data.SURVIVALTIME.dropna().std()*q)/60)**2"
   ]
  },
  {
   "cell_type": "markdown",
   "metadata": {},
   "source": [
    "- 1.8. Qual è la taglia $n$ del nostro campione? Tale valore è sufficiente a garantire le condizioni richieste al punto precedente? Si giustifichi la risposta.\n",
    "  - $n = 161$, $n$ è di poco inferiore insufficiente a garantire le condizione richieste.\n",
    "- 1.9. Proporre uno stimatore del tempo di sopravvivenza atteso, espresso in anni.\n",
    "  - $\\hat{T_n} = T_n/365$\n",
    "- 1.10 Lo stimatore proposto al punto precedente è non distorto? Si giustifichi la risposta.\n",
    "  - $\\mathbb{E}[\\hat{T}_n] = \\mathbb{E}[\\frac{1}{365n}\\sum_{i=1}^{n} X_i] = \\mathbb{E}[X/365]$\n",
    "  che è non distorto rispetto alla v.a. $Z=X/365$\n",
    "- 1.11. Calcolare una stima del tempo di sopravvivenza atteso, espresso in anni."
   ]
  },
  {
   "cell_type": "code",
   "execution_count": 63,
   "metadata": {},
   "outputs": [
    {
     "data": {
      "text/plain": [
       "1.2599676678294904"
      ]
     },
     "execution_count": 63,
     "metadata": {},
     "output_type": "execute_result"
    }
   ],
   "source": [
    "data.SURVIVALTIME.dropna().mean()/365"
   ]
  },
  {
   "cell_type": "markdown",
   "metadata": {},
   "source": [
    "## Esercizio 3\n",
    "- 3.1. I caratteri EDVI e Allodiast sono indipendenti? Motivare la risposta, anche con l’ausilio di un grafico."
   ]
  },
  {
   "cell_type": "code",
   "execution_count": 64,
   "metadata": {},
   "outputs": [
    {
     "data": {
      "text/html": [
       "<div>\n",
       "<style scoped>\n",
       "    .dataframe tbody tr th:only-of-type {\n",
       "        vertical-align: middle;\n",
       "    }\n",
       "\n",
       "    .dataframe tbody tr th {\n",
       "        vertical-align: top;\n",
       "    }\n",
       "\n",
       "    .dataframe thead th {\n",
       "        text-align: right;\n",
       "    }\n",
       "</style>\n",
       "<table border=\"1\" class=\"dataframe\">\n",
       "  <thead>\n",
       "    <tr style=\"text-align: right;\">\n",
       "      <th></th>\n",
       "      <th>EDVI</th>\n",
       "      <th>Allodiast</th>\n",
       "    </tr>\n",
       "  </thead>\n",
       "  <tbody>\n",
       "    <tr>\n",
       "      <th>EDVI</th>\n",
       "      <td>1.000000</td>\n",
       "      <td>0.907304</td>\n",
       "    </tr>\n",
       "    <tr>\n",
       "      <th>Allodiast</th>\n",
       "      <td>0.907304</td>\n",
       "      <td>1.000000</td>\n",
       "    </tr>\n",
       "  </tbody>\n",
       "</table>\n",
       "</div>"
      ],
      "text/plain": [
       "               EDVI  Allodiast\n",
       "EDVI       1.000000   0.907304\n",
       "Allodiast  0.907304   1.000000"
      ]
     },
     "execution_count": 64,
     "metadata": {},
     "output_type": "execute_result"
    },
    {
     "data": {
      "image/png": "[encoded data removed]",
      "text/plain": [
       "<Figure size 432x288 with 1 Axes>"
      ]
     },
     "metadata": {
      "needs_background": "light"
     },
     "output_type": "display_data"
    }
   ],
   "source": [
    "plt0 = data.plot.scatter(\"EDVI\",\"Allodiast\")\n",
    "data.loc[:, [\"EDVI\",\"Allodiast\"]].corr()"
   ]
  },
  {
   "cell_type": "markdown",
   "metadata": {},
   "source": [
    "- - non si direbbero indipendenti, all'aumentare di uno aumenta anche l'altro.\n",
    "- 3.2. Con l’ausilio di uno o più grafici e del valore degli indici descrittivi che conoscete, commentate l’affermazione: \"La variabile Allodiast segue una legge normale\"."
   ]
  },
  {
   "cell_type": "code",
   "execution_count": 77,
   "metadata": {},
   "outputs": [
    {
     "name": "stdout",
     "output_type": "stream",
     "text": [
      "2.013354037267081\n",
      "2.0\n"
     ]
    },
    {
     "data": {
      "image/png": "[encoded data removed]",
      "text/plain": [
       "<Figure size 432x288 with 1 Axes>"
      ]
     },
     "metadata": {
      "needs_background": "light"
     },
     "output_type": "display_data"
    },
    {
     "data": {
      "image/png": "[encoded data removed]",
      "text/plain": [
       "<Figure size 432x288 with 1 Axes>"
      ]
     },
     "metadata": {
      "needs_background": "light"
     },
     "output_type": "display_data"
    }
   ],
   "source": [
    "import statsmodels.api as sm \n",
    "\n",
    "data.Allodiast.hist()\n",
    "print(data.Allodiast.dropna().mean())\n",
    "print(data.Allodiast.dropna().median())\n",
    "plt = sm.qqplot(data.Allodiast, fit=True, line=\"45\")"
   ]
  },
  {
   "cell_type": "markdown",
   "metadata": {},
   "source": [
    "- - A giudicare dall'istogramma si direbbe abbastanza simile ad una campana simmetrica con una leggera divergenza nelle code.  \n",
    "  - media e mediana sono praticamente uguali (il che è vero per v.a. normali)\n",
    "  - il qqplot mosta che la nostra distribuzione si adagia molto bene ad una normale.\n",
    "- 3.4. Verificare se le osservazioni di Allodiast sono coerenti con la proprietà al punto 3.4. dell’esercizio 0."
   ]
  },
  {
   "cell_type": "code",
   "execution_count": 82,
   "metadata": {},
   "outputs": [
    {
     "data": {
      "text/plain": [
       "0.9627329192546583"
      ]
     },
     "execution_count": 82,
     "metadata": {},
     "output_type": "execute_result"
    }
   ],
   "source": [
    "from statsmodels.distributions.empirical_distribution import ECDF\n",
    "\n",
    "mu = data.Allodiast.dropna().mean()\n",
    "sigma = data.Allodiast.dropna().std()\n",
    "ecdf = ECDF(data.Allodiast.dropna())\n",
    "ecdf(mu+2*sigma)-ecdf(mu-2*sigma)"
   ]
  },
  {
   "cell_type": "markdown",
   "metadata": {},
   "source": [
    "il che è molto vicino a $0.95$"
   ]
  }
 ],
 "metadata": {
  "kernelspec": {
   "display_name": "Python 3",
   "language": "python",
   "name": "python3"
  },
  "language_info": {
   "codemirror_mode": {
    "name": "ipython",
    "version": 3
   },
   "file_extension": ".py",
   "mimetype": "text/x-python",
   "name": "python",
   "nbconvert_exporter": "python",
   "pygments_lexer": "ipython3",
   "version": "3.8.2"
  }
 },
 "nbformat": 4,
 "nbformat_minor": 4
}
