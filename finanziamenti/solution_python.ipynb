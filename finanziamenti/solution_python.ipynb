{
 "cells": [
  {
   "cell_type": "code",
   "execution_count": 1,
   "metadata": {},
   "outputs": [
    {
     "data": {
      "text/html": [
       "<div>\n",
       "<style scoped>\n",
       "    .dataframe tbody tr th:only-of-type {\n",
       "        vertical-align: middle;\n",
       "    }\n",
       "\n",
       "    .dataframe tbody tr th {\n",
       "        vertical-align: top;\n",
       "    }\n",
       "\n",
       "    .dataframe thead th {\n",
       "        text-align: right;\n",
       "    }\n",
       "</style>\n",
       "<table border=\"1\" class=\"dataframe\">\n",
       "  <thead>\n",
       "    <tr style=\"text-align: right;\">\n",
       "      <th></th>\n",
       "      <th>id</th>\n",
       "      <th>TemaPrioritario</th>\n",
       "      <th>FONTE</th>\n",
       "      <th>CodiceCategoria</th>\n",
       "      <th>CATEGORIA</th>\n",
       "      <th>UNITA</th>\n",
       "      <th>FinProvincia</th>\n",
       "      <th>FinRegione</th>\n",
       "      <th>TotSpese</th>\n",
       "    </tr>\n",
       "  </thead>\n",
       "  <tbody>\n",
       "    <tr>\n",
       "      <th>0</th>\n",
       "      <td>4</td>\n",
       "      <td>5</td>\n",
       "      <td>Compet. per le imprese</td>\n",
       "      <td>18</td>\n",
       "      <td>TECNOLOGIE INFORMATICHE</td>\n",
       "      <td>ASSISI</td>\n",
       "      <td>22356.25</td>\n",
       "      <td>22356.25</td>\n",
       "      <td>83037.5</td>\n",
       "    </tr>\n",
       "    <tr>\n",
       "      <th>1</th>\n",
       "      <td>38</td>\n",
       "      <td>5</td>\n",
       "      <td>Compet. per le imprese</td>\n",
       "      <td>40</td>\n",
       "      <td>OPERE E INFRASTRUTTURE PER LA RICERCA</td>\n",
       "      <td>ASSISI</td>\n",
       "      <td>99750.00</td>\n",
       "      <td>99750.00</td>\n",
       "      <td>370500.0</td>\n",
       "    </tr>\n",
       "    <tr>\n",
       "      <th>2</th>\n",
       "      <td>39</td>\n",
       "      <td>11</td>\n",
       "      <td>Agenda digitale</td>\n",
       "      <td>40</td>\n",
       "      <td>OPERE E INFRASTRUTTURE PER LA RICERCA</td>\n",
       "      <td>ASSISI</td>\n",
       "      <td>3802.90</td>\n",
       "      <td>3802.90</td>\n",
       "      <td>18423.2</td>\n",
       "    </tr>\n",
       "    <tr>\n",
       "      <th>3</th>\n",
       "      <td>43</td>\n",
       "      <td>4</td>\n",
       "      <td>Ricerca e innovazione</td>\n",
       "      <td>18</td>\n",
       "      <td>TECNOLOGIE INFORMATICHE</td>\n",
       "      <td>ASSISI</td>\n",
       "      <td>193020.00</td>\n",
       "      <td>193020.00</td>\n",
       "      <td>474360.0</td>\n",
       "    </tr>\n",
       "    <tr>\n",
       "      <th>4</th>\n",
       "      <td>73</td>\n",
       "      <td>6</td>\n",
       "      <td>Ricerca e innovazione</td>\n",
       "      <td>39</td>\n",
       "      <td>OPERE, IMPIANTI ED ATTREZZATURE PER ATTIVITA' ...</td>\n",
       "      <td>ASSISI</td>\n",
       "      <td>10688.70</td>\n",
       "      <td>10688.70</td>\n",
       "      <td>NaN</td>\n",
       "    </tr>\n",
       "    <tr>\n",
       "      <th>5</th>\n",
       "      <td>106</td>\n",
       "      <td>6</td>\n",
       "      <td>Ricerca e innovazione</td>\n",
       "      <td>39</td>\n",
       "      <td>OPERE, IMPIANTI ED ATTREZZATURE PER ATTIVITA' ...</td>\n",
       "      <td>ASSISI</td>\n",
       "      <td>13060.00</td>\n",
       "      <td>13060.00</td>\n",
       "      <td>NaN</td>\n",
       "    </tr>\n",
       "  </tbody>\n",
       "</table>\n",
       "</div>"
      ],
      "text/plain": [
       "    id  TemaPrioritario                   FONTE  CodiceCategoria  \\\n",
       "0    4                5  Compet. per le imprese               18   \n",
       "1   38                5  Compet. per le imprese               40   \n",
       "2   39               11         Agenda digitale               40   \n",
       "3   43                4   Ricerca e innovazione               18   \n",
       "4   73                6   Ricerca e innovazione               39   \n",
       "5  106                6   Ricerca e innovazione               39   \n",
       "\n",
       "                                           CATEGORIA   UNITA  FinProvincia  \\\n",
       "0                            TECNOLOGIE INFORMATICHE  ASSISI      22356.25   \n",
       "1              OPERE E INFRASTRUTTURE PER LA RICERCA  ASSISI      99750.00   \n",
       "2              OPERE E INFRASTRUTTURE PER LA RICERCA  ASSISI       3802.90   \n",
       "3                            TECNOLOGIE INFORMATICHE  ASSISI     193020.00   \n",
       "4  OPERE, IMPIANTI ED ATTREZZATURE PER ATTIVITA' ...  ASSISI      10688.70   \n",
       "5  OPERE, IMPIANTI ED ATTREZZATURE PER ATTIVITA' ...  ASSISI      13060.00   \n",
       "\n",
       "   FinRegione  TotSpese  \n",
       "0    22356.25   83037.5  \n",
       "1    99750.00  370500.0  \n",
       "2     3802.90   18423.2  \n",
       "3   193020.00  474360.0  \n",
       "4    10688.70       NaN  \n",
       "5    13060.00       NaN  "
      ]
     },
     "execution_count": 1,
     "metadata": {},
     "output_type": "execute_result"
    }
   ],
   "source": [
    "import pandas\n",
    "data = pandas.read_csv(\"finanziamenti.csv\", sep=\";\", decimal=\",\")\n",
    "data.loc[:5,:]"
   ]
  },
  {
   "cell_type": "code",
   "execution_count": 1,
   "metadata": {},
   "outputs": [
    {
     "ename": "NameError",
     "evalue": "name 'array' is not defined",
     "output_type": "error",
     "traceback": [
      "\u001b[0;31m---------------------------------------------------------------------------\u001b[0m",
      "\u001b[0;31mNameError\u001b[0m                                 Traceback (most recent call last)",
      "\u001b[0;32m<ipython-input-1-84499539b987>\u001b[0m in \u001b[0;36m<module>\u001b[0;34m()\u001b[0m\n\u001b[0;32m----> 1\u001b[0;31m \u001b[0marray\u001b[0m\u001b[0;34m(\u001b[0m\u001b[0mdim\u001b[0m\u001b[0;34m=\u001b[0m\u001b[0mc\u001b[0m\u001b[0;34m(\u001b[0m\u001b[0;36m3\u001b[0m\u001b[0;34m,\u001b[0m\u001b[0;36m3\u001b[0m\u001b[0;34m,\u001b[0m\u001b[0;36m3\u001b[0m\u001b[0;34m)\u001b[0m\u001b[0;34m)\u001b[0m\u001b[0;34m\u001b[0m\u001b[0;34m\u001b[0m\u001b[0m\n\u001b[0m",
      "\u001b[0;31mNameError\u001b[0m: name 'array' is not defined"
     ]
    }
   ],
   "source": [
    "array(dim=c(3,3,3))"
   ]
  },
  {
   "cell_type": "markdown",
   "metadata": {},
   "source": [
    "1. Il carattere CodiceCategoria è nominale, ordinale o scalare? Giustificate la risposta.\n",
    "        è nominale pur essendo codificato come un intero in quando rappresenta una categoria.\n",
    "\n",
    "2. Calcolate la tabella delle frequenze assolute del carattere UNITA."
   ]
  },
  {
   "cell_type": "code",
   "execution_count": 2,
   "metadata": {},
   "outputs": [
    {
     "name": "stdout",
     "output_type": "stream",
     "text": [
      "PERUGIA                 1005\n",
      "TERNI                    638\n",
      "FOLIGNO                  449\n",
      "CITTA DI CASTELLO        288\n",
      "SLL NON ATTRIBUIBILE     255\n",
      "ASSISI                   243\n",
      "SPOLETO                  186\n",
      "UMBERTIDE                124\n",
      "TODI                     117\n",
      "GUBBIO                    76\n",
      "CASTIGLIONE DEL L         75\n",
      "GUALDO TADINO             75\n",
      "ORVIETO                   60\n",
      "CHIUSI                    30\n",
      "NORCIA                    28\n",
      "CASCIA                    13\n",
      "SLL MULTIPLO               5\n",
      "CORTONA                    1\n",
      "Name: UNITA, dtype: int64\n"
     ]
    }
   ],
   "source": [
    "freqs = data.UNITA.value_counts()\n",
    "print(freqs)"
   ]
  },
  {
   "cell_type": "markdown",
   "metadata": {},
   "source": [
    "3. Tracciate un grafico opportuno per descrivere il carattere UNITA."
   ]
  },
  {
   "cell_type": "code",
   "execution_count": 3,
   "metadata": {},
   "outputs": [
    {
     "data": {
      "text/plain": [
       "<Figure size 640x480 with 2 Axes>"
      ]
     },
     "metadata": {},
     "output_type": "display_data"
    }
   ],
   "source": [
    "import matplotlib.pyplot as plt\n",
    "fig, ax = plt.subplots()\n",
    "\n",
    "ax.bar(range(len(freqs.values)),freqs.values)    # set the bars\n",
    "ax.set_xticks(range(len(freqs.values)))          # set where to put labels\n",
    "ax.set_xticklabels(freqs.keys(),rotation=90)     # set the labels and how to write them\n",
    "\n",
    "ax2 = ax.twinx()\n",
    "ax2.plot(range(len(freqs.values)), freqs.cumsum()/sum(freqs.values), color=\"orange\", marker=\"D\", ms=4)\n",
    "\n",
    "plt.show()\n",
    "\n",
    "# una valida alternativa è il grafico a torta\n",
    "# una (meno) valida alternativa è un barplot semplice"
   ]
  },
  {
   "cell_type": "markdown",
   "metadata": {},
   "source": [
    "4. La Figura 1 mostra la funzione di ripartizione empirica per un sotto-insieme delle osservazioni relativi al carattere TotSpese, in cui gli importi sono indicati in centinaia dimigliaia di Euro. Leggendo esclusivamente il grafico:  \n",
    "    4.1. indicate quale sottoinsieme di osservazioni è stato utilizzato;"
   ]
  },
  {
   "cell_type": "code",
   "execution_count": 47,
   "metadata": {},
   "outputs": [
    {
     "data": {
      "text/plain": [
       "(0, 40)"
      ]
     },
     "execution_count": 47,
     "metadata": {},
     "output_type": "execute_result"
    },
    {
     "data": {
      "image/png": "[encoded data removed]",
      "text/plain": [
       "<Figure size 432x288 with 1 Axes>"
      ]
     },
     "metadata": {
      "needs_background": "light"
     },
     "output_type": "display_data"
    }
   ],
   "source": [
    "import numpy\n",
    "\n",
    "# calcoliamo la selezione dei dati che ci interessa ###\n",
    "subselection  = data.loc[(data.TotSpese.notna()) & (data.TotSpese>=5*10**5) & (data.TotSpese<=2*10**6),].TotSpese\n",
    "\n",
    "# normaliziamo la selezione, i valori sono espressi in centinaia di migliaia\n",
    "normselection = numpy.floor(subselection/10**5).astype(int)\n",
    "\n",
    "# contiamo le occorrenze\n",
    "freqselection = normselection.value_counts()\n",
    "\n",
    "# ordiniamo\n",
    "freqs = freqselection.iloc[numpy.argsort(freqselection.keys())]\n",
    "\n",
    "# calcoliamo la cumulativa \n",
    "ecdf = freqs.cumsum()/freqs.sum()\n",
    "\n",
    "\n",
    "# aggiungiamo gli estremi al fine di avere un plot migliore\n",
    "x = [0,4] + list(ecdf.keys()) + [40]\n",
    "y = [0.0,0.0] + list(ecdf.values) + [1.0]\n",
    "\n",
    "fig, ax = plt.subplots()\n",
    "ax.step(x,y)\n",
    "ax.set_xlim((0,40))"
   ]
  },
  {
   "cell_type": "markdown",
   "metadata": {},
   "source": [
    "4.2. specificate quale percentuale delle osservazioni visualizzate assume un valore compreso tra uno (escluso) e due milioni di Euro."
   ]
  },
  {
   "cell_type": "code",
   "execution_count": 57,
   "metadata": {},
   "outputs": [
    {
     "name": "stdout",
     "output_type": "stream",
     "text": [
      "0.21818181818181814\n",
      "0.21818181818181817\n"
     ]
    }
   ],
   "source": [
    "print((ecdf[min(20, max(ecdf.keys()))]-ecdf[10]))\n",
    "print(len(data.loc[(data.TotSpese.notna()) & (data.TotSpese>=11*10**5) & (data.TotSpese<=2*10**6),])/110)"
   ]
  },
  {
   "cell_type": "markdown",
   "metadata": {},
   "source": [
    "5. Prendiamo in considerazione la quota di finanziamento erogata dalla Provincia.  \n",
    "    5.1. Create una variabile (chiamatela progetti_a, per indicare i progetti di tipo A) che contenga la parte di dataset relativa ai progetti per i quali la quota provinciale di finanziamento è minore di quella regionale, e un’altra (chiamata progetti_b, per indicare i progetti di tipo B) che contenga la parte di dataset relativa ai progetti per i quali la quota provinciale di finanziamento è maggiore di quella regionale."
   ]
  },
  {
   "cell_type": "code",
   "execution_count": 6,
   "metadata": {},
   "outputs": [],
   "source": [
    "progetti_a = data.loc[(data.FinProvincia.notna()) & (data.FinRegione.notna()) & (data.FinProvincia < data.FinRegione),]\n",
    "progetti_b = data.loc[(data.FinProvincia.notna()) & (data.FinRegione.notna()) & (data.FinProvincia > data.FinRegione),]"
   ]
  },
  {
   "cell_type": "markdown",
   "metadata": {},
   "source": [
    "5.2. Quanti sono progetti di tipo A? Quanti sono progetti di tipo B?"
   ]
  },
  {
   "cell_type": "code",
   "execution_count": 7,
   "metadata": {},
   "outputs": [
    {
     "name": "stdout",
     "output_type": "stream",
     "text": [
      "368\n",
      "175\n"
     ]
    }
   ],
   "source": [
    "print(progetti_a.__len__())\n",
    "print(progetti_b.__len__())"
   ]
  },
  {
   "cell_type": "markdown",
   "metadata": {},
   "source": [
    "6. Concentriamoci sui progetti di tipo A.  \n",
    "    6.1. Selezionate i progetti di tipo A che hanno ricevuto un finanziamento provinciale compreso tra i 200 e i 1000 euro, estremo sinistro incluso, e salvate questa parte di dataset in una variabile chiamata selezione_progetti_a."
   ]
  },
  {
   "cell_type": "code",
   "execution_count": 16,
   "metadata": {},
   "outputs": [],
   "source": [
    "selezione_progetti_a = progetti_a.loc[(progetti_a.FinProvincia>=200) & (progetti_a.FinProvincia<1000),]"
   ]
  },
  {
   "cell_type": "code",
   "execution_count": 27,
   "metadata": {},
   "outputs": [
    {
     "data": {
      "text/plain": [
       "id                 2907.526316\n",
       "TemaPrioritario      69.736842\n",
       "CodiceCategoria      41.421053\n",
       "FinProvincia        636.905263\n",
       "FinRegione          702.587895\n",
       "TotSpese           3548.256250\n",
       "dtype: float64"
      ]
     },
     "execution_count": 27,
     "metadata": {},
     "output_type": "execute_result"
    },
    {
     "data": {
      "image/png": "[encoded data removed]",
      "text/plain": [
       "<Figure size 432x288 with 1 Axes>"
      ]
     },
     "metadata": {
      "needs_background": "light"
     },
     "output_type": "display_data"
    }
   ],
   "source": [
    "progetti_a=data[(data['FinProvincia']<data['FinRegione']) & (data.FinRegione.notna()) & (data.FinProvincia.notna())]\n",
    "selezione_progetti_a=progetti_a[(progetti_a['FinProvincia']>=200) & (progetti_a['FinProvincia']<1000)]\n",
    "selezione_progetti_a.FinProvincia.hist(bins=numpy.arange(200,1000,100))\n",
    "selezione_progetti_a.mean()"
   ]
  },
  {
   "cell_type": "markdown",
   "metadata": {},
   "source": [
    "6.2. Tracciate un istogramma del finanziamento provinciale di tali progetti, imponendo che le classi abbiano ampiezza 100 euro"
   ]
  },
  {
   "cell_type": "code",
   "execution_count": 18,
   "metadata": {},
   "outputs": [
    {
     "data": {
      "image/png": "[encoded data removed]",
      "text/plain": [
       "<Figure size 432x288 with 1 Axes>"
      ]
     },
     "metadata": {
      "needs_background": "light"
     },
     "output_type": "display_data"
    }
   ],
   "source": [
    "p = selezione_progetti_a.FinProvincia.hist(bins=numpy.arange(200,1000,100))"
   ]
  },
  {
   "cell_type": "markdown",
   "metadata": {},
   "source": [
    "6.3. Tracciate anche il boxplot per la medesima quantità."
   ]
  },
  {
   "cell_type": "code",
   "execution_count": 10,
   "metadata": {},
   "outputs": [
    {
     "data": {
      "image/png": "[encoded data removed]",
      "text/plain": [
       "<Figure size 432x288 with 1 Axes>"
      ]
     },
     "metadata": {
      "needs_background": "light"
     },
     "output_type": "display_data"
    }
   ],
   "source": [
    "p = selezione_progetti_a.FinProvincia.plot.box()"
   ]
  },
  {
   "cell_type": "markdown",
   "metadata": {},
   "source": [
    "6.4. Tra i due grafici appena prodotti, quale ritenete maggiormente informativo? Giusti-ficate la risposta.  \n",
    "\n",
    "        Sicuramente l'istogramma in quanto riesce ad rappresentare meglio la distribuzione evidenziando la bimodalità.\n",
    "6.5. Relativamente a tali progetti, qual è stato l’importo medio finanziato dalla provincia? Quale la deviazione standard?"
   ]
  },
  {
   "cell_type": "code",
   "execution_count": 11,
   "metadata": {},
   "outputs": [
    {
     "name": "stdout",
     "output_type": "stream",
     "text": [
      "636.9052631578948\n",
      "264.80233322588253\n"
     ]
    }
   ],
   "source": [
    "print(selezione_progetti_a.FinProvincia.mean())\n",
    "print(selezione_progetti_a.FinProvincia.std())"
   ]
  },
  {
   "cell_type": "markdown",
   "metadata": {},
   "source": [
    "6.6. Quanti hanno ricevuto un finanziamento provinciale compreso tra i 500 e i 700 euro?"
   ]
  },
  {
   "cell_type": "code",
   "execution_count": 12,
   "metadata": {},
   "outputs": [
    {
     "data": {
      "text/plain": [
       "0"
      ]
     },
     "execution_count": 12,
     "metadata": {},
     "output_type": "execute_result"
    }
   ],
   "source": [
    "len(selezione_progetti_a.loc[(selezione_progetti_a.FinProvincia >= 500) & (selezione_progetti_a.FinProvincia <= 700),])\n",
    "# oppure lo si può anche vedere dal rispettivo istogramma"
   ]
  },
  {
   "cell_type": "markdown",
   "metadata": {},
   "source": [
    "6.7. Esiste una evidente relazione tra finanziamento provinciale e spese sostenute. Descrivete tale relazione nel modo più dettagliato possibile, utilizzando un indice numerico e un metodo grafico."
   ]
  },
  {
   "cell_type": "code",
   "execution_count": 13,
   "metadata": {},
   "outputs": [
    {
     "data": {
      "text/html": [
       "<div>\n",
       "<style scoped>\n",
       "    .dataframe tbody tr th:only-of-type {\n",
       "        vertical-align: middle;\n",
       "    }\n",
       "\n",
       "    .dataframe tbody tr th {\n",
       "        vertical-align: top;\n",
       "    }\n",
       "\n",
       "    .dataframe thead th {\n",
       "        text-align: right;\n",
       "    }\n",
       "</style>\n",
       "<table border=\"1\" class=\"dataframe\">\n",
       "  <thead>\n",
       "    <tr style=\"text-align: right;\">\n",
       "      <th></th>\n",
       "      <th>FinProvincia</th>\n",
       "      <th>TotSpese</th>\n",
       "    </tr>\n",
       "  </thead>\n",
       "  <tbody>\n",
       "    <tr>\n",
       "      <th>FinProvincia</th>\n",
       "      <td>1.000000</td>\n",
       "      <td>0.696401</td>\n",
       "    </tr>\n",
       "    <tr>\n",
       "      <th>TotSpese</th>\n",
       "      <td>0.696401</td>\n",
       "      <td>1.000000</td>\n",
       "    </tr>\n",
       "  </tbody>\n",
       "</table>\n",
       "</div>"
      ],
      "text/plain": [
       "              FinProvincia  TotSpese\n",
       "FinProvincia      1.000000  0.696401\n",
       "TotSpese          0.696401  1.000000"
      ]
     },
     "execution_count": 13,
     "metadata": {},
     "output_type": "execute_result"
    },
    {
     "data": {
      "image/png": "[encoded data removed]",
      "text/plain": [
       "<Figure size 432x288 with 1 Axes>"
      ]
     },
     "metadata": {
      "needs_background": "light"
     },
     "output_type": "display_data"
    }
   ],
   "source": [
    "p = selezione_progetti_a.plot.scatter(\"FinProvincia\",\"TotSpese\")\n",
    "p.set_xlabel(\"Finanziamento Provinciale\")\n",
    "p.set_ylabel(\"Spese Sostenute\")\n",
    "\n",
    "selezione_progetti_a.loc[:,[\"FinProvincia\",\"TotSpese\"]].corr()\n"
   ]
  },
  {
   "cell_type": "markdown",
   "metadata": {},
   "source": [
    "C'è una relazione lineare tra il finanziamento provinciale e le spese totali ad eccezione di un outlier che abbassa il coefficiente di correlazione.\n",
    "\n",
    "\n",
    "6.8. Nella relazione avrete notato la presenza di almeno un progetto che si discosta note-volmente dall’andamento più generale. Eliminate tali progetti dall’insieme dei dati e rispondete nuovamente alle domande del punto precedente.  \n",
    "\n",
    "        vediamo che l'outlier appare avere TotSpese 2000.0 eliminiamo dunque tutti i punti che hanno TotSpese inferiori a questa quantità."
   ]
  },
  {
   "cell_type": "code",
   "execution_count": 14,
   "metadata": {},
   "outputs": [
    {
     "data": {
      "text/html": [
       "<div>\n",
       "<style scoped>\n",
       "    .dataframe tbody tr th:only-of-type {\n",
       "        vertical-align: middle;\n",
       "    }\n",
       "\n",
       "    .dataframe tbody tr th {\n",
       "        vertical-align: top;\n",
       "    }\n",
       "\n",
       "    .dataframe thead th {\n",
       "        text-align: right;\n",
       "    }\n",
       "</style>\n",
       "<table border=\"1\" class=\"dataframe\">\n",
       "  <thead>\n",
       "    <tr style=\"text-align: right;\">\n",
       "      <th></th>\n",
       "      <th>FinProvincia</th>\n",
       "      <th>TotSpese</th>\n",
       "    </tr>\n",
       "  </thead>\n",
       "  <tbody>\n",
       "    <tr>\n",
       "      <th>FinProvincia</th>\n",
       "      <td>1.0</td>\n",
       "      <td>1.0</td>\n",
       "    </tr>\n",
       "    <tr>\n",
       "      <th>TotSpese</th>\n",
       "      <td>1.0</td>\n",
       "      <td>1.0</td>\n",
       "    </tr>\n",
       "  </tbody>\n",
       "</table>\n",
       "</div>"
      ],
      "text/plain": [
       "              FinProvincia  TotSpese\n",
       "FinProvincia           1.0       1.0\n",
       "TotSpese               1.0       1.0"
      ]
     },
     "execution_count": 14,
     "metadata": {},
     "output_type": "execute_result"
    }
   ],
   "source": [
    "selezione_progetti_a.loc[(selezione_progetti_a.TotSpese.notna()) & (selezione_progetti_a.TotSpese > 2000) ,[\"FinProvincia\",\"TotSpese\"]].corr()"
   ]
  },
  {
   "cell_type": "markdown",
   "metadata": {},
   "source": [
    "ora la relazione appare perfettamente lineare.\n",
    "\n",
    ".7. Ritorniamo al dataset completo. Quanti sono i progetti che non hanno ancora sostenuto spese?"
   ]
  },
  {
   "cell_type": "code",
   "execution_count": 15,
   "metadata": {},
   "outputs": [
    {
     "data": {
      "text/plain": [
       "1134"
      ]
     },
     "execution_count": 15,
     "metadata": {},
     "output_type": "execute_result"
    }
   ],
   "source": [
    "len(data.loc[(data.TotSpese == 0) | (data.TotSpese.isna()), ])"
   ]
  }
 ],
 "metadata": {
  "kernelspec": {
   "display_name": "Python 3",
   "language": "python",
   "name": "python3"
  },
  "language_info": {
   "codemirror_mode": {
    "name": "ipython",
    "version": 3
   },
   "file_extension": ".py",
   "mimetype": "text/x-python",
   "name": "python",
   "nbconvert_exporter": "python",
   "pygments_lexer": "ipython3",
   "version": "3.7.5"
  }
 },
 "nbformat": 4,
 "nbformat_minor": 4
}
