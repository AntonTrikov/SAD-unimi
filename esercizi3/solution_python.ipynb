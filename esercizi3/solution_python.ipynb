{
 "cells": [
  {
   "cell_type": "markdown",
   "metadata": {},
   "source": [
    "### Esercizio 1\n",
    "Sia X una variabile casuale di Poisson avente valore atteso E(X) = λ, con λ > 0."
   ]
  },
  {
   "cell_type": "markdown",
   "metadata": {},
   "source": [
    "1.1. Si scriva la funzione massa di probabilità f_X(x) = P(X = x)."
   ]
  },
  {
   "cell_type": "code",
   "execution_count": 1,
   "metadata": {},
   "outputs": [
    {
     "data": {
      "text/plain": [
       "[Text(0, 0, '0'), Text(0, 0, 'λ'), Text(0, 0, '30')]"
      ]
     },
     "execution_count": 1,
     "metadata": {},
     "output_type": "execute_result"
    },
    {
     "data": {
      "image/png": "[encoded data removed]",
      "text/plain": [
       "<Figure size 432x288 with 1 Axes>"
      ]
     },
     "metadata": {
      "needs_background": "light"
     },
     "output_type": "display_data"
    }
   ],
   "source": [
    "from scipy.stats import poisson\n",
    "import matplotlib.pyplot as plt\n",
    "import numpy as np\n",
    "\n",
    "fig,ax = plt.subplots(1,1)\n",
    "\n",
    "ax.scatter(range(30),poisson(15).pmf(range(30)))\n",
    "ax.set_xticks([0,15,30])\n",
    "ax.set_xticklabels([\"0\",\"λ\",\"30\"])"
   ]
  },
  {
   "cell_type": "markdown",
   "metadata": {},
   "source": [
    "1.2. Si esprima la deviazione standard della variabile casuale X come funzione di E(X).  \n",
    "    sd = sqrt(E(X)) "
   ]
  },
  {
   "cell_type": "markdown",
   "metadata": {},
   "source": [
    "1.3. Si supponga, solo in questo punto dell’esercizio, che sia λ = 15. Si traccino i grafici della funzione di ripartizione F_X(x) = P(X ≤ x) e della funzione massa di probabilità f_X(x), indicando con chiarezza le coordinate dei punti “significativi” di tali grafici."
   ]
  },
  {
   "cell_type": "code",
   "execution_count": 33,
   "metadata": {},
   "outputs": [
    {
     "data": {
      "text/plain": [
       "[Text(0, 0, '0'), Text(0, 0, '0.5'), Text(0, 0, '1')]"
      ]
     },
     "execution_count": 33,
     "metadata": {},
     "output_type": "execute_result"
    },
    {
     "data": {
      "image/png": "[encoded data removed]",
      "text/plain": [
       "<Figure size 1080x720 with 2 Axes>"
      ]
     },
     "metadata": {
      "needs_background": "light"
     },
     "output_type": "display_data"
    }
   ],
   "source": [
    "\n",
    "fig,ax = plt.subplots(1,2)\n",
    "fig.set_size_inches(15,10)\n",
    "\n",
    "ax[0].scatter(range(30),poisson(15).pmf(range(30)))\n",
    "ax[0].scatter([14,15],[poisson(15).pmf(14),poisson(15).pmf(15)])\n",
    "ax[0].set_xticks([0,15,30])\n",
    "ax[0].set_xticklabels([\"0\",\"λ=15\",\"30\"])\n",
    "\n",
    "ax[1].step(range(30),poisson(15).cdf(range(30)))\n",
    "median = poisson(15).ppf(0.5)\n",
    "ax[1].plot([0,median-1],[0.5,0.5], c=\"orange\", zorder=10)\n",
    "ax[1].set_yticks([0,0.5,1])\n",
    "ax[1].set_yticklabels([\"0\",\"0.5\",\"1\"])"
   ]
  },
  {
   "cell_type": "markdown",
   "metadata": {},
   "source": [
    "### Esercizio 2\n",
    "il regolamento regionale prevede che l’acqua possa essere definita “potabile” se il numero medio di impurità (cioè di addensamenti di calcare presenti nell’acqua che sembrano granelli di sabbia)riscontrate in 10 litri di acqua è inferiore a una data soglia. Nella piazza del mio comune c’èuna fontanella di acqua potabile. L’amministrazione ha dichiarato che l’acqua della fontanella è potabile perché il tasso medio di impurità che si possono riscontrare in un litro di acqua è 15, tasso che rispetta il regolamento regionale. Ritengo che ci siano le condizioni per poter modellare la variabile X=“numero di impurità presenti in un litro di acqua della fontana” come una variabile di Poisson di parametro λ."
   ]
  },
  {
   "cell_type": "markdown",
   "metadata": {},
   "source": [
    "2.1. Quali sono tali condizioni?  \n",
    "- la probabilità di trovare due o più granelli di sabbia attaccati uno all'altro è da considerarsi nulla\n",
    "- la probabilità di trovare una impurità in k litri di acqua è proporzionale a k\n",
    "- il numero di impurità trovate raccogliendo dell'acqua in un contenitore e il numero di impurità trovate raccogliendo dell'acqua in un altro contenitore (..intervalli disgiunti..) costituiscono eventi indipendenti"
   ]
  },
  {
   "cell_type": "markdown",
   "metadata": {},
   "source": [
    "2.2 Quanto vale λ?\n",
    " - lambda=15"
   ]
  },
  {
   "cell_type": "markdown",
   "metadata": {},
   "source": [
    "2.3. Ho raccolto 1 litro d’acqua in una bottiglia.  Filtrata l’acqua attraverso un colino, ho contato 9 granelli di calcare. Qual è la probabilità di questo evento?"
   ]
  },
  {
   "cell_type": "code",
   "execution_count": 36,
   "metadata": {},
   "outputs": [
    {
     "data": {
      "text/plain": [
       "0.03240716721973691"
      ]
     },
     "execution_count": 36,
     "metadata": {},
     "output_type": "execute_result"
    }
   ],
   "source": [
    "poisson(15).pmf(9) "
   ]
  },
  {
   "cell_type": "markdown",
   "metadata": {},
   "source": [
    "2.4. Qual è la probabilità che io riscontrassi meno di 10 impurità?"
   ]
  },
  {
   "cell_type": "code",
   "execution_count": 37,
   "metadata": {},
   "outputs": [
    {
     "data": {
      "text/plain": [
       "0.11846441152901499"
      ]
     },
     "execution_count": 37,
     "metadata": {},
     "output_type": "execute_result"
    }
   ],
   "source": [
    "poisson(15).cdf(10)"
   ]
  },
  {
   "cell_type": "markdown",
   "metadata": {},
   "source": [
    "2.5. Qual è il numero più probabile di impurità che si riscontrano in un litro di acqua della fontanella?\n"
   ]
  },
  {
   "cell_type": "code",
   "execution_count": 39,
   "metadata": {},
   "outputs": [
    {
     "data": {
      "text/plain": [
       "(15, 14)"
      ]
     },
     "execution_count": 39,
     "metadata": {},
     "output_type": "execute_result"
    }
   ],
   "source": [
    "15,14"
   ]
  },
  {
   "cell_type": "markdown",
   "metadata": {},
   "source": [
    "2.6. Determinare una condizione sufficiente sul valore k (cioè il valore massimo di k) tale che P(X ≥ λ+k) ≥ 0.25.\n",
    "NB: In ACQUA.pdf (per questo problema) c'è un errore nella richiesta dovuto ad un rehash di un'altro problema. In ACQUA.pdf è richiesto di calcolare il valore minimo di k, in realtà dovrebbe essere il valore massimo."
   ]
  },
  {
   "cell_type": "code",
   "execution_count": 75,
   "metadata": {},
   "outputs": [
    {
     "name": "stdout",
     "output_type": "stream",
     "text": [
      "18.0\n",
      "3.0\n"
     ]
    }
   ],
   "source": [
    "#si tratta quindi di deteminare il quantile 0.75\n",
    "aa=poisson.ppf(0.75,15) \n",
    "k=aa-15\n",
    "print(aa)\n",
    "print(k)"
   ]
  },
  {
   "cell_type": "markdown",
   "metadata": {},
   "source": [
    "2.7. Controllate che P(λ−k < X ≤ λ+k) ≈ 0.5."
   ]
  },
  {
   "cell_type": "code",
   "execution_count": 76,
   "metadata": {},
   "outputs": [
    {
     "data": {
      "text/plain": [
       "0.5518606782401456"
      ]
     },
     "execution_count": 76,
     "metadata": {},
     "output_type": "execute_result"
    }
   ],
   "source": [
    "poisson.cdf(15+k,15)-poisson.cdf(15-k,15)"
   ]
  },
  {
   "cell_type": "markdown",
   "metadata": {},
   "source": [
    "## Esercizio 3\n",
    "Consideriamo ora la variabile poissoniana X(t) = “numero di impurità presenti in t litri di acqua della fontana”."
   ]
  },
  {
   "cell_type": "markdown",
   "metadata": {},
   "source": [
    "3.1. Specificate il parametro λ in funzione di t.\n",
    " - λ = 15 * t  "
   ]
  },
  {
   "cell_type": "markdown",
   "metadata": {},
   "source": [
    "3.2. In media, quanti granelli di calcare si trovano in mezzo litro di acqua?"
   ]
  },
  {
   "cell_type": "code",
   "execution_count": 41,
   "metadata": {},
   "outputs": [
    {
     "name": "stdout",
     "output_type": "stream",
     "text": [
      "7.5\n"
     ]
    }
   ],
   "source": [
    "v = 15\n",
    "t = 0.5\n",
    "lmb = t*v\n",
    "print(lmb)"
   ]
  },
  {
   "cell_type": "markdown",
   "metadata": {},
   "source": [
    "3.3. Qual'è la probabilità che, riempita la mia borraccia con 50cl di acqua della fontanella, io beva, insieme all’acqua, più di 10 granelli di calcare?"
   ]
  },
  {
   "cell_type": "code",
   "execution_count": 42,
   "metadata": {},
   "outputs": [
    {
     "data": {
      "text/plain": [
       "0.1377620165716119"
      ]
     },
     "execution_count": 42,
     "metadata": {},
     "output_type": "execute_result"
    }
   ],
   "source": [
    "1-poisson(lmb).cdf(10)"
   ]
  },
  {
   "cell_type": "markdown",
   "metadata": {},
   "source": [
    "## Esercizio 4\n",
    "Sia Y= “litri di acqua che scorrono dalla fontanella tra un granello di calcare e il successivo”."
   ]
  },
  {
   "cell_type": "markdown",
   "metadata": {},
   "source": [
    "4.1. Quale modello probabilistico scegliete per modellare Y?. Specificarne il parametro.\n",
    "- Una esponenziale di parametro lambda uguale alla vecchia poissoniana, ovvero 15."
   ]
  },
  {
   "cell_type": "markdown",
   "metadata": {},
   "source": [
    "4.2. Tracciate il grafico della densità di probabilità f_Y(y), e su tale grafico evidenziate la probabilità che tra un granello di calcare e l’altro scorra più di un bicchiere di acqua (0.2 litri)."
   ]
  },
  {
   "cell_type": "code",
   "execution_count": 165,
   "metadata": {},
   "outputs": [
    {
     "data": {
      "text/plain": [
       "[<matplotlib.lines.Line2D at 0x7fb6f33a6400>]"
      ]
     },
     "execution_count": 165,
     "metadata": {},
     "output_type": "execute_result"
    },
    {
     "data": {
      "image/png": "[encoded data removed]",
      "text/plain": [
       "<Figure size 720x360 with 1 Axes>"
      ]
     },
     "metadata": {
      "needs_background": "light"
     },
     "output_type": "display_data"
    }
   ],
   "source": [
    "fig,ax = plt.subplots(1,1)\n",
    "fig.set_size_inches(10,5)\n",
    "\n",
    "from scipy.stats import expon\n",
    "\n",
    "Xs = np.linspace(0,0.5,100)\n",
    "ax.plot(Xs,expon(scale=(1/15)).pdf(Xs))\n",
    "\n",
    "\n",
    "x = np.array(np.linspace(0.2,0.5,100)).reshape(100,1).repeat(2,axis=-1).reshape(200)\n",
    "y = np.array([0 if i % 2 == 0 else expon(scale=1/15).pdf(e) for i,e in enumerate(x) ])\n",
    "\n",
    "ax.plot(x,y)"
   ]
  },
  {
   "cell_type": "markdown",
   "metadata": {},
   "source": [
    "4.3. Tracciate il grafico della funzione di ripartizione F_Y(y) = P(Y≤y), e su tale grafico evidenziate la probabilità che tra un granello di calcare e l’altro scorra meno di un bicchieredi acqua (0.2 litri)."
   ]
  },
  {
   "cell_type": "code",
   "execution_count": 174,
   "metadata": {},
   "outputs": [
    {
     "data": {
      "text/plain": [
       "[<matplotlib.lines.Line2D at 0x7fb6f3509d60>]"
      ]
     },
     "execution_count": 174,
     "metadata": {},
     "output_type": "execute_result"
    },
    {
     "data": {
      "image/png": "[encoded data removed]",
      "text/plain": [
       "<Figure size 720x360 with 1 Axes>"
      ]
     },
     "metadata": {
      "needs_background": "light"
     },
     "output_type": "display_data"
    }
   ],
   "source": [
    "fig,ax = plt.subplots(1,1)\n",
    "fig.set_size_inches(10,5)\n",
    "\n",
    "ax.plot(np.linspace(0,1,100),expon(scale=1/15).cdf(np.linspace(0,1,100)))\n",
    "ax.plot(np.linspace(0,0.2,100),expon(scale=1/15).cdf(np.linspace(0,0.2,100)),c=\"orange\",zorder=10)\n",
    "#curve(pexp(x,15),xlim=c(0,0.5))\n",
    "#points(0.2,pexp(0.2,15),col=\"red\",pch=20)"
   ]
  },
  {
   "cell_type": "markdown",
   "metadata": {},
   "source": [
    "4.4. Calcolate la probabilità che nella borraccia non ci siano impurità, cioè che si debba prelevare dalla fontana più di mezzo litro di acqua prima di incontrare la prima impurità."
   ]
  },
  {
   "cell_type": "code",
   "execution_count": 176,
   "metadata": {},
   "outputs": [
    {
     "data": {
      "text/plain": [
       "0.0005530843701477828"
      ]
     },
     "execution_count": 176,
     "metadata": {},
     "output_type": "execute_result"
    }
   ],
   "source": [
    "1-expon(scale=1/15).cdf(0.5)"
   ]
  },
  {
   "cell_type": "markdown",
   "metadata": {},
   "source": [
    "4.5. Ho versato l’acqua della borraccia in un bicchiere di capienza 20 cl e non ho trovato impurità, qual è la probabilità che nella borraccia non ci siano impurità?\n",
    " - P(X > 0.3+0.2 | X > 0.2) = P(X>0.3) "
   ]
  },
  {
   "cell_type": "code",
   "execution_count": 177,
   "metadata": {},
   "outputs": [
    {
     "data": {
      "text/plain": [
       "0.011108996538242266"
      ]
     },
     "execution_count": 177,
     "metadata": {},
     "output_type": "execute_result"
    }
   ],
   "source": [
    "1-expon(scale=1/15).cdf(0.3) # per mancanza di memoria dell'esponenziale"
   ]
  }
 ],
 "metadata": {
  "kernelspec": {
   "display_name": "Python 3",
   "language": "python",
   "name": "python3"
  },
  "language_info": {
   "codemirror_mode": {
    "name": "ipython",
    "version": 3
   },
   "file_extension": ".py",
   "mimetype": "text/x-python",
   "name": "python",
   "nbconvert_exporter": "python",
   "pygments_lexer": "ipython3",
   "version": "3.8.2"
  }
 },
 "nbformat": 4,
 "nbformat_minor": 4
}
