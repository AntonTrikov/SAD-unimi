{
 "cells": [
  {
   "cell_type": "markdown",
   "metadata": {},
   "source": [
    "## Esercizio A\n",
    "- A.1. Quanti sono i cani seguiti dall’ambulatorio?  \n",
    "- A.2. Quanti cani soffrono di ipertensione?  "
   ]
  },
  {
   "cell_type": "code",
   "execution_count": 1,
   "metadata": {},
   "outputs": [
    {
     "data": {
      "text/html": [
       "<table>\n",
       "<caption>A data.frame: 5 × 20</caption>\n",
       "<thead>\n",
       "\t<tr><th></th><th scope=col>Cartella</th><th scope=col>IP</th><th scope=col>GravitaIP</th><th scope=col>EtaAnni</th><th scope=col>MORTE</th><th scope=col>MC</th><th scope=col>SURVIVALTIME</th><th scope=col>Terapia</th><th scope=col>Antiaritmico</th><th scope=col>PesoKg</th><th scope=col>VTricuspide</th><th scope=col>AsxAo</th><th scope=col>OndaE</th><th scope=col>OndaEA</th><th scope=col>FrazEspuls</th><th scope=col>FrazAccorc</th><th scope=col>EDVI</th><th scope=col>ESVI</th><th scope=col>Allodiast</th><th scope=col>Allosist</th></tr>\n",
       "\t<tr><th></th><th scope=col>&lt;fct&gt;</th><th scope=col>&lt;fct&gt;</th><th scope=col>&lt;int&gt;</th><th scope=col>&lt;dbl&gt;</th><th scope=col>&lt;int&gt;</th><th scope=col>&lt;int&gt;</th><th scope=col>&lt;int&gt;</th><th scope=col>&lt;int&gt;</th><th scope=col>&lt;fct&gt;</th><th scope=col>&lt;dbl&gt;</th><th scope=col>&lt;dbl&gt;</th><th scope=col>&lt;dbl&gt;</th><th scope=col>&lt;dbl&gt;</th><th scope=col>&lt;dbl&gt;</th><th scope=col>&lt;int&gt;</th><th scope=col>&lt;int&gt;</th><th scope=col>&lt;dbl&gt;</th><th scope=col>&lt;dbl&gt;</th><th scope=col>&lt;dbl&gt;</th><th scope=col>&lt;dbl&gt;</th></tr>\n",
       "</thead>\n",
       "<tbody>\n",
       "\t<tr><th scope=row>1</th><td>S0601</td><td>NO</td><td>0</td><td>10.35</td><td>0</td><td>NA</td><td>  0</td><td>2</td><td>NO</td><td> 5.25</td><td>0</td><td>2.50</td><td>1.15</td><td>0.97</td><td>70</td><td>37</td><td> 78.69</td><td>23.75</td><td>1.58</td><td>0.99</td></tr>\n",
       "\t<tr><th scope=row>2</th><td>C0621</td><td>NO</td><td>0</td><td>15.21</td><td>1</td><td> 1</td><td>341</td><td>3</td><td>NO</td><td> 6.00</td><td>0</td><td>1.61</td><td>1.50</td><td>1.47</td><td>83</td><td>51</td><td>130.58</td><td>23.88</td><td>1.94</td><td>0.99</td></tr>\n",
       "\t<tr><th scope=row>3</th><td>B0918</td><td>NO</td><td>0</td><td>15.77</td><td>1</td><td> 1</td><td>117</td><td>3</td><td>NO</td><td> 3.20</td><td>0</td><td>2.50</td><td>1.87</td><td>2.08</td><td>91</td><td>62</td><td>180.35</td><td>16.22</td><td>2.21</td><td>0.84</td></tr>\n",
       "\t<tr><th scope=row>4</th><td>R1009</td><td>NO</td><td>0</td><td>13.54</td><td>1</td><td> 1</td><td> 93</td><td>4</td><td>SI</td><td>26.50</td><td>0</td><td>3.07</td><td>2.28</td><td>2.85</td><td>75</td><td>44</td><td>234.17</td><td>40.15</td><td>2.09</td><td>1.16</td></tr>\n",
       "\t<tr><th scope=row>5</th><td>R1513</td><td>NO</td><td>0</td><td>10.72</td><td>0</td><td>NA</td><td>666</td><td>3</td><td>NO</td><td>11.00</td><td>0</td><td>2.54</td><td>0.75</td><td>0.86</td><td>69</td><td>38</td><td>139.84</td><td>43.89</td><td>1.98</td><td>1.23</td></tr>\n",
       "</tbody>\n",
       "</table>\n"
      ],
      "text/latex": [
       "A data.frame: 5 × 20\n",
       "\\begin{tabular}{r|llllllllllllllllllll}\n",
       "  & Cartella & IP & GravitaIP & EtaAnni & MORTE & MC & SURVIVALTIME & Terapia & Antiaritmico & PesoKg & VTricuspide & AsxAo & OndaE & OndaEA & FrazEspuls & FrazAccorc & EDVI & ESVI & Allodiast & Allosist\\\\\n",
       "  & <fct> & <fct> & <int> & <dbl> & <int> & <int> & <int> & <int> & <fct> & <dbl> & <dbl> & <dbl> & <dbl> & <dbl> & <int> & <int> & <dbl> & <dbl> & <dbl> & <dbl>\\\\\n",
       "\\hline\n",
       "\t1 & S0601 & NO & 0 & 10.35 & 0 & NA &   0 & 2 & NO &  5.25 & 0 & 2.50 & 1.15 & 0.97 & 70 & 37 &  78.69 & 23.75 & 1.58 & 0.99\\\\\n",
       "\t2 & C0621 & NO & 0 & 15.21 & 1 &  1 & 341 & 3 & NO &  6.00 & 0 & 1.61 & 1.50 & 1.47 & 83 & 51 & 130.58 & 23.88 & 1.94 & 0.99\\\\\n",
       "\t3 & B0918 & NO & 0 & 15.77 & 1 &  1 & 117 & 3 & NO &  3.20 & 0 & 2.50 & 1.87 & 2.08 & 91 & 62 & 180.35 & 16.22 & 2.21 & 0.84\\\\\n",
       "\t4 & R1009 & NO & 0 & 13.54 & 1 &  1 &  93 & 4 & SI & 26.50 & 0 & 3.07 & 2.28 & 2.85 & 75 & 44 & 234.17 & 40.15 & 2.09 & 1.16\\\\\n",
       "\t5 & R1513 & NO & 0 & 10.72 & 0 & NA & 666 & 3 & NO & 11.00 & 0 & 2.54 & 0.75 & 0.86 & 69 & 38 & 139.84 & 43.89 & 1.98 & 1.23\\\\\n",
       "\\end{tabular}\n"
      ],
      "text/markdown": [
       "\n",
       "A data.frame: 5 × 20\n",
       "\n",
       "| <!--/--> | Cartella &lt;fct&gt; | IP &lt;fct&gt; | GravitaIP &lt;int&gt; | EtaAnni &lt;dbl&gt; | MORTE &lt;int&gt; | MC &lt;int&gt; | SURVIVALTIME &lt;int&gt; | Terapia &lt;int&gt; | Antiaritmico &lt;fct&gt; | PesoKg &lt;dbl&gt; | VTricuspide &lt;dbl&gt; | AsxAo &lt;dbl&gt; | OndaE &lt;dbl&gt; | OndaEA &lt;dbl&gt; | FrazEspuls &lt;int&gt; | FrazAccorc &lt;int&gt; | EDVI &lt;dbl&gt; | ESVI &lt;dbl&gt; | Allodiast &lt;dbl&gt; | Allosist &lt;dbl&gt; |\n",
       "|---|---|---|---|---|---|---|---|---|---|---|---|---|---|---|---|---|---|---|---|---|\n",
       "| 1 | S0601 | NO | 0 | 10.35 | 0 | NA |   0 | 2 | NO |  5.25 | 0 | 2.50 | 1.15 | 0.97 | 70 | 37 |  78.69 | 23.75 | 1.58 | 0.99 |\n",
       "| 2 | C0621 | NO | 0 | 15.21 | 1 |  1 | 341 | 3 | NO |  6.00 | 0 | 1.61 | 1.50 | 1.47 | 83 | 51 | 130.58 | 23.88 | 1.94 | 0.99 |\n",
       "| 3 | B0918 | NO | 0 | 15.77 | 1 |  1 | 117 | 3 | NO |  3.20 | 0 | 2.50 | 1.87 | 2.08 | 91 | 62 | 180.35 | 16.22 | 2.21 | 0.84 |\n",
       "| 4 | R1009 | NO | 0 | 13.54 | 1 |  1 |  93 | 4 | SI | 26.50 | 0 | 3.07 | 2.28 | 2.85 | 75 | 44 | 234.17 | 40.15 | 2.09 | 1.16 |\n",
       "| 5 | R1513 | NO | 0 | 10.72 | 0 | NA | 666 | 3 | NO | 11.00 | 0 | 2.54 | 0.75 | 0.86 | 69 | 38 | 139.84 | 43.89 | 1.98 | 1.23 |\n",
       "\n"
      ],
      "text/plain": [
       "  Cartella IP GravitaIP EtaAnni MORTE MC SURVIVALTIME Terapia Antiaritmico\n",
       "1 S0601    NO 0         10.35   0     NA   0          2       NO          \n",
       "2 C0621    NO 0         15.21   1      1 341          3       NO          \n",
       "3 B0918    NO 0         15.77   1      1 117          3       NO          \n",
       "4 R1009    NO 0         13.54   1      1  93          4       SI          \n",
       "5 R1513    NO 0         10.72   0     NA 666          3       NO          \n",
       "  PesoKg VTricuspide AsxAo OndaE OndaEA FrazEspuls FrazAccorc EDVI   ESVI \n",
       "1  5.25  0           2.50  1.15  0.97   70         37          78.69 23.75\n",
       "2  6.00  0           1.61  1.50  1.47   83         51         130.58 23.88\n",
       "3  3.20  0           2.50  1.87  2.08   91         62         180.35 16.22\n",
       "4 26.50  0           3.07  2.28  2.85   75         44         234.17 40.15\n",
       "5 11.00  0           2.54  0.75  0.86   69         38         139.84 43.89\n",
       "  Allodiast Allosist\n",
       "1 1.58      0.99    \n",
       "2 1.94      0.99    \n",
       "3 2.21      0.84    \n",
       "4 2.09      1.16    \n",
       "5 1.98      1.23    "
      ]
     },
     "metadata": {},
     "output_type": "display_data"
    },
    {
     "name": "stdout",
     "output_type": "stream",
     "text": [
      "A.1.:  161 \n",
      "A.2.:  58 \n"
     ]
    }
   ],
   "source": [
    "data = read.csv(\"cani.csv\",sep=\";\",dec=\",\")\n",
    "data[1:5,]\n",
    "cat(\"A.1.: \", nrow(data), \"\\n\")\n",
    "cat(\"A.2.: \", nrow(data[data$IP==\"SI\",]), \"\\n\")"
   ]
  },
  {
   "cell_type": "markdown",
   "metadata": {},
   "source": [
    "3. Consideriamo ora l’età dei pazienti.\n",
    "    - 3.1. Tracciare un istogramma dell’età dei cani con i seguenti accorgimenti:\n",
    "        - fissando a un anno l’ampiezza delle classi e\n",
    "        - considerando gli intervalli chiusi a sinistra e aperti a destra."
   ]
  },
  {
   "cell_type": "code",
   "execution_count": 6,
   "metadata": {},
   "outputs": [
    {
     "data": {
      "image/png": "[encoded data removed]",
      "text/plain": [
       "Plot with title “Histogram of floor(data$EtaAnni)”"
      ]
     },
     "metadata": {
      "image/png": {
       "height": 420,
       "width": 420
      },
      "text/plain": {
       "height": 420,
       "width": 420
      }
     },
     "output_type": "display_data"
    }
   ],
   "source": [
    "age_min <- min(floor(data$EtaAnni))\n",
    "age_max <- max(floor(data$EtaAnni))\n",
    "hist(floor(data$EtaAnni), breaks=seq(age_min,age_max+1,1), right=FALSE)\n",
    "axis(1, age_min:age_max+1)"
   ]
  },
  {
   "cell_type": "markdown",
   "metadata": {},
   "source": [
    "l'istogramma del'età presenta una forte assimetria a destra.  \n",
    "Questo significa che l'ambulatorio registra più frequentemente cani di età elevata,  \n",
    "il che è estremamente ragionevole dato che questi sono sicuramente più soggetti a malattie.  \n",
    "\n",
    "A.3.2. Descrivere l’età dei pazienti compilando la Tabella 1, in cui scegliere un opportuno indice di centralità e un opportuno indice di dispersione"
   ]
  },
  {
   "cell_type": "code",
   "execution_count": 3,
   "metadata": {},
   "outputs": [
    {
     "name": "stdout",
     "output_type": "stream",
     "text": [
      "̅ ̅ ̅ ̅ ̅ ̅ ̅ ̅ ̅ ̅ ̅ ̅ ̅ ̅ ̅ ̅ ̅ ̅ \n",
      "| min    | 1.22  |\n",
      "̅ ̅ ̅ ̅ ̅ ̅ ̅ ̅ ̅ ̅ ̅ ̅ ̅ ̅ ̅ ̅ ̅ ̅ \n",
      "| median | 12.55 |\n",
      "̅ ̅ ̅ ̅ ̅ ̅ ̅ ̅ ̅ ̅ ̅ ̅ ̅ ̅ ̅ ̅ ̅ ̅ \n",
      "| IQR    | 3.17  |\n",
      "̅ ̅ ̅ ̅ ̅ ̅ ̅ ̅ ̅ ̅ ̅ ̅ ̅ ̅ ̅ ̅ ̅ ̅ \n",
      "| max    | 16.84 |\n",
      "̅ ̅ ̅ ̅ ̅ ̅ ̅ ̅ ̅ ̅ ̅ ̅ ̅ ̅ ̅ ̅ ̅ ̅ \n"
     ]
    }
   ],
   "source": [
    "cat(rep(\"\\u0305\",18),\"\\n\")\n",
    "cat(\"| min    |\", min(data$EtaAnni), ' |\\n')\n",
    "cat(rep(\"\\u0305\",18),\"\\n\")\n",
    "cat(\"| median |\", median(data$EtaAnni), '|\\n')\n",
    "cat(rep(\"\\u0305\",18),\"\\n\")\n",
    "cat(\"| IQR    |\", IQR(data$EtaAnni), ' |\\n')\n",
    "cat(rep(\"\\u0305\",18),\"\\n\")\n",
    "cat(\"| max    |\", max(data$EtaAnni), '|\\n')\n",
    "cat(rep(\"\\u0305\",18),\"\\n\")"
   ]
  },
  {
   "cell_type": "markdown",
   "metadata": {},
   "source": [
    "A.3.3. Quanti sono i pazienti di età compresa nell’intervallo tra i 12 e i 13 anni, estremo inferiore incluso ed estremo superiore escluso ?  \n",
    "A.3.4. Quanti anni ha il cane più anziano?  \n",
    "A.3.5. Qual è la fascia di età maggiormente rappresentata? Si risponda con un intervallo chiuso a sinistra e aperto a destra."
   ]
  },
  {
   "cell_type": "code",
   "execution_count": 4,
   "metadata": {},
   "outputs": [
    {
     "name": "stdout",
     "output_type": "stream",
     "text": [
      "A.3.3: 32 \n",
      "A.3.4: 16.84 \n",
      "A.3.5: [12,13)"
     ]
    }
   ],
   "source": [
    "cat(\"A.3.3:\",nrow(data[data$EtaAnni < 13 & data$EtaAnni >= 12,]),\"\\n\")\n",
    "cat(\"A.3.4:\",max(data$EtaAnni),\"\\n\")\n",
    "cat(\"A.3.5:\",\"[12,13)\")"
   ]
  },
  {
   "cell_type": "markdown",
   "metadata": {},
   "source": [
    "A.4. Consideriamo le variabili MORTE e MC.  \n",
    "A.4.1. Quanti cani sono deceduti?"
   ]
  },
  {
   "cell_type": "code",
   "execution_count": 5,
   "metadata": {},
   "outputs": [
    {
     "data": {
      "text/html": [
       "43"
      ],
      "text/latex": [
       "43"
      ],
      "text/markdown": [
       "43"
      ],
      "text/plain": [
       "[1] 43"
      ]
     },
     "metadata": {},
     "output_type": "display_data"
    }
   ],
   "source": [
    "nrow(data[data$MORTE == 1, ])"
   ]
  },
  {
   "cell_type": "markdown",
   "metadata": {},
   "source": [
    "A.4.2. Nell’inserire le informazioni riguardo a un cane deceduto, l’operatore ha sempre specificato se la morte è avvenuta per cause cardiache o per altre cause?   \n",
    "Se la risposta è \"no\", in quanti casi (sempre relativamente ai cani deceduti) l’operatore ha omesso tale informazione?  \n",
    "l'operatore non ha sempre specificato l'argomento di MC, infatti, per alcune righe MC è lasciato come ``NA``."
   ]
  },
  {
   "cell_type": "markdown",
   "metadata": {},
   "source": [
    "A.4.3. Controllare che non ci siano nei dati incongruenze riguardo alla morte, ovvero che non ci siano casi per i quali il cane risulta vivo ma morto di morte cardiaca."
   ]
  },
  {
   "cell_type": "code",
   "execution_count": 6,
   "metadata": {},
   "outputs": [
    {
     "data": {
      "text/html": [
       "0"
      ],
      "text/latex": [
       "0"
      ],
      "text/markdown": [
       "0"
      ],
      "text/plain": [
       "[1] 0"
      ]
     },
     "metadata": {},
     "output_type": "display_data"
    }
   ],
   "source": [
    "nrow(data[!is.na(data$MC) & data$MC == 1 & data$MORTE == 0,])"
   ]
  },
  {
   "cell_type": "markdown",
   "metadata": {},
   "source": [
    "non ci sono incongruenze.  \n",
    "\n",
    "4.4. Quanti cani sono deceduti per cause cardiache?"
   ]
  },
  {
   "cell_type": "code",
   "execution_count": 7,
   "metadata": {},
   "outputs": [
    {
     "data": {
      "text/html": [
       "87"
      ],
      "text/latex": [
       "87"
      ],
      "text/markdown": [
       "87"
      ],
      "text/plain": [
       "[1] 87"
      ]
     },
     "metadata": {},
     "output_type": "display_data"
    }
   ],
   "source": [
    "nrow(data[!is.na(data$MC) & data$MC == 1,])"
   ]
  },
  {
   "cell_type": "markdown",
   "metadata": {},
   "source": [
    "A.4.5. Tra le morti avvenute, quale percentuale è stata per cause cardiache?"
   ]
  },
  {
   "cell_type": "code",
   "execution_count": 8,
   "metadata": {},
   "outputs": [
    {
     "name": "stdout",
     "output_type": "stream",
     "text": [
      "73.72881%"
     ]
    }
   ],
   "source": [
    "casi_favorevoli <- nrow(data[(!is.na(data$MC)) & data$MC == 1, ])\n",
    "casi_totali     <- nrow(data[data$MORTE == 1, ])\n",
    "cat(casi_favorevoli*100/casi_totali,\"%\",sep=\"\")"
   ]
  },
  {
   "cell_type": "markdown",
   "metadata": {},
   "source": [
    "A.5. La variabile GravitaIP è un indice di gravità dell’ipertensione.  \n",
    "A.5.1. Si tratta di un carattere scalare, ordinale oppure nominale?  \n",
    "A.5.2. Quali valori può assumere?"
   ]
  },
  {
   "cell_type": "code",
   "execution_count": 9,
   "metadata": {},
   "outputs": [
    {
     "data": {
      "text/html": [
       "<style>\n",
       ".list-inline {list-style: none; margin:0; padding: 0}\n",
       ".list-inline>li {display: inline-block}\n",
       ".list-inline>li:not(:last-child)::after {content: \"\\00b7\"; padding: 0 .5ex}\n",
       "</style>\n",
       "<ol class=list-inline><li>0</li><li>1</li><li>2</li><li>3</li></ol>\n"
      ],
      "text/latex": [
       "\\begin{enumerate*}\n",
       "\\item 0\n",
       "\\item 1\n",
       "\\item 2\n",
       "\\item 3\n",
       "\\end{enumerate*}\n"
      ],
      "text/markdown": [
       "1. 0\n",
       "2. 1\n",
       "3. 2\n",
       "4. 3\n",
       "\n",
       "\n"
      ],
      "text/plain": [
       "[1] 0 1 2 3"
      ]
     },
     "metadata": {},
     "output_type": "display_data"
    }
   ],
   "source": [
    "unique(data$GravitaIP)"
   ]
  },
  {
   "cell_type": "markdown",
   "metadata": {},
   "source": [
    "A.5.1: è ordinale in quanto rappresenta un ordinamento sulla gravità.  \n",
    "A.5.2: può assumere valori 0,1,2,3\n",
    "\n",
    "A.5.3. Produrre la tabella delle frequenze relative diGravitaIP."
   ]
  },
  {
   "cell_type": "code",
   "execution_count": 10,
   "metadata": {},
   "outputs": [
    {
     "data": {
      "text/plain": [
       "\n",
       "         0          1          2          3 \n",
       "0.63975155 0.18012422 0.11180124 0.06832298 "
      ]
     },
     "metadata": {},
     "output_type": "display_data"
    }
   ],
   "source": [
    "prop.table(table(data$GravitaIP))"
   ]
  },
  {
   "cell_type": "markdown",
   "metadata": {},
   "source": [
    "A.5.4. Tracciare un grafico opportuno per descrivere la gravità dell’ipertensione."
   ]
  },
  {
   "cell_type": "code",
   "execution_count": 11,
   "metadata": {},
   "outputs": [
    {
     "data": {
      "image/png": "[encoded data removed]",
      "text/plain": [
       "plot without title"
      ]
     },
     "metadata": {
      "image/png": {
       "height": 360,
       "width": 720
      },
      "text/plain": {
       "height": 360,
       "width": 720
      }
     },
     "output_type": "display_data"
    }
   ],
   "source": [
    "library(repr)\n",
    "layout(matrix(1:2,1,2))\n",
    "options(repr.plot.width = 12, repr.plot.height = 6)\n",
    "pie(prop.table(table(data$GravitaIP)))\n",
    "barplot(prop.table(table(data$GravitaIP)))"
   ]
  },
  {
   "cell_type": "code",
   "execution_count": 12,
   "metadata": {},
   "outputs": [
    {
     "data": {
      "image/png": "[encoded data removed]",
      "text/plain": [
       "Plot with title “INDICE DI GRAVITA': frequenze relative”"
      ]
     },
     "metadata": {
      "image/png": {
       "height": 480,
       "width": 720
      },
      "text/plain": {
       "height": 480,
       "width": 720
      }
     },
     "output_type": "display_data"
    }
   ],
   "source": [
    "### alternative ###\n",
    "\n",
    "layout(matrix(1:2,1,2))\n",
    "options(repr.plot.width = 12, repr.plot.height = 8)\n",
    "\n",
    "percentuali <- round(prop.table(table(data$GravitaIP)),2)\n",
    "valori<-names(percentuali)\n",
    "etichette <- paste(paste(valori, percentuali,sep=\"--> \"),\"%\",sep=\"\") \n",
    "colori<-grey.colors(length(etichette))\n",
    "pie(table(data$GravitaIP),labels = etichette, col= colori,main=\"INDICE DI GRAVITA': frequenze relative\")\n",
    "\n",
    "percentuali <- round(prop.table(table(data$GravitaIP)),2)\n",
    "valori<-names(percentuali)\n",
    "etichette <- paste(percentuali,\"%\",sep=\"\") \n",
    "colori<-grey.colors(length(etichette))\n",
    "pie(table(data$GravitaIP),labels = etichette, main=\"INDICE DI GRAVITA': frequenze relative\",col=grey.colors(length(etichette)))\n",
    "legend(\"topright\", valori, cex=0.7,fill=colori)"
   ]
  },
  {
   "cell_type": "markdown",
   "metadata": {},
   "source": [
    "Essendo solamente 4 i possibili valori di ``GravitàIP``,\n",
    "I grafici più adeguati sono quello a torta e quello a barre."
   ]
  },
  {
   "cell_type": "markdown",
   "metadata": {},
   "source": [
    "A.6. Consideriamo l’assunzione di farmaci antiaritmici e la morte per cause cardiache.  \n",
    "A.6.1. Produrre la tabella delle frequenze assolute del carattere Antiaritmico.  \n",
    "A.6.2. Quanti sono i cani che assumono un farmaco antiaritmico?"
   ]
  },
  {
   "cell_type": "code",
   "execution_count": 13,
   "metadata": {},
   "outputs": [
    {
     "name": "stdout",
     "output_type": "stream",
     "text": [
      "[1] \"A.6.1:\"\n",
      "\n",
      " NO  SI \n",
      "150  11 \n",
      "[1] \"A.6.2:\"\n",
      "[1] 11\n"
     ]
    }
   ],
   "source": [
    "print(\"A.6.1:\")\n",
    "print(table(data$Antiaritmico))\n",
    "print(\"A.6.2:\")\n",
    "print(nrow(data[data$Antiaritmico == \"SI\", ]))"
   ]
  },
  {
   "cell_type": "markdown",
   "metadata": {},
   "source": [
    "A.6.3. Il carattereAntiaritmico è categorico. Volendolo convertire in un carattere numerico, con quale valore numerico mettereste in corrispondenza valore \"SI\"? Con quale il\"NO\"?  \n",
    "rispettivamente 1 e 0 sembra una buona scelta. \n",
    "\n",
    "A.6.4. Produrre la tabella delle frequenze assolute congiunte dei caratteri Antiaritmico e MC."
   ]
  },
  {
   "cell_type": "code",
   "execution_count": 14,
   "metadata": {},
   "outputs": [
    {
     "data": {
      "text/plain": [
       "    \n",
       "      0  1\n",
       "  NO 28 78\n",
       "  SI  0  9"
      ]
     },
     "metadata": {},
     "output_type": "display_data"
    }
   ],
   "source": [
    "frequenze_congiunte<-table(data$Antiaritmico, data$MC); \n",
    "frequenze_congiunte"
   ]
  },
  {
   "cell_type": "markdown",
   "metadata": {},
   "source": [
    "A.6.5. Quale percentuale dei cani morti per cause cardiache assumeva un farmaco antiaritmico?"
   ]
  },
  {
   "cell_type": "code",
   "execution_count": 15,
   "metadata": {},
   "outputs": [
    {
     "name": "stdout",
     "output_type": "stream",
     "text": [
      "10.34483 %"
     ]
    }
   ],
   "source": [
    "casi_totali     <- sum(frequenze_congiunte[,\"1\"])\n",
    "casi_favorevoli <- frequenze_congiunte[\"SI\",\"1\"]\n",
    "\n",
    "cat(casi_favorevoli*100/casi_totali,\"%\")"
   ]
  },
  {
   "cell_type": "markdown",
   "metadata": {},
   "source": [
    "A.7. Il carattere SURVIVALTIME (tempo di sopravvivenza) ci dice per quanti giorni il paziente è rimasto in vita a partire dalla prima visita presso l’ambulatorio. Come mostratonei grafici di Figura 1, la distribuzione delle frequenze del tempo di sopravvivenza ha un aspetto molto diverso se si considera rispetto ai cani ancora in vita oppure a quelli morti. Potete rispondere alle seguenti due domande semplicemente ispezionando i graficidi Figura 1, considerando un anno costituito da 365 giorni.\n",
    "\n",
    "A.7.1. Quale percentuale di cani tuttora vivi è in cura presso l’ambulatorio da meno di unanno?"
   ]
  },
  {
   "cell_type": "code",
   "execution_count": 16,
   "metadata": {},
   "outputs": [
    {
     "data": {
      "text/html": [
       "65.1162790697674"
      ],
      "text/latex": [
       "65.1162790697674"
      ],
      "text/markdown": [
       "65.1162790697674"
      ],
      "text/plain": [
       "[1] 65.11628"
      ]
     },
     "metadata": {},
     "output_type": "display_data"
    }
   ],
   "source": [
    "ecdf(data[data$MORTE==0,]$SURVIVALTIME)(365)*100"
   ]
  },
  {
   "cell_type": "markdown",
   "metadata": {},
   "source": [
    "A.7.2. Quale percentuale di cani deceduti è sopravvissuta più di 3 anni?"
   ]
  },
  {
   "cell_type": "code",
   "execution_count": 17,
   "metadata": {},
   "outputs": [
    {
     "data": {
      "text/html": [
       "0.101694915254237"
      ],
      "text/latex": [
       "0.101694915254237"
      ],
      "text/markdown": [
       "0.101694915254237"
      ],
      "text/plain": [
       "[1] 0.1016949"
      ]
     },
     "metadata": {},
     "output_type": "display_data"
    }
   ],
   "source": [
    "morti <- data[data$MORTE==1,]\n",
    "s <- ecdf(morti$SURVIVALTIME)(365*3) # cani morti sopravvissuti meno di 3 anni\n",
    "1-s # cani morti sopravvissuti più di 3 anni"
   ]
  },
  {
   "cell_type": "markdown",
   "metadata": {},
   "source": [
    "A.7.3. Tracciare un grafico opportuno per descrivere il tempo di sopravvivenza."
   ]
  },
  {
   "cell_type": "code",
   "execution_count": 18,
   "metadata": {},
   "outputs": [
    {
     "data": {
      "image/png": "[encoded data removed]",
      "text/plain": [
       "Plot with title “Histogram of data$SURVIVALTIME”"
      ]
     },
     "metadata": {
      "image/png": {
       "height": 360,
       "width": 900
      },
      "text/plain": {
       "height": 360,
       "width": 900
      }
     },
     "output_type": "display_data"
    }
   ],
   "source": [
    "layout(matrix(1:2,1,2))\n",
    "options(repr.plot.width = 15, repr.plot.height = 6)\n",
    "hist(data$SURVIVALTIME,breaks=seq(0,3000,by=365),xaxt=\"n\")\n",
    "axis(side=1, at=seq(0,3000, 365))\n",
    "boxplot(data$SURVIVALTIME)\n"
   ]
  },
  {
   "cell_type": "markdown",
   "metadata": {},
   "source": [
    "7.4. La Figura 2(a) mostra il boxplot del tempo di sopravvivenza dei cani del dataset. Completare il grafico con il valore numerico degli estremi dellascatola."
   ]
  },
  {
   "cell_type": "code",
   "execution_count": 19,
   "metadata": {},
   "outputs": [
    {
     "data": {
      "text/html": [
       "113"
      ],
      "text/latex": [
       "113"
      ],
      "text/markdown": [
       "113"
      ],
      "text/plain": [
       "[1] 113"
      ]
     },
     "metadata": {},
     "output_type": "display_data"
    },
    {
     "data": {
      "text/html": [
       "711"
      ],
      "text/latex": [
       "711"
      ],
      "text/markdown": [
       "711"
      ],
      "text/plain": [
       "[1] 711"
      ]
     },
     "metadata": {},
     "output_type": "display_data"
    },
    {
     "data": {
      "text/html": [
       "113"
      ],
      "text/latex": [
       "113"
      ],
      "text/markdown": [
       "113"
      ],
      "text/plain": [
       "[1] 113"
      ]
     },
     "metadata": {},
     "output_type": "display_data"
    },
    {
     "data": {
      "text/html": [
       "711"
      ],
      "text/latex": [
       "711"
      ],
      "text/markdown": [
       "711"
      ],
      "text/plain": [
       "[1] 711"
      ]
     },
     "metadata": {},
     "output_type": "display_data"
    }
   ],
   "source": [
    "info <- boxplot(data$SURVIVALTIME, plot=FALSE);\n",
    "info$stats[2]\n",
    "info$stats[4]\n",
    "quantile(data$SURVIVALTIME,0.25)[[\"25%\"]]\n",
    "quantile(data$SURVIVALTIME,0.75)[[\"75%\"]]"
   ]
  },
  {
   "cell_type": "markdown",
   "metadata": {},
   "source": [
    "A.7.5. Quanti animali sono compresi all’interno dellascatola(estremi inclusi)?"
   ]
  },
  {
   "cell_type": "code",
   "execution_count": 20,
   "metadata": {},
   "outputs": [
    {
     "data": {
      "text/html": [
       "81"
      ],
      "text/latex": [
       "81"
      ],
      "text/markdown": [
       "81"
      ],
      "text/plain": [
       "[1] 81"
      ]
     },
     "metadata": {},
     "output_type": "display_data"
    }
   ],
   "source": [
    "nrow(data[!is.na(data$SURVIVALTIME) & data$SURVIVALTIME<=711.0  & data$SURVIVALTIME>=113.0,])"
   ]
  },
  {
   "cell_type": "code",
   "execution_count": 21,
   "metadata": {},
   "outputs": [
    {
     "data": {
      "text/html": [
       "81"
      ],
      "text/latex": [
       "81"
      ],
      "text/markdown": [
       "81"
      ],
      "text/plain": [
       "[1] 81"
      ]
     },
     "metadata": {},
     "output_type": "display_data"
    }
   ],
   "source": [
    "nrow(data[!is.na(data$SURVIVALTIME) & data$SURVIVALTIME <= 711 & data$SURVIVALTIME >= 113,])"
   ]
  },
  {
   "cell_type": "markdown",
   "metadata": {},
   "source": [
    "A.7.6. Tracciare un grafico opportuno, diverso dal boxplot, che descriva bene il tempo disopravvivenza dei cani considerati."
   ]
  },
  {
   "cell_type": "code",
   "execution_count": 22,
   "metadata": {},
   "outputs": [
    {
     "data": {
      "image/png": "[encoded data removed]",
      "text/plain": [
       "Plot with title “Histogram of data$SURVIVALTIME”"
      ]
     },
     "metadata": {
      "image/png": {
       "height": 360,
       "width": 720
      },
      "text/plain": {
       "height": 360,
       "width": 720
      }
     },
     "output_type": "display_data"
    }
   ],
   "source": [
    "layout(matrix(1:2,1,2))\n",
    "options(repr.plot.width = 12, repr.plot.height = 6)\n",
    "hist(data$SURVIVALTIME,breaks=seq(0,3000,by=c(365)))\n",
    "\n",
    "# più leggibile\n",
    "hist(data$SURVIVALTIME,breaks=seq(0,3000,by=c(365)),xaxt=\"n\")  \n",
    "axis(side=1, at=seq(0,3000, 365))"
   ]
  },
  {
   "cell_type": "markdown",
   "metadata": {},
   "source": [
    "A.7.7. Suggerite un modello teorico a voi noto che possa spiegare l’andamento aleatorio della variabile casuale X=\"Tempo di sopravvivenza dei cani che frequentano (ofrequenteranno) l’ambulatorio\". Giustificate la risposta.  \n",
    "è decrescente, potrebbe essere una geometrica o una esponenziale\n",
    "\n",
    "A.7.8. Calcolate il tempo di sopravvivenza medio."
   ]
  },
  {
   "cell_type": "code",
   "execution_count": 23,
   "metadata": {},
   "outputs": [
    {
     "data": {
      "text/html": [
       "459.888198757764"
      ],
      "text/latex": [
       "459.888198757764"
      ],
      "text/markdown": [
       "459.888198757764"
      ],
      "text/plain": [
       "[1] 459.8882"
      ]
     },
     "metadata": {},
     "output_type": "display_data"
    }
   ],
   "source": [
    "mean(data$SURVIVALTIME,na.rm=TRUE)"
   ]
  },
  {
   "cell_type": "markdown",
   "metadata": {},
   "source": [
    "A.7.9. Calcolate la deviazione standard del tempo di sopravvivenza."
   ]
  },
  {
   "cell_type": "code",
   "execution_count": 24,
   "metadata": {},
   "outputs": [
    {
     "data": {
      "text/html": [
       "467.196706347937"
      ],
      "text/latex": [
       "467.196706347937"
      ],
      "text/markdown": [
       "467.196706347937"
      ],
      "text/plain": [
       "[1] 467.1967"
      ]
     },
     "metadata": {},
     "output_type": "display_data"
    }
   ],
   "source": [
    "sd(data$SURVIVALTIME,na.rm=TRUE)"
   ]
  },
  {
   "cell_type": "markdown",
   "metadata": {},
   "source": [
    "A.8. Consideriamo il carattere Allodiast.  \n",
    "A.8.1. Controllare se esso può essere considerato normale."
   ]
  },
  {
   "cell_type": "code",
   "execution_count": 25,
   "metadata": {},
   "outputs": [
    {
     "data": {
      "text/html": [
       "2.01335403726708"
      ],
      "text/latex": [
       "2.01335403726708"
      ],
      "text/markdown": [
       "2.01335403726708"
      ],
      "text/plain": [
       "[1] 2.013354"
      ]
     },
     "metadata": {},
     "output_type": "display_data"
    },
    {
     "data": {
      "text/html": [
       "2"
      ],
      "text/latex": [
       "2"
      ],
      "text/markdown": [
       "2"
      ],
      "text/plain": [
       "[1] 2"
      ]
     },
     "metadata": {},
     "output_type": "display_data"
    },
    {
     "data": {
      "image/png": "[encoded data removed]",
      "text/plain": [
       "Plot with title “Normal Q-Q Plot”"
      ]
     },
     "metadata": {
      "image/png": {
       "height": 360,
       "width": 720
      },
      "text/plain": {
       "height": 360,
       "width": 720
      }
     },
     "output_type": "display_data"
    }
   ],
   "source": [
    "layout(matrix(1:2,1,2))\n",
    "options(repr.plot.width = 12, repr.plot.height = 6)\n",
    "\n",
    "hist(data$Allodiast,breaks=seq(1,3,0.1)) \n",
    "\n",
    "mean(data$Allodiast)\n",
    "median(data$Allodiast)\n",
    "\n",
    "qqnorm(data$Allodiast)\n",
    "qqline(data$Allodiast)"
   ]
  },
  {
   "cell_type": "markdown",
   "metadata": {},
   "source": [
    "media e mediana sono simili -> favore alla normalità.  \n",
    "dall'istogramma si vede una certa simmetria.  \n",
    "dal qqplot c'è una buona aderenza alla normalità meno nelle code.  \n",
    "\n",
    "A.8.2. Controllare che nell’intervallo di semi ampiezza 2 deviazioni standard e centrato sulla media risiede circa il 96% delle osservazioni per tale carattere."
   ]
  },
  {
   "cell_type": "code",
   "execution_count": 69,
   "metadata": {},
   "outputs": [
    {
     "data": {
      "text/html": [
       "0.962732919254658"
      ],
      "text/latex": [
       "0.962732919254658"
      ],
      "text/markdown": [
       "0.962732919254658"
      ],
      "text/plain": [
       "[1] 0.9627329"
      ]
     },
     "metadata": {},
     "output_type": "display_data"
    }
   ],
   "source": [
    "media <- mean(data$Allodiast,na.rm=T)\n",
    "devst <- sd(data$Allodiast,na.rm=T)\n",
    "a <- 2\n",
    "ecdf_Allodiast <- ecdf(data$Allodiast)\n",
    "\n",
    "ecdf_Allodiast(media + a * devst)-ecdf_Allodiast(media - a * devst)"
   ]
  },
  {
   "cell_type": "markdown",
   "metadata": {},
   "source": [
    "Per conclude ``Allodiast`` non è normale, ma si comporta come tale vicino alla media (cioè fino a due deviazioni standard dalla media).\n",
    "\n",
    "A.9. I caratteri EDVI e Allodiast sono indipendenti? Motivare la risposta, anche con l’ausilio di un grafico."
   ]
  },
  {
   "cell_type": "code",
   "execution_count": 27,
   "metadata": {},
   "outputs": [
    {
     "data": {
      "text/html": [
       "0.907303981775358"
      ],
      "text/latex": [
       "0.907303981775358"
      ],
      "text/markdown": [
       "0.907303981775358"
      ],
      "text/plain": [
       "[1] 0.907304"
      ]
     },
     "metadata": {},
     "output_type": "display_data"
    },
    {
     "data": {
      "image/png": "[encoded data removed]",
      "text/plain": [
       "plot without title"
      ]
     },
     "metadata": {
      "image/png": {
       "height": 360,
       "width": 720
      },
      "text/plain": {
       "height": 360,
       "width": 720
      }
     },
     "output_type": "display_data"
    }
   ],
   "source": [
    "plot(data$EDVI, data$Allodiast)\n",
    "cor(data$EDVI, data$Allodiast)"
   ]
  },
  {
   "cell_type": "markdown",
   "metadata": {},
   "source": [
    "c'è infetti una relazione lineare tra ``EDVI`` e ``Allodiast``  .  \n",
    "Infatti, all'aumentare di uno aumenta anche l'altro.\n",
    "\n",
    "## Esercizio B\n",
    "\n",
    "Create una variabile che contenga la parte di dataset relativa ai cani morti e considerando soltanto i casi in cui sia il carattere MC, sia il carattere OndaEA non siano mancanti. Nel presente esercizio le domande si riferiranno esclusivamente a questo sottoinsieme di casi."
   ]
  },
  {
   "cell_type": "code",
   "execution_count": 28,
   "metadata": {},
   "outputs": [],
   "source": [
    "dataB<-data[data$MORTE==1&!is.na(data$MC)&!is.na(data$OndaEA),]"
   ]
  },
  {
   "cell_type": "markdown",
   "metadata": {},
   "source": [
    "B.1. L’OndaEA è un carattere scalare oppure ordinale?  \n",
    "E' un carattere scalare\n",
    "\n",
    "\n",
    "B.2. Produrre il boxplot relativo al carattere OndaEA"
   ]
  },
  {
   "cell_type": "code",
   "execution_count": 29,
   "metadata": {},
   "outputs": [
    {
     "data": {
      "image/png": "[encoded data removed]",
      "text/plain": [
       "Plot with title “Onda EA”"
      ]
     },
     "metadata": {
      "image/png": {
       "height": 360,
       "width": 360
      },
      "text/plain": {
       "height": 360,
       "width": 360
      }
     },
     "output_type": "display_data"
    }
   ],
   "source": [
    "options(repr.plot.width = 6, repr.plot.height = 6)\n",
    "boxplot(dataB$OndaEA, main= \"Onda EA\")"
   ]
  },
  {
   "cell_type": "markdown",
   "metadata": {},
   "source": [
    "B.3. Il grafico ottenuto dovrebbe mostrare la presenza di un outlier. Determinare il valore diOndaEAper tale individuo."
   ]
  },
  {
   "cell_type": "code",
   "execution_count": 70,
   "metadata": {},
   "outputs": [
    {
     "data": {
      "text/html": [
       "4.19"
      ],
      "text/latex": [
       "4.19"
      ],
      "text/markdown": [
       "4.19"
      ],
      "text/plain": [
       "[1] 4.19"
      ]
     },
     "metadata": {},
     "output_type": "display_data"
    }
   ],
   "source": [
    "max(dataB$OndaEA)"
   ]
  },
  {
   "cell_type": "markdown",
   "metadata": {},
   "source": [
    "B.4. L’outlier individuato è un cane morto per cause cardiache oppure no?"
   ]
  },
  {
   "cell_type": "code",
   "execution_count": 31,
   "metadata": {},
   "outputs": [
    {
     "data": {
      "text/html": [
       "1"
      ],
      "text/latex": [
       "1"
      ],
      "text/markdown": [
       "1"
      ],
      "text/plain": [
       "[1] 1"
      ]
     },
     "metadata": {},
     "output_type": "display_data"
    }
   ],
   "source": [
    "dataB[dataB$OndaEA == max(dataB$OndaEA),]$MC"
   ]
  },
  {
   "cell_type": "markdown",
   "metadata": {},
   "source": [
    "B.5. Si controlli che il terzo quartile, chiamiamolo s, dell’OndaEA relativamente ai cani deceduti per cause non cardiache è 1.41."
   ]
  },
  {
   "cell_type": "code",
   "execution_count": 77,
   "metadata": {},
   "outputs": [
    {
     "data": {
      "text/html": [
       "1.41"
      ],
      "text/latex": [
       "1.41"
      ],
      "text/markdown": [
       "1.41"
      ],
      "text/plain": [
       "[1] 1.41"
      ]
     },
     "metadata": {},
     "output_type": "display_data"
    }
   ],
   "source": [
    "s <- quantile(dataB[dataB$MC==0,\"OndaEA\"],0.75,na.rm=TRUE)[[\"75%\"]]\n",
    "s"
   ]
  },
  {
   "cell_type": "markdown",
   "metadata": {},
   "source": [
    "B.6. Quanti sono i cani deceduti per cause cardiache? Quanti per altre cause?"
   ]
  },
  {
   "cell_type": "code",
   "execution_count": 33,
   "metadata": {},
   "outputs": [
    {
     "data": {
      "text/html": [
       "66"
      ],
      "text/latex": [
       "66"
      ],
      "text/markdown": [
       "66"
      ],
      "text/plain": [
       "[1] 66"
      ]
     },
     "metadata": {},
     "output_type": "display_data"
    },
    {
     "data": {
      "text/html": [
       "17"
      ],
      "text/latex": [
       "17"
      ],
      "text/markdown": [
       "17"
      ],
      "text/plain": [
       "[1] 17"
      ]
     },
     "metadata": {},
     "output_type": "display_data"
    }
   ],
   "source": [
    "nrow(dataB[dataB$MC==1,])\n",
    "nrow(dataB[dataB$MC==0,])"
   ]
  },
  {
   "cell_type": "markdown",
   "metadata": {},
   "source": [
    "B.7. All’interno del dataset che stiamo considerando, quanti cani deceduti per cause cardiache avevano il valore di OndaEA ≥ s? E quanti cani deceduti per cause non cardiache avevano il valore di OndaEA < s?"
   ]
  },
  {
   "cell_type": "code",
   "execution_count": 34,
   "metadata": {},
   "outputs": [
    {
     "data": {
      "text/html": [
       "41"
      ],
      "text/latex": [
       "41"
      ],
      "text/markdown": [
       "41"
      ],
      "text/plain": [
       "[1] 41"
      ]
     },
     "metadata": {},
     "output_type": "display_data"
    },
    {
     "data": {
      "text/html": [
       "12"
      ],
      "text/latex": [
       "12"
      ],
      "text/markdown": [
       "12"
      ],
      "text/plain": [
       "[1] 12"
      ]
     },
     "metadata": {},
     "output_type": "display_data"
    }
   ],
   "source": [
    "nrow(dataB[dataB$MC==1 & dataB$OndaEA >= s,])\n",
    "nrow(dataB[dataB$MC==0 & dataB$OndaEA < s,])"
   ]
  },
  {
   "cell_type": "markdown",
   "metadata": {},
   "source": [
    "B.8. Utilizziamo il valore s trovato al punto 5. come soglia per un classificatore binario che discrimina tra morte cardiaca e morte non cardiaca: il classificatore classificherà come morte cardiaca i casi per i quali OndaEA ≥ s e come morte non cardiaca i casi per i quali OndaEA < s. Calcolare la sensibilità e la specificità di questo classificatore."
   ]
  },
  {
   "cell_type": "code",
   "execution_count": 35,
   "metadata": {},
   "outputs": [
    {
     "data": {
      "text/html": [
       "0.621212121212121"
      ],
      "text/latex": [
       "0.621212121212121"
      ],
      "text/markdown": [
       "0.621212121212121"
      ],
      "text/plain": [
       "[1] 0.6212121"
      ]
     },
     "metadata": {},
     "output_type": "display_data"
    },
    {
     "data": {
      "text/html": [
       "0.705882352941177"
      ],
      "text/latex": [
       "0.705882352941177"
      ],
      "text/markdown": [
       "0.705882352941177"
      ],
      "text/plain": [
       "[1] 0.7058824"
      ]
     },
     "metadata": {},
     "output_type": "display_data"
    },
    {
     "data": {
      "text/html": [
       "0.294117647058823"
      ],
      "text/latex": [
       "0.294117647058823"
      ],
      "text/markdown": [
       "0.294117647058823"
      ],
      "text/plain": [
       "[1] 0.2941176"
      ]
     },
     "metadata": {},
     "output_type": "display_data"
    }
   ],
   "source": [
    "TP <- nrow(dataB[dataB$MC==1 & dataB$OndaEA >= s,]) # quei valori che sono classificati T ed sono realmente T\n",
    "FP <- nrow(dataB[dataB$MC==0 & dataB$OndaEA >= s,]) # quei valori che sono classificati T ed sono realmente F\n",
    "TN <- nrow(dataB[dataB$MC==0 & dataB$OndaEA < s,])  # quei valori che sono classificati F ed sono realmente F\n",
    "FN <- nrow(dataB[dataB$MC==1 & dataB$OndaEA < s,])  # quei valori che sono classificati F ed sono realmente T\n",
    "sensibilita <- TP / ( TP + FN ) # il rapporto le predizioni corrette e le predizioni totali (considenrando però solamente i realemente T)\n",
    "specificita <- TN / ( FP + TN ) # il rapporto le predizioni corrette e le predizioni totali (considenrando però solamente i realemente F)\n",
    "sensibilita   # True positive rate TPR\n",
    "specificita   # True negative rate TNR\n",
    "1-specificita # False positive rate FPR"
   ]
  },
  {
   "cell_type": "markdown",
   "metadata": {},
   "source": [
    "B.9. Tracciare il grafico della curva ROC per il classificatore individuato nei punti precedenti, basato sul carattere OndaEA."
   ]
  },
  {
   "cell_type": "code",
   "execution_count": 83,
   "metadata": {},
   "outputs": [
    {
     "data": {
      "image/png": "[encoded data removed]",
      "text/plain": [
       "plot without title"
      ]
     },
     "metadata": {
      "image/png": {
       "height": 360,
       "width": 360
      },
      "text/plain": {
       "height": 360,
       "width": 360
      }
     },
     "output_type": "display_data"
    }
   ],
   "source": [
    "soglie <- unique(sort(data$OndaEA))\n",
    "sensibilita <- c()\n",
    "specificita <- c()\n",
    "for (s in soglie) {\n",
    "    TP <- nrow(dataB[!is.na(dataB$MC) & !is.na(dataB$OndaEA) & dataB$MC==1 & dataB$OndaEA >= s,])\n",
    "    FP <- nrow(dataB[!is.na(dataB$MC) & !is.na(dataB$OndaEA) & dataB$MC==0 & dataB$OndaEA >= s,])\n",
    "    TN <- nrow(dataB[!is.na(dataB$MC) & !is.na(dataB$OndaEA) & dataB$MC==0 & dataB$OndaEA < s,])\n",
    "    FN <- nrow(dataB[!is.na(dataB$MC) & !is.na(dataB$OndaEA) & dataB$MC==1 & dataB$OndaEA < s,])\n",
    "    sensibilita <- c(sensibilita, TP / ( TP + FN ))\n",
    "    specificita <- c(specificita, TN / ( FP + TN ))\n",
    "}\n",
    "plot(1-specificita,sensibilita,type = \"l\",xlab = \"FPR\",ylab = \"TPR\", col=\"blue\")\n",
    "lines(c(0,1),c(0,1),type=\"l\",col=\"grey\")"
   ]
  },
  {
   "cell_type": "code",
   "execution_count": 82,
   "metadata": {},
   "outputs": [
    {
     "name": "stderr",
     "output_type": "stream",
     "text": [
      "Setting levels: control = 0, case = 1\n",
      "\n",
      "Setting direction: controls < cases\n",
      "\n"
     ]
    },
    {
     "data": {
      "image/png": "[encoded data removed]",
      "text/plain": [
       "plot without title"
      ]
     },
     "metadata": {
      "image/png": {
       "height": 360,
       "width": 360
      },
      "text/plain": {
       "height": 360,
       "width": 360
      }
     },
     "output_type": "display_data"
    }
   ],
   "source": [
    "library(pROC)\n",
    "plot.roc(dataB$MC, dataB$OndaEA, col=\"blue\")"
   ]
  }
 ],
 "metadata": {
  "kernelspec": {
   "display_name": "R",
   "language": "R",
   "name": "ir"
  },
  "language_info": {
   "codemirror_mode": "r",
   "file_extension": ".r",
   "mimetype": "text/x-r-source",
   "name": "R",
   "pygments_lexer": "r",
   "version": "3.6.1"
  }
 },
 "nbformat": 4,
 "nbformat_minor": 4
}
