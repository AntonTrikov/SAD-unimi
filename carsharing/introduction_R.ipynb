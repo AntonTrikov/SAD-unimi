{
 "cells": [
  {
   "cell_type": "markdown",
   "metadata": {},
   "source": [
    "## Creazione di vettori"
   ]
  },
  {
   "cell_type": "code",
   "execution_count": 19,
   "metadata": {},
   "outputs": [
    {
     "data": {
      "text/html": [
       "<style>\n",
       ".list-inline {list-style: none; margin:0; padding: 0}\n",
       ".list-inline>li {display: inline-block}\n",
       ".list-inline>li:not(:last-child)::after {content: \"\\00b7\"; padding: 0 .5ex}\n",
       "</style>\n",
       "<ol class=list-inline><li>0</li><li>1</li><li>2</li><li>3</li><li>4</li><li>5</li></ol>\n"
      ],
      "text/latex": [
       "\\begin{enumerate*}\n",
       "\\item 0\n",
       "\\item 1\n",
       "\\item 2\n",
       "\\item 3\n",
       "\\item 4\n",
       "\\item 5\n",
       "\\end{enumerate*}\n"
      ],
      "text/markdown": [
       "1. 0\n",
       "2. 1\n",
       "3. 2\n",
       "4. 3\n",
       "5. 4\n",
       "6. 5\n",
       "\n",
       "\n"
      ],
      "text/plain": [
       "[1] 0 1 2 3 4 5"
      ]
     },
     "metadata": {},
     "output_type": "display_data"
    },
    {
     "data": {
      "text/html": [
       "<style>\n",
       ".list-inline {list-style: none; margin:0; padding: 0}\n",
       ".list-inline>li {display: inline-block}\n",
       ".list-inline>li:not(:last-child)::after {content: \"\\00b7\"; padding: 0 .5ex}\n",
       "</style>\n",
       "<ol class=list-inline><li>0</li><li>1</li><li>2</li><li>3</li><li>4</li><li>5</li><li>6</li><li>7</li></ol>\n"
      ],
      "text/latex": [
       "\\begin{enumerate*}\n",
       "\\item 0\n",
       "\\item 1\n",
       "\\item 2\n",
       "\\item 3\n",
       "\\item 4\n",
       "\\item 5\n",
       "\\item 6\n",
       "\\item 7\n",
       "\\end{enumerate*}\n"
      ],
      "text/markdown": [
       "1. 0\n",
       "2. 1\n",
       "3. 2\n",
       "4. 3\n",
       "5. 4\n",
       "6. 5\n",
       "7. 6\n",
       "8. 7\n",
       "\n",
       "\n"
      ],
      "text/plain": [
       "[1] 0 1 2 3 4 5 6 7"
      ]
     },
     "metadata": {},
     "output_type": "display_data"
    },
    {
     "data": {
      "text/html": [
       "<style>\n",
       ".list-inline {list-style: none; margin:0; padding: 0}\n",
       ".list-inline>li {display: inline-block}\n",
       ".list-inline>li:not(:last-child)::after {content: \"\\00b7\"; padding: 0 .5ex}\n",
       "</style>\n",
       "<ol class=list-inline><li>0</li><li>1</li><li>2</li><li>3</li><li>4</li><li>5</li><li>6</li><li>7</li></ol>\n"
      ],
      "text/latex": [
       "\\begin{enumerate*}\n",
       "\\item 0\n",
       "\\item 1\n",
       "\\item 2\n",
       "\\item 3\n",
       "\\item 4\n",
       "\\item 5\n",
       "\\item 6\n",
       "\\item 7\n",
       "\\end{enumerate*}\n"
      ],
      "text/markdown": [
       "1. 0\n",
       "2. 1\n",
       "3. 2\n",
       "4. 3\n",
       "5. 4\n",
       "6. 5\n",
       "7. 6\n",
       "8. 7\n",
       "\n",
       "\n"
      ],
      "text/plain": [
       "[1] 0 1 2 3 4 5 6 7"
      ]
     },
     "metadata": {},
     "output_type": "display_data"
    },
    {
     "data": {
      "text/html": [
       "<style>\n",
       ".list-inline {list-style: none; margin:0; padding: 0}\n",
       ".list-inline>li {display: inline-block}\n",
       ".list-inline>li:not(:last-child)::after {content: \"\\00b7\"; padding: 0 .5ex}\n",
       "</style>\n",
       "<ol class=list-inline><li>0</li><li>2</li><li>4</li><li>6</li><li>8</li><li>10</li></ol>\n"
      ],
      "text/latex": [
       "\\begin{enumerate*}\n",
       "\\item 0\n",
       "\\item 2\n",
       "\\item 4\n",
       "\\item 6\n",
       "\\item 8\n",
       "\\item 10\n",
       "\\end{enumerate*}\n"
      ],
      "text/markdown": [
       "1. 0\n",
       "2. 2\n",
       "3. 4\n",
       "4. 6\n",
       "5. 8\n",
       "6. 10\n",
       "\n",
       "\n"
      ],
      "text/plain": [
       "[1]  0  2  4  6  8 10"
      ]
     },
     "metadata": {},
     "output_type": "display_data"
    },
    {
     "data": {
      "text/html": [
       "<style>\n",
       ".list-inline {list-style: none; margin:0; padding: 0}\n",
       ".list-inline>li {display: inline-block}\n",
       ".list-inline>li:not(:last-child)::after {content: \"\\00b7\"; padding: 0 .5ex}\n",
       "</style>\n",
       "<ol class=list-inline><li>0</li><li>2.5</li><li>5</li><li>7.5</li><li>10</li></ol>\n"
      ],
      "text/latex": [
       "\\begin{enumerate*}\n",
       "\\item 0\n",
       "\\item 2.5\n",
       "\\item 5\n",
       "\\item 7.5\n",
       "\\item 10\n",
       "\\end{enumerate*}\n"
      ],
      "text/markdown": [
       "1. 0\n",
       "2. 2.5\n",
       "3. 5\n",
       "4. 7.5\n",
       "5. 10\n",
       "\n",
       "\n"
      ],
      "text/plain": [
       "[1]  0.0  2.5  5.0  7.5 10.0"
      ]
     },
     "metadata": {},
     "output_type": "display_data"
    },
    {
     "data": {
      "text/html": [
       "<style>\n",
       ".list-inline {list-style: none; margin:0; padding: 0}\n",
       ".list-inline>li {display: inline-block}\n",
       ".list-inline>li:not(:last-child)::after {content: \"\\00b7\"; padding: 0 .5ex}\n",
       "</style>\n",
       "<ol class=list-inline><li>TRUE</li><li>FALSE</li><li>TRUE</li><li>TRUE</li></ol>\n"
      ],
      "text/latex": [
       "\\begin{enumerate*}\n",
       "\\item TRUE\n",
       "\\item FALSE\n",
       "\\item TRUE\n",
       "\\item TRUE\n",
       "\\end{enumerate*}\n"
      ],
      "text/markdown": [
       "1. TRUE\n",
       "2. FALSE\n",
       "3. TRUE\n",
       "4. TRUE\n",
       "\n",
       "\n"
      ],
      "text/plain": [
       "[1]  TRUE FALSE  TRUE  TRUE"
      ]
     },
     "metadata": {},
     "output_type": "display_data"
    },
    {
     "data": {
      "text/html": [
       "<style>\n",
       ".list-inline {list-style: none; margin:0; padding: 0}\n",
       ".list-inline>li {display: inline-block}\n",
       ".list-inline>li:not(:last-child)::after {content: \"\\00b7\"; padding: 0 .5ex}\n",
       "</style>\n",
       "<ol class=list-inline><li>'one'</li><li>'two'</li><li>'three'</li></ol>\n"
      ],
      "text/latex": [
       "\\begin{enumerate*}\n",
       "\\item 'one'\n",
       "\\item 'two'\n",
       "\\item 'three'\n",
       "\\end{enumerate*}\n"
      ],
      "text/markdown": [
       "1. 'one'\n",
       "2. 'two'\n",
       "3. 'three'\n",
       "\n",
       "\n"
      ],
      "text/plain": [
       "[1] \"one\"   \"two\"   \"three\""
      ]
     },
     "metadata": {},
     "output_type": "display_data"
    },
    {
     "data": {
      "text/html": [
       "<style>\n",
       ".list-inline {list-style: none; margin:0; padding: 0}\n",
       ".list-inline>li {display: inline-block}\n",
       ".list-inline>li:not(:last-child)::after {content: \"\\00b7\"; padding: 0 .5ex}\n",
       "</style>\n",
       "<ol class=list-inline><li>'one'</li><li>'two'</li><li>'three'</li></ol>\n"
      ],
      "text/latex": [
       "\\begin{enumerate*}\n",
       "\\item 'one'\n",
       "\\item 'two'\n",
       "\\item 'three'\n",
       "\\end{enumerate*}\n"
      ],
      "text/markdown": [
       "1. 'one'\n",
       "2. 'two'\n",
       "3. 'three'\n",
       "\n",
       "\n"
      ],
      "text/plain": [
       "[1] \"one\"   \"two\"   \"three\""
      ]
     },
     "metadata": {},
     "output_type": "display_data"
    },
    {
     "data": {
      "text/html": [
       "<style>\n",
       ".list-inline {list-style: none; margin:0; padding: 0}\n",
       ".list-inline>li {display: inline-block}\n",
       ".list-inline>li:not(:last-child)::after {content: \"\\00b7\"; padding: 0 .5ex}\n",
       "</style>\n",
       "<ol class=list-inline><li>1</li><li>2</li><li>3</li><li>1</li><li>2</li><li>3</li><li>1</li><li>2</li><li>3</li><li>1</li><li>2</li><li>3</li><li>1</li><li>2</li><li>3</li></ol>\n"
      ],
      "text/latex": [
       "\\begin{enumerate*}\n",
       "\\item 1\n",
       "\\item 2\n",
       "\\item 3\n",
       "\\item 1\n",
       "\\item 2\n",
       "\\item 3\n",
       "\\item 1\n",
       "\\item 2\n",
       "\\item 3\n",
       "\\item 1\n",
       "\\item 2\n",
       "\\item 3\n",
       "\\item 1\n",
       "\\item 2\n",
       "\\item 3\n",
       "\\end{enumerate*}\n"
      ],
      "text/markdown": [
       "1. 1\n",
       "2. 2\n",
       "3. 3\n",
       "4. 1\n",
       "5. 2\n",
       "6. 3\n",
       "7. 1\n",
       "8. 2\n",
       "9. 3\n",
       "10. 1\n",
       "11. 2\n",
       "12. 3\n",
       "13. 1\n",
       "14. 2\n",
       "15. 3\n",
       "\n",
       "\n"
      ],
      "text/plain": [
       " [1] 1 2 3 1 2 3 1 2 3 1 2 3 1 2 3"
      ]
     },
     "metadata": {},
     "output_type": "display_data"
    },
    {
     "data": {
      "text/html": [
       "<style>\n",
       ".list-inline {list-style: none; margin:0; padding: 0}\n",
       ".list-inline>li {display: inline-block}\n",
       ".list-inline>li:not(:last-child)::after {content: \"\\00b7\"; padding: 0 .5ex}\n",
       "</style>\n",
       "<ol class=list-inline><li>'one'</li><li>'two'</li><li>'one'</li><li>'two'</li><li>'one'</li></ol>\n"
      ],
      "text/latex": [
       "\\begin{enumerate*}\n",
       "\\item 'one'\n",
       "\\item 'two'\n",
       "\\item 'one'\n",
       "\\item 'two'\n",
       "\\item 'one'\n",
       "\\end{enumerate*}\n"
      ],
      "text/markdown": [
       "1. 'one'\n",
       "2. 'two'\n",
       "3. 'one'\n",
       "4. 'two'\n",
       "5. 'one'\n",
       "\n",
       "\n"
      ],
      "text/plain": [
       "[1] \"one\" \"two\" \"one\" \"two\" \"one\""
      ]
     },
     "metadata": {},
     "output_type": "display_data"
    }
   ],
   "source": [
    "c(0,1,2,3,4,5)                    # crea un vettore con gli elementi 1,2,3,4,5,6 e 7\n",
    "c(0:7)                            # crea un vettore con gli elementi da 0 a 7\n",
    "0:7                               # crea un vettore con gli elementi da 0 a 7\n",
    "seq(from=0,to=10,by=2)            # crea un vettore con gli elementi da 0 a 7 con step di 2\n",
    "seq(from=0,to=10,length.out=5)    # crea un vettore da 0 a 10 con 5 elementi\n",
    "c(TRUE,FALSE,TRUE,TRUE)           # crea un vettore di bool\n",
    "c(\"one\", \"two\", \"three\")          # crea un vettore di stringhe\n",
    "c(\"one\", c(\"two\", \"three\"))       # crea un vettore con \"one\" concatenato con il vettore \"two\",\"three\"\n",
    "rep(1:3, times=5)                 # ripete il vettore 1,2,3 per 5 volte\n",
    "rep(c(\"one\",\"two\"), length.out=5) # ripete il vettore \"one\",\"two\" fino ad essere di lunghezza 5"
   ]
  },
  {
   "cell_type": "markdown",
   "metadata": {},
   "source": [
    "## Prints"
   ]
  },
  {
   "cell_type": "code",
   "execution_count": 66,
   "metadata": {},
   "outputs": [
    {
     "name": "stdout",
     "output_type": "stream",
     "text": [
      "[1] \"there we have a print of a vector:\"\n",
      " [1]  1  2  3  4  5  6  7  8  9 10\n",
      "there we have a print of a vector: 1 2 3 4 5 6 7 8 9 10 \n"
     ]
    }
   ],
   "source": [
    "print(\"there we have a print of a vector:\")                 # stampa la rappresentazione stringa dell'oggetto passato come argomento.\n",
    "print(c(1:10))                                              # stampa la rappresentazione stringa del vettore c(1:10).\n",
    "cat(\"there we have a print of a vector:\", c(1:10),end=\"\\n\") # concatena stringhe delle rappresentazione degli argomenti."
   ]
  },
  {
   "cell_type": "markdown",
   "metadata": {},
   "source": [
    "## Assegnamenti"
   ]
  },
  {
   "cell_type": "code",
   "execution_count": 48,
   "metadata": {},
   "outputs": [
    {
     "name": "stdout",
     "output_type": "stream",
     "text": [
      "x=1, y=2, z=3, k=4, t=5"
     ]
    }
   ],
   "source": [
    "x <- 1\n",
    "y <<- 2\n",
    "3 -> z\n",
    "4 ->> k\n",
    "t = 5\n",
    "cat(\"x=\",x,\", y=\",y,\", z=\",z,\", k=\",k,\", t=\",t, sep=\"\")"
   ]
  },
  {
   "cell_type": "markdown",
   "metadata": {},
   "source": [
    "## Dati non disponibili\n",
    "I dati mancanti vengono segnati con il valore ```NA```  .  \n",
    "Gli ```NA``` vengono tratti in modo un po differente da come ci si aspetterebbe  .  \n",
    "Per esempio, ```NA == NA``` ha come risultato ```NA```.\n",
    "Per verificare se un elemento è ```NA``` utilizziamo ```is.na(x)``` che ritorna ```TRUE``` solo se ```x``` ha valore ```NA```."
   ]
  },
  {
   "cell_type": "code",
   "execution_count": 65,
   "metadata": {},
   "outputs": [
    {
     "name": "stdout",
     "output_type": "stream",
     "text": [
      "NA == NA  is evaluated in NA \n",
      "is.na(NA) is evaluated in TRUE \n",
      "is.na(x)  is evaluated in FALSE FALSE FALSE TRUE FALSE FALSE \n"
     ]
    }
   ],
   "source": [
    "x <- c(1,2,3,NA,3,4) \n",
    "cat(\"NA == NA  is evaluated in\", NA == NA ,\"\\n\")\n",
    "cat(\"is.na(NA) is evaluated in\", is.na(NA),\"\\n\")\n",
    "cat(\"is.na(x)  is evaluated in\", is.na(x) ,\"\\n\")"
   ]
  },
  {
   "cell_type": "markdown",
   "metadata": {},
   "source": [
    "## Indicizzazione 1D\n",
    "l'indicizzazione in R può avvenire attraverso le seguenti:\n",
    "- singolo indice.\n",
    "- vettori di indici.\n",
    "- maschere (vettori di booleani), se la maschera è incompleta il valore di default è ```TRUE```.\n",
    "- espressioni booleane.\n",
    "L'indicizzazione parte da 1."
   ]
  },
  {
   "cell_type": "code",
   "execution_count": 2,
   "metadata": {},
   "outputs": [
    {
     "name": "stdout",
     "output_type": "stream",
     "text": [
      "x[1]           = 1 \n",
      "x[c(1,3,5,2)]  = 1 3 5 2 \n",
      "x[1:5]         = 1 2 3 4 5 \n",
      "x[mask]        = 1 3 5 7 9 \n",
      "x[x %% 2 == 0] = 2 4 6 8 10 \n"
     ]
    }
   ],
   "source": [
    "x <- c(1:10)\n",
    "\n",
    "cat(\"x[1]           =\", x[1]         , end=\"\\n\")\n",
    "cat(\"x[c(1,3,5,2)]  =\", x[c(1,3,5,2)], end=\"\\n\")\n",
    "cat(\"x[1:5]         =\", x[1:5]       , end=\"\\n\")\n",
    "\n",
    "mask <- rep(c(TRUE,FALSE),lengh.to=10)\n",
    "\n",
    "cat(\"x[mask]        =\", x[mask]      , end=\"\\n\")\n",
    "cat(\"x[x %% 2 == 0] =\", x[x %% 2==0] , end=\"\\n\")"
   ]
  },
  {
   "cell_type": "markdown",
   "metadata": {},
   "source": [
    "Notate che la valutazione dell'espressione ```x %% 2 == 0``` non fa altro che ritornare la maschera sugli elementi:  \n",
    "```FALSE, TRUE, FALSE, TRUE, FALSE, TRUE, FALSE, TRUE, FALSE, TRUE```  .  \n",
    "Lo stesso vale anche per le funzioni, queste vengono broadcastate (eseguite elemento per elemento) su tutto il vettore.  \n",
    "Per esempio: ```c(1,2,3)+2``` ritorna ```3,4,5```  .    \n",
    "O ancora: ```is.na(c(1,NA,3))``` ritorna ```FALSE,TRUE,FALSE```  .  \n",
    "Di conseguenza: ```x[!is.na(x)]``` può essere utilizzata per filtrare gli elementi ```NA``` da un vettore."
   ]
  },
  {
   "cell_type": "markdown",
   "metadata": {},
   "source": [
    "## Utilities\n",
    "Di seguito riporto alcune primitive di R che possono tornarvi utili:\n",
    "- ```max(x)``` massimo di x.\n",
    "- ```min(x)``` minimo di x.\n",
    "- ```sum(x)``` somma degli elementi di x.\n",
    "- ```sort(x)``` copia ordinata di x.\n",
    "- ```unique(x)``` copia di x senza ripetizioni.\n",
    "- ```sample(x, n, replace = TRUE)``` estrae n elementi a caso.\n",
    "- ```table(x)``` frequenze assolute di x.\n",
    "- ```prop.table(table(x))``` frequenze relative di x.\n",
    "- ```paste(x, y, sep = c)``` concatena ogni stringa di x con il separatore c e la rispettiva stringa di y."
   ]
  },
  {
   "cell_type": "markdown",
   "metadata": {},
   "source": [
    "## DataFrame"
   ]
  },
  {
   "cell_type": "code",
   "execution_count": 69,
   "metadata": {},
   "outputs": [
    {
     "data": {
      "text/html": [
       "<table>\n",
       "<caption>A data.frame: 5 × 3</caption>\n",
       "<thead>\n",
       "\t<tr><th></th><th scope=col>col1</th><th scope=col>col2</th><th scope=col>col3</th></tr>\n",
       "\t<tr><th></th><th scope=col>&lt;int&gt;</th><th scope=col>&lt;fct&gt;</th><th scope=col>&lt;int&gt;</th></tr>\n",
       "</thead>\n",
       "<tbody>\n",
       "\t<tr><th scope=row>1</th><td>1</td><td>A</td><td>1</td></tr>\n",
       "\t<tr><th scope=row>2</th><td>2</td><td>B</td><td>2</td></tr>\n",
       "\t<tr><th scope=row>3</th><td>3</td><td>C</td><td>3</td></tr>\n",
       "\t<tr><th scope=row>4</th><td>4</td><td>A</td><td>1</td></tr>\n",
       "\t<tr><th scope=row>5</th><td>5</td><td>B</td><td>2</td></tr>\n",
       "</tbody>\n",
       "</table>\n"
      ],
      "text/latex": [
       "A data.frame: 5 × 3\n",
       "\\begin{tabular}{r|lll}\n",
       "  & col1 & col2 & col3\\\\\n",
       "  & <int> & <fct> & <int>\\\\\n",
       "\\hline\n",
       "\t1 & 1 & A & 1\\\\\n",
       "\t2 & 2 & B & 2\\\\\n",
       "\t3 & 3 & C & 3\\\\\n",
       "\t4 & 4 & A & 1\\\\\n",
       "\t5 & 5 & B & 2\\\\\n",
       "\\end{tabular}\n"
      ],
      "text/markdown": [
       "\n",
       "A data.frame: 5 × 3\n",
       "\n",
       "| <!--/--> | col1 &lt;int&gt; | col2 &lt;fct&gt; | col3 &lt;int&gt; |\n",
       "|---|---|---|---|\n",
       "| 1 | 1 | A | 1 |\n",
       "| 2 | 2 | B | 2 |\n",
       "| 3 | 3 | C | 3 |\n",
       "| 4 | 4 | A | 1 |\n",
       "| 5 | 5 | B | 2 |\n",
       "\n"
      ],
      "text/plain": [
       "  col1 col2 col3\n",
       "1 1    A    1   \n",
       "2 2    B    2   \n",
       "3 3    C    3   \n",
       "4 4    A    1   \n",
       "5 5    B    2   "
      ]
     },
     "metadata": {},
     "output_type": "display_data"
    }
   ],
   "source": [
    "col0 <- 1:5\n",
    "col1 <- rep(c(\"A\",\"B\",\"C\"), length.out=5)\n",
    "col2 <- rep(1:3           , length.out=5)\n",
    "data <- data.frame(col0, col1, col2, row.names=1:5)\n",
    "names(data) <- c(\"col1\",\"col2\",\"col3\")\n",
    "data"
   ]
  },
  {
   "cell_type": "markdown",
   "metadata": {},
   "source": [
    "I data frame possono essere creati utilizzando la funzione ```data.frame(col0, col1, col2, ...)```  .  \n",
    "Le colonne vengono impostate utilizzando gli argomenti  .  \n",
    "Il nome delle righe può essere impostato utilizzando il campo ```row.names```  .  \n",
    "I nomi delle colonne possono essere impostati utilizzando la funzione ```names()```."
   ]
  },
  {
   "cell_type": "markdown",
   "metadata": {},
   "source": [
    "## Indicizzazione 2D (per DataFrame)\n",
    "La notazione ```data$columnName``` ritorna la colonna di dati nominata ```columnName```  .  \n",
    "L'indicizzazione può avvenire nei modi seguenti utilizzando 2 indici ```data[•,•]```:  \n",
    "- Indici singoli ```data[2,2]```.\n",
    "- Sequence di indici ```data[1:3,1:2]```.\n",
    "- Sequence di labels ```data[1:3,c(\"col2\", \"col3\")]```.\n",
    "- Un indice lasciato vuoto implicitamente indica tutti i valori ```data[ ,c(\"col2\", \"col3\")]```.\n",
    "- Attraverso maschere, come l'indicizzazione 1D ```data[ ,c(TRUE,FALSE,TRUE)]```.\n",
    "- Attraverso espressioni booleane sulle righe ```data[data$col1 %% 2 == 0,]```.\n",
    "- Attraverso espressioni booleane sulle colonne ```data[ ,names(data) != \"col2\"]```."
   ]
  },
  {
   "cell_type": "code",
   "execution_count": 76,
   "metadata": {},
   "outputs": [],
   "source": [
    "d0 = data[2,2]\n",
    "d1 = data[1:3,1:2]\n",
    "d2 = data[1:3,c(\"col2\", \"col3\")]\n",
    "d3 = data[ ,c(\"col2\", \"col3\")]\n",
    "d4 = data[ ,c(TRUE,FALSE,TRUE)]\n",
    "d5 = data[data$col1 %% 2 == 0,]\n",
    "d6 = data[ ,names(data) != \"col2\"]"
   ]
  },
  {
   "cell_type": "markdown",
   "metadata": {},
   "source": [
    "## Documentazione\n",
    "La documentazione può essere consultata online all'indirizzo: https://www.rdocumentation.org/  \n",
    "Potete accedere alla documentazione anche tramite il comando ```help()```  .  \n",
    "Per esempio: ```help(cat)``` ritorna la documentazione relativa alla funzione ```cat```-"
   ]
  }
 ],
 "metadata": {
  "kernelspec": {
   "display_name": "R",
   "language": "R",
   "name": "ir"
  },
  "language_info": {
   "codemirror_mode": "r",
   "file_extension": ".r",
   "mimetype": "text/x-r-source",
   "name": "R",
   "pygments_lexer": "r",
   "version": "3.6.1"
  }
 },
 "nbformat": 4,
 "nbformat_minor": 4
}
