{
 "cells": [
  {
   "cell_type": "markdown",
   "metadata": {},
   "source": [
    "# ESERCIZIO 3\n",
    "Prima di cominciare ricodate che il comando ```help(•)``` può esserve utilizzato per accedere alla documentazione relativa all'argomento.  \n",
    "Poi, useremo alcune librerie di python, tra cui ```numpy```, ```pandas```, ```scipy``` e ```matplotlib```, per importarle è sufficiente utilizzare la keywork ```import```  .  \n",
    "Con ```type(•)``` potete controllare il tipo dell'oggetto che inserite come argomento.\n",
    "- ```pandas.read.csv(•)``` è il metodo per caricare file csv.\n",
    "    - il primo argomento è il path al file da caricare.\n",
    "    - l'argomento ```sep``` indica il separatore tra i campi.\n",
    "    - l'argomento ```decimal``` indica il separatore per il numeri float."
   ]
  },
  {
   "cell_type": "code",
   "execution_count": 1,
   "metadata": {},
   "outputs": [
    {
     "data": {
      "text/html": [
       "<div>\n",
       "<style scoped>\n",
       "    .dataframe tbody tr th:only-of-type {\n",
       "        vertical-align: middle;\n",
       "    }\n",
       "\n",
       "    .dataframe tbody tr th {\n",
       "        vertical-align: top;\n",
       "    }\n",
       "\n",
       "    .dataframe thead th {\n",
       "        text-align: right;\n",
       "    }\n",
       "</style>\n",
       "<table border=\"1\" class=\"dataframe\">\n",
       "  <thead>\n",
       "    <tr style=\"text-align: right;\">\n",
       "      <th></th>\n",
       "      <th>CarIdentifier</th>\n",
       "      <th>TimeFrame</th>\n",
       "      <th>RushHour</th>\n",
       "      <th>PremiumCustomer</th>\n",
       "      <th>Distance</th>\n",
       "      <th>Time</th>\n",
       "    </tr>\n",
       "  </thead>\n",
       "  <tbody>\n",
       "    <tr>\n",
       "      <th>1</th>\n",
       "      <td>103</td>\n",
       "      <td>FRAME D</td>\n",
       "      <td>1</td>\n",
       "      <td>1</td>\n",
       "      <td>5.3</td>\n",
       "      <td>13.9</td>\n",
       "    </tr>\n",
       "    <tr>\n",
       "      <th>3</th>\n",
       "      <td>110</td>\n",
       "      <td>FRAME D</td>\n",
       "      <td>1</td>\n",
       "      <td>1</td>\n",
       "      <td>2.8</td>\n",
       "      <td>5.0</td>\n",
       "    </tr>\n",
       "    <tr>\n",
       "      <th>2</th>\n",
       "      <td>105</td>\n",
       "      <td>FRAME D</td>\n",
       "      <td>1</td>\n",
       "      <td>-1</td>\n",
       "      <td>0.4</td>\n",
       "      <td>4.1</td>\n",
       "    </tr>\n",
       "    <tr>\n",
       "      <th>4</th>\n",
       "      <td>110</td>\n",
       "      <td>FRAME B</td>\n",
       "      <td>1</td>\n",
       "      <td>-1</td>\n",
       "      <td>2.7</td>\n",
       "      <td>5.6</td>\n",
       "    </tr>\n",
       "    <tr>\n",
       "      <th>5</th>\n",
       "      <td>111</td>\n",
       "      <td>FRAME C</td>\n",
       "      <td>0</td>\n",
       "      <td>-1</td>\n",
       "      <td>11.8</td>\n",
       "      <td>13.2</td>\n",
       "    </tr>\n",
       "  </tbody>\n",
       "</table>\n",
       "</div>"
      ],
      "text/plain": [
       "   CarIdentifier TimeFrame  RushHour  PremiumCustomer  Distance  Time\n",
       "1            103   FRAME D         1                1       5.3  13.9\n",
       "3            110   FRAME D         1                1       2.8   5.0\n",
       "2            105   FRAME D         1               -1       0.4   4.1\n",
       "4            110   FRAME B         1               -1       2.7   5.6\n",
       "5            111   FRAME C         0               -1      11.8  13.2"
      ]
     },
     "execution_count": 1,
     "metadata": {},
     "output_type": "execute_result"
    }
   ],
   "source": [
    "import pandas\n",
    "import matplotlib.pyplot as plt\n",
    "data = pandas.read_csv(\"carsharing.csv\", sep=\";\", decimal=\",\")\n",
    "data.iloc[[1,3,2,4,5],0:7]"
   ]
  },
  {
   "cell_type": "markdown",
   "metadata": {},
   "source": [
    "Una delle caratteristiche più importanti è l'indicizzazione, di seguito alcune regole:\n",
    "- ```data.iloc[•,•]``` serve per indicizzare utilizzando le interi.\n",
    "- ```data.loc[•,•]```  serve per indicizzare utilizzando labels.\n",
    "- il primo argomento è per le righe, il secondo per le colonne.\n",
    "- ```:``` indica tutta gli elementi.\n",
    "- ```a:b``` indica tutti gli elementi partendo da ```a``` fino a ```b``` escluso.\n",
    "- ```a:``` indica da ```a``` fino alla fine.\n",
    "- ```:b``` indica dall'inizio fino alla fine.\n",
    "- ```:-b``` indica dall'inizio fino alla fine, tolti gli ultimi ```b``` elementi.\n",
    "- possono essere utilizzate delle liste ```[1,2,3,4,42,69]``` come argomenti.\n",
    "- possono essere utilizzare delle liste di labes, per esempio ```[\"Distance\", \"time\"]```.\n",
    "- possono essere utilizzate espressioni booleane, per esempio ```data.loc[data.Distance > 5, [\"Distance\", \"Time\"]]```\n",
    "- se si indica una sola colonna o una sola riga senza utilizzare le list (```[•]```) allora pandas ritorna, non un dataframe, ma una series."
   ]
  },
  {
   "cell_type": "markdown",
   "metadata": {},
   "source": [
    "## 3.1. Quanti casi contiene il file?"
   ]
  },
  {
   "cell_type": "code",
   "execution_count": 2,
   "metadata": {},
   "outputs": [
    {
     "name": "stdout",
     "output_type": "stream",
     "text": [
      "392\n",
      "392\n"
     ]
    }
   ],
   "source": [
    "print(data.shape[0])\n",
    "print(len(data))"
   ]
  },
  {
   "cell_type": "markdown",
   "metadata": {},
   "source": [
    "I precedenti sono modi equivalenti per conoscere il numero di righe:  \n",
    "- ```data.shape[0]``` ritorna il numero di elementi per tutte le dimensioni.  \n",
    "- ```len(•)``` di un dataframe ritorna il numero di righe.  "
   ]
  },
  {
   "cell_type": "markdown",
   "metadata": {},
   "source": [
    "## 3.2. Analizziamo l’utilizzo del servizio di car sharing nelle diverse fasce orarie (carattereTimeFrame) e negli orari di maggior o minor traffico (carattere RushHour)\n",
    "### 3.2.1. Il carattereTimeFrame è nominale, ordinale o scalare? Giustificate la risposta."
   ]
  },
  {
   "cell_type": "code",
   "execution_count": 3,
   "metadata": {},
   "outputs": [
    {
     "data": {
      "text/plain": [
       "array(['FRAME D', 'FRAME B', 'FRAME C', 'FRAME E', 'FRAME A'],\n",
       "      dtype=object)"
      ]
     },
     "execution_count": 3,
     "metadata": {},
     "output_type": "execute_result"
    }
   ],
   "source": [
    "data.loc[:,\"TimeFrame\"].unique()"
   ]
  },
  {
   "cell_type": "markdown",
   "metadata": {},
   "source": [
    "TimeFrame ha carattere nominale in quanto non può essere stabilito un ordinamento tra i suoi valori.\n",
    "### 3.2.2. In quante fasce orarie è stata suddivisa una giornata?"
   ]
  },
  {
   "cell_type": "code",
   "execution_count": 4,
   "metadata": {},
   "outputs": [
    {
     "data": {
      "text/plain": [
       "5"
      ]
     },
     "execution_count": 4,
     "metadata": {},
     "output_type": "execute_result"
    }
   ],
   "source": [
    "data.loc[:,\"TimeFrame\"].nunique()"
   ]
  },
  {
   "cell_type": "markdown",
   "metadata": {},
   "source": [
    "### 3.2.3 In quali fasce orarie il servizio di car sharing è stato maggiormente utilizzato?"
   ]
  },
  {
   "cell_type": "code",
   "execution_count": 5,
   "metadata": {},
   "outputs": [
    {
     "data": {
      "text/plain": [
       "FRAME B    123\n",
       "FRAME C    107\n",
       "FRAME D     94\n",
       "FRAME A     47\n",
       "FRAME E     21\n",
       "Name: TimeFrame, dtype: int64"
      ]
     },
     "execution_count": 5,
     "metadata": {},
     "output_type": "execute_result"
    }
   ],
   "source": [
    "data.loc[:,\"TimeFrame\"].value_counts()"
   ]
  },
  {
   "cell_type": "markdown",
   "metadata": {},
   "source": [
    "### 3.2.4. Calcolate la tabella delle frequenze congiunte di TimeFrame e RushHour."
   ]
  },
  {
   "cell_type": "code",
   "execution_count": 6,
   "metadata": {},
   "outputs": [
    {
     "data": {
      "text/html": [
       "<div>\n",
       "<style scoped>\n",
       "    .dataframe tbody tr th:only-of-type {\n",
       "        vertical-align: middle;\n",
       "    }\n",
       "\n",
       "    .dataframe tbody tr th {\n",
       "        vertical-align: top;\n",
       "    }\n",
       "\n",
       "    .dataframe thead th {\n",
       "        text-align: right;\n",
       "    }\n",
       "</style>\n",
       "<table border=\"1\" class=\"dataframe\">\n",
       "  <thead>\n",
       "    <tr style=\"text-align: right;\">\n",
       "      <th>RushHour</th>\n",
       "      <th>0</th>\n",
       "      <th>1</th>\n",
       "    </tr>\n",
       "    <tr>\n",
       "      <th>TimeFrame</th>\n",
       "      <th></th>\n",
       "      <th></th>\n",
       "    </tr>\n",
       "  </thead>\n",
       "  <tbody>\n",
       "    <tr>\n",
       "      <th>FRAME A</th>\n",
       "      <td>47</td>\n",
       "      <td>0</td>\n",
       "    </tr>\n",
       "    <tr>\n",
       "      <th>FRAME B</th>\n",
       "      <td>0</td>\n",
       "      <td>123</td>\n",
       "    </tr>\n",
       "    <tr>\n",
       "      <th>FRAME C</th>\n",
       "      <td>107</td>\n",
       "      <td>0</td>\n",
       "    </tr>\n",
       "    <tr>\n",
       "      <th>FRAME D</th>\n",
       "      <td>0</td>\n",
       "      <td>94</td>\n",
       "    </tr>\n",
       "    <tr>\n",
       "      <th>FRAME E</th>\n",
       "      <td>21</td>\n",
       "      <td>0</td>\n",
       "    </tr>\n",
       "  </tbody>\n",
       "</table>\n",
       "</div>"
      ],
      "text/plain": [
       "RushHour     0    1\n",
       "TimeFrame          \n",
       "FRAME A     47    0\n",
       "FRAME B      0  123\n",
       "FRAME C    107    0\n",
       "FRAME D      0   94\n",
       "FRAME E     21    0"
      ]
     },
     "execution_count": 6,
     "metadata": {},
     "output_type": "execute_result"
    }
   ],
   "source": [
    "a = data.loc[:,[\"TimeFrame\",\"RushHour\"]]\n",
    "pandas.crosstab(data.loc[:,\"TimeFrame\"],data.loc[:,\"RushHour\"])"
   ]
  },
  {
   "cell_type": "markdown",
   "metadata": {},
   "source": [
    "```pandas.crosstab(•,•)``` si occupa di calcolare la tabella di contingenza.  \n",
    "Il primo argomento finirà per rappresentare le colonne.\n",
    "Il second argomento finirà per rappresentare le righe.\n",
    "### 3.2.5. Leggendo la tabella calcolata al punto precedente determinate quali sono le fasce orarie che corrispondono all’ora di punta.\n",
    "Decisamente il Frame B e il D.\n",
    "## 3.3. Consideriamo, solo in questo punto dell’esercizio, i clienti che hanno aderito al programma Premium (Premium=1)\n",
    "### 3.3.1. Quanti sono?"
   ]
  },
  {
   "cell_type": "code",
   "execution_count": 28,
   "metadata": {},
   "outputs": [
    {
     "data": {
      "text/plain": [
       "227"
      ]
     },
     "execution_count": 28,
     "metadata": {},
     "output_type": "execute_result"
    }
   ],
   "source": [
    "len(data.loc[data.PremiumCustomer==1,])"
   ]
  },
  {
   "cell_type": "markdown",
   "metadata": {},
   "source": [
    "### 3.3.2. Calcolate la distanza media percorsa in un tragitto da un cliente che ha aderito al programma Premium."
   ]
  },
  {
   "cell_type": "code",
   "execution_count": 27,
   "metadata": {},
   "outputs": [
    {
     "data": {
      "text/plain": [
       "8.437444933920705"
      ]
     },
     "execution_count": 27,
     "metadata": {},
     "output_type": "execute_result"
    }
   ],
   "source": [
    "data.loc[data.PremiumCustomer==1,\"Distance\"].mean()"
   ]
  },
  {
   "cell_type": "markdown",
   "metadata": {},
   "source": [
    "## 3.4. Ritorniamo a considerare il dataset completo e studiamo la distanza percorsa in ciascunutilizzo del servizio (carattereDistance).\n",
    "### 3.4.1. Il carattere Distance è nominale, ordinale o scalare? Giustificate la risposta.\n",
    "La distanza può assumere valori in &#x211d; (è una variabile quantitative continua), quindi scalare.\n",
    "### 3.4.2. Tracciate il boxplot di tale carattere."
   ]
  },
  {
   "cell_type": "code",
   "execution_count": 9,
   "metadata": {},
   "outputs": [
    {
     "data": {
      "image/png": "[encoded data removed]",
      "text/plain": [
       "<Figure size 432x288 with 1 Axes>"
      ]
     },
     "metadata": {
      "needs_background": "light"
     },
     "output_type": "display_data"
    }
   ],
   "source": [
    "plot = pandas.DataFrame.boxplot(data.loc[:,\"Distance\"])"
   ]
  },
  {
   "cell_type": "markdown",
   "metadata": {},
   "source": [
    "### 3.4.3. In base all’aspetto del grafico ottenuto al punto precedente, determinate quali sono gli indici di centralità e di dispersione che meglio caratterizzano la distanza percorsa, calcolandone il valore."
   ]
  },
  {
   "cell_type": "code",
   "execution_count": 10,
   "metadata": {},
   "outputs": [
    {
     "name": "stdout",
     "output_type": "stream",
     "text": [
      "max:     24.0\n",
      "q1:      1.5750000000000002\n",
      "median:  5.75\n",
      "q2:      5.75\n",
      "q3:      14.025\n",
      "min:     0.1\n",
      "IQR:     12.45\n"
     ]
    }
   ],
   "source": [
    "print(\"max:    \", data.loc[:,\"Distance\"].max())\n",
    "print(\"q1:     \", data.loc[:,\"Distance\"].quantile(0.25))\n",
    "print(\"median: \", data.loc[:,\"Distance\"].median())\n",
    "print(\"q2:     \", data.loc[:,\"Distance\"].quantile(0.50))\n",
    "print(\"q3:     \", data.loc[:,\"Distance\"].quantile(0.75))\n",
    "print(\"min:    \", data.loc[:,\"Distance\"].min())\n",
    "print(\"IQR:    \", data.loc[:,\"Distance\"].quantile(0.75)-data.loc[:,\"Distance\"].quantile(0.25))"
   ]
  },
  {
   "cell_type": "markdown",
   "metadata": {},
   "source": [
    "### 3.4.4. Riscontrate una relazione tra la distanza percorsa e il Tempo? In caso affermativo, caratterizzate tale relazione. In ogni caso giustificate la vostra risposta mostrando un grafico."
   ]
  },
  {
   "cell_type": "code",
   "execution_count": 11,
   "metadata": {},
   "outputs": [
    {
     "data": {
      "image/png": "[encoded data removed]",
      "text/plain": [
       "<Figure size 1080x360 with 3 Axes>"
      ]
     },
     "metadata": {
      "needs_background": "light"
     },
     "output_type": "display_data"
    }
   ],
   "source": [
    "import matplotlib.pyplot as plt\n",
    "fig, ax = plt.subplots(nrows=1, ncols=3)\n",
    "fig.set_size_inches(15,5)\n",
    "plot = data.plot.scatter(x=\"Distance\",y=\"Time\",ax = ax[0],title=\"full plot\")\n",
    "plot = data.loc[data.RushHour == 1,:].plot.scatter(x=\"Distance\",y=\"Time\",ax = ax[1], title=\"RushHour = 1\")\n",
    "plot = data.loc[data.RushHour == 0,:].plot.scatter(x=\"Distance\",y=\"Time\",ax = ax[2], title=\"RushHour = 0\")"
   ]
  },
  {
   "cell_type": "markdown",
   "metadata": {},
   "source": [
    "Per brevi distanze l'andamento è il medesimo.  \n",
    "Su distanze più lunghe si denotano due andamenti differenti.\n",
    "La RushHour sembra essere responsabile delle differenze.\n",
    "### 3.4.5. Calcolate l’indice di correlazione tra la distanza e Tempo.  Il valore ottenutosupporta la risposta che avete dato al punto precedente?"
   ]
  },
  {
   "cell_type": "code",
   "execution_count": 12,
   "metadata": {},
   "outputs": [
    {
     "data": {
      "text/html": [
       "<div>\n",
       "<style scoped>\n",
       "    .dataframe tbody tr th:only-of-type {\n",
       "        vertical-align: middle;\n",
       "    }\n",
       "\n",
       "    .dataframe tbody tr th {\n",
       "        vertical-align: top;\n",
       "    }\n",
       "\n",
       "    .dataframe thead th {\n",
       "        text-align: right;\n",
       "    }\n",
       "</style>\n",
       "<table border=\"1\" class=\"dataframe\">\n",
       "  <thead>\n",
       "    <tr style=\"text-align: right;\">\n",
       "      <th></th>\n",
       "      <th>Distance</th>\n",
       "      <th>Time</th>\n",
       "    </tr>\n",
       "  </thead>\n",
       "  <tbody>\n",
       "    <tr>\n",
       "      <th>Distance</th>\n",
       "      <td>1.000000</td>\n",
       "      <td>0.627399</td>\n",
       "    </tr>\n",
       "    <tr>\n",
       "      <th>Time</th>\n",
       "      <td>0.627399</td>\n",
       "      <td>1.000000</td>\n",
       "    </tr>\n",
       "  </tbody>\n",
       "</table>\n",
       "</div>"
      ],
      "text/plain": [
       "          Distance      Time\n",
       "Distance  1.000000  0.627399\n",
       "Time      0.627399  1.000000"
      ]
     },
     "execution_count": 12,
     "metadata": {},
     "output_type": "execute_result"
    }
   ],
   "source": [
    "data.loc[:,[\"Distance\",\"Time\"]].corr()"
   ]
  },
  {
   "cell_type": "markdown",
   "metadata": {},
   "source": [
    "la correlazione indica che al crescere di ```Distance``` la ```Time``` cresce, come è ragionevole che sia.  \n",
    "### 3.4.6. Tracciate, possibilmente nella stessa figura, il box plot della distanza nel caso di utilizzo dell’auto in orario di punta (RushHour=1) e in orario non di punta (RushHour=0)."
   ]
  },
  {
   "cell_type": "code",
   "execution_count": 13,
   "metadata": {},
   "outputs": [
    {
     "data": {
      "image/png": "[encoded data removed]",
      "text/plain": [
       "<Figure size 1080x360 with 2 Axes>"
      ]
     },
     "metadata": {
      "needs_background": "light"
     },
     "output_type": "display_data"
    }
   ],
   "source": [
    "fig, ax = plt.subplots(nrows=1, ncols=2)\n",
    "fig.set_size_inches(15,5)\n",
    "plt0 = pandas.DataFrame.boxplot(data.loc[data.RushHour==1,\"Distance\"],ax=ax[0])\n",
    "plt1 = pandas.DataFrame.boxplot(data.loc[data.RushHour==0,\"Distance\"],ax=ax[1])"
   ]
  },
  {
   "cell_type": "markdown",
   "metadata": {},
   "source": [
    "### 3.4.7. Ispezionando i due grafici ottenuti al punto precedente, dite se negli orari di puntasono privilegiati spostamenti \"più brevi\" oppure \"più lunghi\" rispetto agli orari non di punta, giustificando la risposta.\n",
    "\n",
    "Dal precedente grafico si può notare che:  \n",
    "- quando ```RushHour=1``` il 50% degli spostamenti è \"più breve\", tra 0 e 5.  \n",
    "- quando ```RushHour=0``` il 50% degli spostamenti è \"più lungo\", tra 10 e 20.\n",
    "- dall'istogramma si nota anche che la distanza presenta una distribuzione bimodale, dove, le due mode corrispondono con i picchi delle distribuzioni quando la ```RushHour=0``` e quando ```RushHour=1```.\n",
    "\n",
    "Di conseguenza, durante gli orari di punta sono privilegiati spostamenti brevi. \n",
    "### 3.4.8. Tracciate, possibilmente nella stessa figura, il box plot della distanza nel caso di utilizzo dell’auto da parte dei clienti che hanno aderito al programma Premium (Premium=1) e di quelli che non vi hanno aderito (Premium=-1)."
   ]
  },
  {
   "cell_type": "code",
   "execution_count": 14,
   "metadata": {},
   "outputs": [
    {
     "data": {
      "image/png": "[encoded data removed]",
      "text/plain": [
       "<Figure size 1080x360 with 2 Axes>"
      ]
     },
     "metadata": {
      "needs_background": "light"
     },
     "output_type": "display_data"
    }
   ],
   "source": [
    "fig, ax = plt.subplots(nrows=1, ncols=2)\n",
    "fig.set_size_inches(15,5)\n",
    "plt0 = pandas.DataFrame.boxplot(data.loc[data.PremiumCustomer==-1,\"Distance\"],ax=ax[0])\n",
    "plt1 = pandas.DataFrame.boxplot(data.loc[data.PremiumCustomer==1,\"Distance\"],ax=ax[1])"
   ]
  },
  {
   "cell_type": "markdown",
   "metadata": {},
   "source": [
    "## 3.4.9. Ispezionando i due grafici ottenuti al punto precedente, notate una grossa differenzanelle distanze percorse dai clienti dei due gruppi?\n",
    "\n",
    "Gli utenti premium tendono a percorerre distanze più lunghe rispetto agli utenti normali.\n",
    "### 3.4.10. In Figura 1 è mostrato l’istogramma della distanza percorsa. In tale grafico si può individuare la presenza di due gruppi abbastanza distinti. I due gruppi sono relativi al tipo di cliente (Premium=1 oppure Premium=-1) oppure all’orario di utilizzo del veicolo (RushHour=1 oppure RushHour=0)? In altri termini, la distanza percorsa dipende dal fatto che l’utente sia un cliente Premium/non-Premium oppure dal fatto che l’utilizzo è avvenuto in orario Rush/non-Rush? Suggerimento: per rispondere a questa domanda basta ispezionarei boxplot prodotti nei punti precedenti di questo esercizio.\n",
    "\n",
    "c'è un differenza nella distanza percorsa se l'utente è premium e non-premium.  \n",
    "c'è un differenza nella distanza percorsa se l'utente sia nella RushHour e non-RushHour.  \n",
    "nel secondo caso la differenza è più marcata e responsabile delle 2 mode nell'istogramma della distanza."
   ]
  },
  {
   "cell_type": "code",
   "execution_count": 15,
   "metadata": {},
   "outputs": [
    {
     "data": {
      "image/png": "[encoded data removed]",
      "text/plain": [
       "<Figure size 720x720 with 4 Axes>"
      ]
     },
     "metadata": {
      "needs_background": "light"
     },
     "output_type": "display_data"
    }
   ],
   "source": [
    "fig, ax = plt.subplots(nrows=2, ncols=2)\n",
    "fig.set_size_inches(10,10)\n",
    "plt0 = pandas.DataFrame.hist(data.loc[data.RushHour == 1,:], column=\"Distance\",ax=ax[0,0])\n",
    "plt1 = pandas.DataFrame.hist(data.loc[data.RushHour == 0,:], column=\"Distance\",ax=ax[0,1])\n",
    "plt2 = pandas.DataFrame.hist(data.loc[data.PremiumCustomer == 1,:], column=\"Distance\",ax=ax[1,0])\n",
    "plt3 = pandas.DataFrame.hist(data.loc[data.PremiumCustomer == -1,:], column=\"Distance\",ax=ax[1,1])"
   ]
  },
  {
   "cell_type": "markdown",
   "metadata": {},
   "source": [
    "Questi 4 grafici evidenziano quello che è già stato notato.\n",
    "### 3.4.11. Calcolate la distanza media nei due gruppi di orario (di punta/non di punta) e commentate l’istogramma di Figura 1 utilizzando queste due informazioni."
   ]
  },
  {
   "cell_type": "code",
   "execution_count": 16,
   "metadata": {},
   "outputs": [
    {
     "name": "stdout",
     "output_type": "stream",
     "text": [
      "media in orario di punta    : 3.319354838709678\n",
      "media in orario di non punta: 13.487428571428573\n"
     ]
    }
   ],
   "source": [
    "print(\"media in orario di punta    :\", data.loc[data.RushHour == 1, \"Distance\"].mean())\n",
    "print(\"media in orario di non punta:\", data.loc[data.RushHour == 0, \"Distance\"].mean())"
   ]
  },
  {
   "cell_type": "markdown",
   "metadata": {},
   "source": [
    "In orario di punta si tende a percerrere distanze brevi, come avevamo già notato.\n",
    "### 3.4.12. Sempre in riferimento ai due gruppi di orario (di punta/non di punta), calcolate la varianza within groups e la varianza between groups"
   ]
  },
  {
   "cell_type": "code",
   "execution_count": 17,
   "metadata": {},
   "outputs": [
    {
     "name": "stdout",
     "output_type": "stream",
     "text": [
      "variance within  groups: 20.750989579260825\n",
      "variance between groups: 25.55071290221817\n"
     ]
    }
   ],
   "source": [
    "group1 = data.loc[data.RushHour == 0, \"Distance\"]\n",
    "group2 = data.loc[data.RushHour == 1, \"Distance\"]\n",
    "\n",
    "size        = len(data.Distance)\n",
    "size_group1 = len(group1)\n",
    "size_group2 = len(group2)\n",
    "\n",
    "mean        = data.Distance.mean()\n",
    "mean_group1 = group1.mean()\n",
    "mean_group2 = group2.mean()\n",
    "\n",
    "var        = data.Distance.var()\n",
    "var_group1 = group1.var()\n",
    "var_group2 = group2.var()\n",
    "\n",
    "variance_within_groups  = (size_group1/size)*var_group1 + (size_group2/size)*var_group2\n",
    "variance_between_groups = (size_group1/size)*(mean_group1-mean)**2 + (size_group2/size)*(mean_group2-mean)**2\n",
    "\n",
    "print(\"variance within  groups:\", variance_within_groups)\n",
    "print(\"variance between groups:\", variance_between_groups)"
   ]
  },
  {
   "cell_type": "markdown",
   "metadata": {},
   "source": [
    "# Esercizio 4\n",
    "## 4.4.1. Tracciate un grafico rappresentativo della distribuzione della distanza percorsa negli oraridi punta"
   ]
  },
  {
   "cell_type": "code",
   "execution_count": 18,
   "metadata": {},
   "outputs": [
    {
     "data": {
      "image/png": "[encoded data removed]",
      "text/plain": [
       "<Figure size 720x360 with 2 Axes>"
      ]
     },
     "metadata": {
      "needs_background": "light"
     },
     "output_type": "display_data"
    }
   ],
   "source": [
    "fig, ax = plt.subplots(nrows=1, ncols=2)\n",
    "fig.set_size_inches(10,5)\n",
    "plot0 = data.loc[data.RushHour == 1,:].plot.scatter(x=\"Distance\",y=\"Time\",ax = ax[0], title=\"RushHour = 1\")\n",
    "plot1 = data.loc[data.RushHour == 0,:].plot.scatter(x=\"Distance\",y=\"Time\",ax = ax[1], title=\"RushHour = 0\")"
   ]
  },
  {
   "cell_type": "markdown",
   "metadata": {},
   "source": [
    "In ore normali la crescità sembra lineare.  \n",
    "Durante la RushHour la crescità è maggiore.\n",
    "## 4.2. È plausibile affermare che negli orari di punta la distanza segue una legge normale? Giustificate la risposta."
   ]
  },
  {
   "cell_type": "code",
   "execution_count": 19,
   "metadata": {},
   "outputs": [
    {
     "data": {
      "image/png": "[encoded data removed]",
      "text/plain": [
       "<Figure size 432x288 with 1 Axes>"
      ]
     },
     "metadata": {
      "needs_background": "light"
     },
     "output_type": "display_data"
    }
   ],
   "source": [
    "import scipy.stats as stats\n",
    "plot = stats.probplot(data.loc[data.RushHour == 1,\"Distance\"], dist=\"norm\", plot=plt)"
   ]
  },
  {
   "cell_type": "markdown",
   "metadata": {},
   "source": [
    "La distribuzione delle distanze sembra più essere esponenziale.\n",
    "## 4.3. Calcolate la media e la deviazione standard della distanza negli orari di punta."
   ]
  },
  {
   "cell_type": "code",
   "execution_count": 20,
   "metadata": {},
   "outputs": [
    {
     "name": "stdout",
     "output_type": "stream",
     "text": [
      "mean   : 3.319354838709678\n",
      "std dev: 3.711106147915897\n"
     ]
    }
   ],
   "source": [
    "print(\"mean   :\",data.loc[data.RushHour == 1,\"Distance\"].mean())\n",
    "print(\"std dev:\",data.loc[data.RushHour == 1,\"Distance\"].var()**0.5)"
   ]
  },
  {
   "cell_type": "markdown",
   "metadata": {},
   "source": [
    "# ESERCIZIO 5\n",
    "Concentriamoci ora sulla distanza percorsa dai veicoli negli orari non di punta.\n",
    "## 5.1. Tracciate un grafico opportuno che descriva la distanza percorsa negli orari non di punta."
   ]
  },
  {
   "cell_type": "code",
   "execution_count": 21,
   "metadata": {},
   "outputs": [
    {
     "data": {
      "image/png": "[encoded data removed]",
      "text/plain": [
       "<Figure size 432x288 with 1 Axes>"
      ]
     },
     "metadata": {
      "needs_background": "light"
     },
     "output_type": "display_data"
    }
   ],
   "source": [
    "plt0 = pandas.DataFrame.hist(data.loc[data.RushHour == 0,:], column=\"Distance\",bins=25)"
   ]
  },
  {
   "cell_type": "markdown",
   "metadata": {},
   "source": [
    "## 5.2. È plausibile affermare che negli orari non di punta la distanza segue una legge normale? Giustificate la risposta."
   ]
  },
  {
   "cell_type": "code",
   "execution_count": 22,
   "metadata": {},
   "outputs": [
    {
     "data": {
      "image/png": "[encoded data removed]",
      "text/plain": [
       "<Figure size 432x288 with 1 Axes>"
      ]
     },
     "metadata": {
      "needs_background": "light"
     },
     "output_type": "display_data"
    }
   ],
   "source": [
    "plot = stats.probplot(data.loc[data.RushHour == 0,\"Distance\"], dist=\"norm\", plot=plt)"
   ]
  },
  {
   "cell_type": "markdown",
   "metadata": {},
   "source": [
    "ci si avvicina, ma non si direbbe.\n",
    "# Esercizio 6\n",
    "Selezionate in una variabile chiamata ```tragitti_brevi``` tutti i casi in cui il veicolo è stato utilizzato per percorrere un tragitto breve, cioè di lunghezza inferiore a 1.5 km.\n",
    "## 6.1. Tracciate il grafico di dispersione della distanza e del tempo per i tragitti brevi."
   ]
  },
  {
   "cell_type": "code",
   "execution_count": 23,
   "metadata": {},
   "outputs": [
    {
     "data": {
      "image/png": "[encoded data removed]",
      "text/plain": [
       "<Figure size 432x288 with 1 Axes>"
      ]
     },
     "metadata": {
      "needs_background": "light"
     },
     "output_type": "display_data"
    }
   ],
   "source": [
    "tragitti_brevi = data.loc[data.Distance <= 1.5,:]\n",
    "plot = tragitti_brevi.plot.scatter(x=\"Distance\",y=\"Time\")"
   ]
  },
  {
   "cell_type": "markdown",
   "metadata": {},
   "source": [
    "## 6.2. Commentate il grafico che avete tracciato al punto precedente, possibilmente collegandolo al valore assunto dall’indice di variazione per il carattere Time."
   ]
  },
  {
   "cell_type": "code",
   "execution_count": 24,
   "metadata": {},
   "outputs": [
    {
     "name": "stdout",
     "output_type": "stream",
     "text": [
      "varianza                 : 0.23958342099726487\n",
      "standard deviation       : 0.48947259473566535\n",
      "coefficiente variazione  : 0.12230574779218564\n",
      "coefficiente correlazione:\n",
      "              Time  Distance\n",
      "Time      1.00000   0.14576\n",
      "Distance  0.14576   1.00000\n"
     ]
    }
   ],
   "source": [
    "var       = tragitti_brevi.Time.var()\n",
    "mean_Time = tragitti_brevi.Time.mean()\n",
    "sd_Time   = tragitti_brevi.Time.var()**0.5\n",
    "coeff_var = sd_Time/abs(mean_Time)\n",
    "print(\"varianza                 :\",var)\n",
    "print(\"standard deviation       :\",sd_Time)\n",
    "print(\"coefficiente variazione  :\",coeff_var)\n",
    "print(\"coefficiente correlazione:\\n\",tragitti_brevi.loc[:,[\"Time\",\"Distance\"]].corr())"
   ]
  },
  {
   "cell_type": "markdown",
   "metadata": {},
   "source": [
    "Il tempo per tragitti brevi è praticamente costante.  \n",
    "Questo lo si riscontra anche nel coefficiente di variazione che assume un valore particolarmente basso.  \n",
    "Lo stesso è confermato dall'indice di correlazione tra ```Distance``` e ```Time```"
   ]
  }
 ],
 "metadata": {
  "kernelspec": {
   "display_name": "Python 3",
   "language": "python",
   "name": "python3"
  },
  "language_info": {
   "codemirror_mode": {
    "name": "ipython",
    "version": 3
   },
   "file_extension": ".py",
   "mimetype": "text/x-python",
   "name": "python",
   "nbconvert_exporter": "python",
   "pygments_lexer": "ipython3",
   "version": "3.7.5"
  }
 },
 "nbformat": 4,
 "nbformat_minor": 4
}
