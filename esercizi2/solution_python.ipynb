{
 "cells": [
  {
   "cell_type": "code",
   "execution_count": 1,
   "metadata": {},
   "outputs": [],
   "source": [
    "import matplotlib.pyplot as plt"
   ]
  },
  {
   "cell_type": "markdown",
   "metadata": {},
   "source": [
    "## 3\n",
    "Ho appena ricevuto una fornitura di M = 10000 viti. Una frazione p = 0.2 di tali viti è\n",
    "difettosa, nel senso che un certo numero K delle M viti fornitemi non è in grado di superare\n",
    "senza spezzarsi una prova di carico."
   ]
  },
  {
   "cell_type": "markdown",
   "metadata": {},
   "source": [
    "## 3.1. \n",
    "Prendo 100 viti per montare alcuni scaffali. Quale modello probabilistico scegliereste per modellare la variabile casuale X = “numero di viti che dovrò scartare”? Specificatene i parametri, il valore atteso e la varianza."
   ]
  },
  {
   "cell_type": "code",
   "execution_count": 28,
   "metadata": {},
   "outputs": [
    {
     "name": "stdout",
     "output_type": "stream",
     "text": [
      "mean: 20.0\n",
      "var : 15.841584158415845\n"
     ]
    }
   ],
   "source": [
    "M=10000\n",
    "p=0.2\n",
    "K=M*p\n",
    "n=100\n",
    "\n",
    "mean = n*K/M\n",
    "var  = K/M*((M-K)/M)*n*((M-n)/(M-1))\n",
    "\n",
    "print(\"mean:\",mean)\n",
    "print(\"var :\",var )"
   ]
  },
  {
   "cell_type": "code",
   "execution_count": 3,
   "metadata": {},
   "outputs": [
    {
     "data": {
      "text/plain": [
       "Text(0.5, 1.0, 'cdf')"
      ]
     },
     "execution_count": 3,
     "metadata": {},
     "output_type": "execute_result"
    },
    {
     "data": {
      "image/png": "[encoded data removed]",
      "text/plain": [
       "<Figure size 432x288 with 2 Axes>"
      ]
     },
     "metadata": {
      "needs_background": "light"
     },
     "output_type": "display_data"
    }
   ],
   "source": [
    "from scipy.stats import hypergeom\n",
    "\n",
    "pmf = hypergeom(M, n, K).pmf(range(n+1))\n",
    "cdf = hypergeom(M, n ,K).cdf(range(n+1))\n",
    "\n",
    "fig,ax = plt.subplots(1,2)\n",
    "\n",
    "ax[0].step(range(n+1),pmf)\n",
    "ax[1].step(range(n+1),cdf)\n",
    "\n",
    "ax[0].set_title(\"pmf\")\n",
    "ax[1].set_title(\"cdf\")\n"
   ]
  },
  {
   "cell_type": "markdown",
   "metadata": {},
   "source": [
    "## 3.2.1. \n",
    "quante viti devo aspettarmi di dover scartare?"
   ]
  },
  {
   "cell_type": "code",
   "execution_count": 4,
   "metadata": {},
   "outputs": [
    {
     "name": "stdout",
     "output_type": "stream",
     "text": [
      "20.0\n"
     ]
    }
   ],
   "source": [
    "print(mean)"
   ]
  },
  {
   "cell_type": "markdown",
   "metadata": {},
   "source": [
    "## 3.2.2. \n",
    "quanto vale la probabilità che io debba scartare un numero di viti superiore a 10?"
   ]
  },
  {
   "cell_type": "code",
   "execution_count": 5,
   "metadata": {},
   "outputs": [
    {
     "name": "stdout",
     "output_type": "stream",
     "text": [
      "0.9944875257551016\n",
      "0.9944875257551016\n"
     ]
    }
   ],
   "source": [
    "print(1-hypergeom(M, n ,K).cdf(10))               # opzione 1 usando la cdf\n",
    "print(1-sum(hypergeom(M, n, K).pmf(range(11))))   # opzione 2 usando la pmf\n"
   ]
  },
  {
   "cell_type": "markdown",
   "metadata": {},
   "source": [
    "## 3.2.3. \n",
    "quanto vale la probabilità che io debba scartare un numero di viti compreso tra 15 e 25 estremi compresi?"
   ]
  },
  {
   "cell_type": "code",
   "execution_count": 6,
   "metadata": {},
   "outputs": [
    {
     "name": "stdout",
     "output_type": "stream",
     "text": [
      "0.8342016437716413\n",
      "0.8342016437716413\n"
     ]
    }
   ],
   "source": [
    "print(hypergeom(M, n ,K).cdf(25)-hypergeom(M, n ,K).cdf(14)) # opzione 1 usando la cmf\n",
    "print(sum(hypergeom(M, n, K).pmf(range(15,26))))            # opzione 1 usando la pmf"
   ]
  },
  {
   "cell_type": "markdown",
   "metadata": {},
   "source": [
    "## 3.2.4. \n",
    "confrontate questo ultimo risultato con la minorazione data dalla diseguaglianza diChebyshev, per controllare che esso soddisfa la diseguaglianza"
   ]
  },
  {
   "cell_type": "code",
   "execution_count": 7,
   "metadata": {},
   "outputs": [
    {
     "name": "stdout",
     "output_type": "stream",
     "text": [
      "Chebyshev bound: 0.3535999999999998\n",
      "actual prob    : 0.8342016437716413\n",
      "is it respected: True\n"
     ]
    }
   ],
   "source": [
    "w = 5\n",
    "print(\"Chebyshev bound:\", 1-(var/(w**2)))\n",
    "print(\"actual prob    :\", sum(hypergeom(M, n, K).pmf(range(15,26))))\n",
    "print(\"is it respected:\", sum(hypergeom(M, n, K).pmf(range(15,26))) >= 1-(var/(w^2)))"
   ]
  },
  {
   "cell_type": "markdown",
   "metadata": {},
   "source": [
    "## 3.3. \n",
    "A lavoro terminato, tra le 100 viti che avevo preso, ne sono risultate difettose ben 30. Qual è la probabilità che ciò accadesse?"
   ]
  },
  {
   "cell_type": "code",
   "execution_count": 8,
   "metadata": {},
   "outputs": [
    {
     "data": {
      "text/plain": [
       "0.005063128612366128"
      ]
     },
     "execution_count": 8,
     "metadata": {},
     "output_type": "execute_result"
    }
   ],
   "source": [
    "hypergeom(M, n ,K).pmf(30)"
   ]
  },
  {
   "cell_type": "markdown",
   "metadata": {},
   "source": [
    "## 3.4. \n",
    "Chiamo q la probabilità di scartare un numero di viti al più uguale a s. Se prendo n=100\n",
    "viti e voglio che q sia almeno uguale a 0.8 la probabilità di scartare al più s viti, quanto\n",
    "vale s?"
   ]
  },
  {
   "cell_type": "code",
   "execution_count": 9,
   "metadata": {},
   "outputs": [
    {
     "name": "stdout",
     "output_type": "stream",
     "text": [
      "23.0\n"
     ]
    },
    {
     "data": {
      "text/plain": [
       "0.812028338765467"
      ]
     },
     "execution_count": 9,
     "metadata": {},
     "output_type": "execute_result"
    }
   ],
   "source": [
    "# s è il quantile 0.8 della distribuzione\n",
    "q=0.8\n",
    "s=hypergeom(M, n, K).ppf(q)\n",
    "print(s)\n",
    "hypergeom(M, n, K).cdf(s)\n"
   ]
  },
  {
   "cell_type": "markdown",
   "metadata": {},
   "source": [
    "## 4\n",
    "Riguardo al problema descritto nell’esercizio precedente e alla variabile casuale X che conta il\n",
    "numero di viti che dovrò scartare:\n",
    "## 4.1. \n",
    "ci sono le condizioni per poter approssimare il modello che avete ipotizzato con un altro\n",
    "modello?"
   ]
  },
  {
   "cell_type": "markdown",
   "metadata": {},
   "source": [
    "Si, quando M >> 1 allora H(M,K,n) tende binomiale(n,p=K/M)"
   ]
  },
  {
   "cell_type": "markdown",
   "metadata": {},
   "source": [
    "## 4.2.1. \n",
    "Qual è il numero più probabile di viti che dovrò scartare?"
   ]
  },
  {
   "cell_type": "code",
   "execution_count": 29,
   "metadata": {},
   "outputs": [
    {
     "data": {
      "text/plain": [
       "20.0"
      ]
     },
     "execution_count": 29,
     "metadata": {},
     "output_type": "execute_result"
    }
   ],
   "source": [
    "p = K/M\n",
    "n * p"
   ]
  },
  {
   "cell_type": "markdown",
   "metadata": {},
   "source": [
    "## 4.2.2. \n",
    "rispondete alle stesse domande del punto 2 dell’esercizio precedente usando l’approssimazione, e confrontate i risultati numerici che avete ottenuto nei due casi, per controllare che i risultati ottenuti sono molto simili (e quindi l’approssimazione è\n",
    "ben giustificata)."
   ]
  },
  {
   "cell_type": "code",
   "execution_count": 11,
   "metadata": {},
   "outputs": [
    {
     "name": "stdout",
     "output_type": "stream",
     "text": [
      "0.9944875257551016\n",
      "0.9944875257551016\n",
      "0.9943036190442065\n",
      "0.9943036190442066\n"
     ]
    }
   ],
   "source": [
    "from scipy.stats import binom\n",
    "\n",
    "print(1-hypergeom(M, n ,K).cdf(10))               # opzione 1 usando la cdf\n",
    "print(1-sum(hypergeom(M, n, K).pmf(range(11))))   # opzione 2 usando la pmf\n",
    "\n",
    "print(1-binom(n,p).cdf(10))               # opzione 1 usando la cdf\n",
    "print(1-sum(binom(n,p).pmf(range(11))))   # opzione 2 usando la pmf\n"
   ]
  },
  {
   "cell_type": "code",
   "execution_count": 30,
   "metadata": {},
   "outputs": [
    {
     "name": "stdout",
     "output_type": "stream",
     "text": [
      "0.8342016437716413\n",
      "0.8342016437716413\n",
      "0.8320808942183764\n",
      "0.8320808942183586\n"
     ]
    }
   ],
   "source": [
    "print(hypergeom(M, n ,K).cdf(25)-hypergeom(M, n ,K).cdf(14)) # opzione 1 usando la cmf\n",
    "print(sum(hypergeom(M, n, K).pmf(range(15,26))))            # opzione 1 usando la pmf\n",
    "\n",
    "print(binom(n,p).cdf(25)-binom(n,p).cdf(14)) # opzione 1 usando la cmf\n",
    "print(sum(binom(n,p).pmf(range(15,26))))            # opzione 1 usando la pmf"
   ]
  },
  {
   "cell_type": "code",
   "execution_count": 31,
   "metadata": {},
   "outputs": [
    {
     "name": "stdout",
     "output_type": "stream",
     "text": [
      "Chebyshev bound: 0.3663366336633662\n",
      "actual prob    : 0.8342016437716413\n",
      "actual prob    : 0.8320808942183586\n",
      "is it respected: True\n",
      "is it respected: True\n"
     ]
    }
   ],
   "source": [
    "w = 5\n",
    "print(\"Chebyshev bound:\", 1-(var/(w**2)))\n",
    "print(\"actual prob    :\", sum(hypergeom(M, n, K).pmf(range(15,26))))\n",
    "print(\"actual prob    :\", sum(binom(n,p).pmf(range(15,26))))\n",
    "print(\"is it respected:\", sum(hypergeom(M, n, K).pmf(range(15,26))) >= 1-(var/(w^2)))\n",
    "print(\"is it respected:\", sum(binom(n,p).pmf(range(15,26))) >= 1-(var/(w^2)))"
   ]
  },
  {
   "cell_type": "markdown",
   "metadata": {},
   "source": [
    "## 5 \n",
    "Ciascuna vite costa 1.5 centesimi. Se quando faccio un lavoro raccolgo le viti che si sono spezzate\n",
    "e le invio al fornitore, ricevo il rimborso del costo pagato. Prendo n=100 viti per iniziare un\n",
    "lavoro.\n",
    "\n",
    "## 5.1. \n",
    "Esprimere, in funzione di X, la variabile casuale C =“ rimborso che potrei ottenere dal\n",
    "fornitore”."
   ]
  },
  {
   "cell_type": "markdown",
   "metadata": {},
   "source": [
    "C = 1.5*X"
   ]
  },
  {
   "cell_type": "markdown",
   "metadata": {},
   "source": [
    "## 5.2. \n",
    "C è una variabile discreta o continua? Giustificare la risposta"
   ]
  },
  {
   "cell_type": "markdown",
   "metadata": {},
   "source": [
    "C è una variabile discreta in quanto puo assumere un numero finito di valori, tanti quanti ne può assumere X."
   ]
  },
  {
   "cell_type": "markdown",
   "metadata": {},
   "source": [
    "## 5.3. \n",
    "Quanti e quali valori può assumere C?"
   ]
  },
  {
   "cell_type": "markdown",
   "metadata": {},
   "source": [
    "X poteva assumere valori da 0 a 100, di conseguenza 101, esattamente quelli anche C può assumere.  \n",
    "In particolare può assumere {0, 1.5, 1.5x2, 1.5x3, .. 150}"
   ]
  },
  {
   "cell_type": "markdown",
   "metadata": {},
   "source": [
    "## 5.4. \n",
    "Con quale probabilità assume ciascun valore?"
   ]
  },
  {
   "cell_type": "code",
   "execution_count": 42,
   "metadata": {},
   "outputs": [
    {
     "data": {
      "text/plain": [
       "[<matplotlib.lines.Line2D at 0x7f09375144f0>]"
      ]
     },
     "execution_count": 42,
     "metadata": {},
     "output_type": "execute_result"
    },
    {
     "data": {
      "image/png": "[encoded data removed]",
      "text/plain": [
       "<Figure size 720x360 with 2 Axes>"
      ]
     },
     "metadata": {
      "needs_background": "light"
     },
     "output_type": "display_data"
    }
   ],
   "source": [
    "import numpy\n",
    "fig,ax = plt.subplots(1,2)\n",
    "fig.set_size_inches(10,5)\n",
    "ax[0].step(numpy.arange(0,n+1)*1.5,hypergeom(M, n ,K).pmf(range(n+1)))\n",
    "ax[1].step(numpy.arange(0,n+1)*1.5,hypergeom(M, n ,K).cdf(range(n+1)))"
   ]
  },
  {
   "cell_type": "markdown",
   "metadata": {},
   "source": [
    "## 5.5. \n",
    "Qual è il rimborso atteso?"
   ]
  },
  {
   "cell_type": "markdown",
   "metadata": {},
   "source": [
    "E(C)=E(1.5 \\* X)=1.5 \\* E(X) per la proprietà di linearità di E(X) (20*1.5 = 30)"
   ]
  },
  {
   "cell_type": "markdown",
   "metadata": {},
   "source": [
    "## 5.6. \n",
    "Calcolare la probabilità di ottenere un rimborso di 18 euro."
   ]
  },
  {
   "cell_type": "code",
   "execution_count": 15,
   "metadata": {},
   "outputs": [
    {
     "name": "stdout",
     "output_type": "stream",
     "text": [
      "0.012543062124135272\n",
      "0.012753876873275446\n"
     ]
    }
   ],
   "source": [
    "numero_di_viti_difettose = 18/1.5 #(12)\n",
    "print(hypergeom(M, n ,K).pmf(numero_di_viti_difettose))\n",
    "print(binom(n,p).pmf(numero_di_viti_difettose))\n"
   ]
  },
  {
   "cell_type": "markdown",
   "metadata": {},
   "source": [
    "## 6.\n",
    "C’è un altro imprevisto la fornitura di viti contiene metà delle viti con taglio “a croce”, e metà\n",
    "con taglio “piatto”. Il mio cacciavite è a croce. Ho portato con me la scatola con 100 viti e mio\n",
    "figlio come assistente, che mi porge una vite per volta, la controlla e me la passa se è a croce,\n",
    "altrimenti, invece di metterla da parte, la rimette nella scatola (ha solo 4 anni....)."
   ]
  },
  {
   "cell_type": "markdown",
   "metadata": {},
   "source": [
    "la probabilità che la vite sia a croce è p=0.5"
   ]
  },
  {
   "cell_type": "markdown",
   "metadata": {},
   "source": [
    "## 6.2. \n",
    "Quale modello probabilistico scegliereste per modellare la variabile casuale Y che conta\n",
    "il numero di tentativi prima che la vite scelta da mio figlio sia quella giusta?"
   ]
  },
  {
   "cell_type": "markdown",
   "metadata": {},
   "source": [
    "geometrica, Y ~ G(p=0.5)"
   ]
  },
  {
   "cell_type": "markdown",
   "metadata": {},
   "source": [
    "## 6.3. \n",
    "Qual è la probabilità che si debbano aspettare meno di 3 tentativi prima di avere una\n",
    "vite a croce?"
   ]
  },
  {
   "cell_type": "code",
   "execution_count": 16,
   "metadata": {},
   "outputs": [
    {
     "data": {
      "text/plain": [
       "0.875"
      ]
     },
     "execution_count": 16,
     "metadata": {},
     "output_type": "execute_result"
    }
   ],
   "source": [
    "from scipy.stats import geom\n",
    "p = 0.5\n",
    "geom(p).cdf(3)"
   ]
  },
  {
   "cell_type": "markdown",
   "metadata": {},
   "source": [
    "## 6.4. \n",
    "Mio figlio propone di fare una scommessa: indovinare quanti tentativi saranno necessari\n",
    "prima di ottenere una vite a croce. Lui punta su 2 tentativi.\n",
    "Qual è la probabilità che si debbano aspettare esattamente 2 tentativi prima di avere una\n",
    "vite a croce?"
   ]
  },
  {
   "cell_type": "code",
   "execution_count": 17,
   "metadata": {},
   "outputs": [
    {
     "data": {
      "text/plain": [
       "0.125"
      ]
     },
     "execution_count": 17,
     "metadata": {},
     "output_type": "execute_result"
    }
   ],
   "source": [
    "geom(p).pmf(3)"
   ]
  },
  {
   "cell_type": "markdown",
   "metadata": {},
   "source": [
    "## 6.5. \n",
    "Mio figlio ha appena rimesso una vite a taglio piatto nella scatola, ed è convinto di avere\n",
    "maggiori probabilità di vincere la scommessa ora. Gli date ragione?"
   ]
  },
  {
   "cell_type": "markdown",
   "metadata": {},
   "source": [
    "si, per la mancanza di memoria della geometrica:\n",
    "P(Y=2|Y>=1)=P(Y=1) e di conseguenza P(Y=1) > P(Y=2)"
   ]
  },
  {
   "cell_type": "markdown",
   "metadata": {},
   "source": [
    "P(la 15 vite è a croce | non ho una croce per almeno 10 estrazione) = P(la 5 estrazione è a croce)"
   ]
  }
 ],
 "metadata": {
  "kernelspec": {
   "display_name": "Python 3",
   "language": "python",
   "name": "python3"
  },
  "language_info": {
   "codemirror_mode": {
    "name": "ipython",
    "version": 3
   },
   "file_extension": ".py",
   "mimetype": "text/x-python",
   "name": "python",
   "nbconvert_exporter": "python",
   "pygments_lexer": "ipython3",
   "version": "3.8.2"
  }
 },
 "nbformat": 4,
 "nbformat_minor": 4
}
