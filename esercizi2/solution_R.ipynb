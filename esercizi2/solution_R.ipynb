{
 "cells": [
  {
   "cell_type": "markdown",
   "metadata": {},
   "source": [
    "## 3\n",
    "Ho appena ricevuto una fornitura di M = 10000 viti. Una frazione p = 0.2 di tali viti è\n",
    "difettosa, nel senso che un certo numero K delle M viti fornitemi non è in grado di superare\n",
    "senza spezzarsi una prova di carico."
   ]
  },
  {
   "cell_type": "markdown",
   "metadata": {},
   "source": [
    "## 3.1. \n",
    "Prendo 100 viti per montare alcuni scaffali. Quale modello probabilistico scegliereste per modellare la variabile casuale X = “numero di viti che dovrò scartare”? Specificatene i parametri, il valore atteso e la varianza."
   ]
  },
  {
   "cell_type": "code",
   "execution_count": 2,
   "metadata": {},
   "outputs": [
    {
     "name": "stdout",
     "output_type": "stream",
     "text": [
      "mean: 20 \n",
      "var : 15.84158 \n"
     ]
    }
   ],
   "source": [
    "M=10000\n",
    "p=0.2\n",
    "K=M*p\n",
    "n=100\n",
    "\n",
    "mean = n*K/M\n",
    "var  = K/M*((M-K)/M)*n*((M-n)/(M-1))\n",
    "\n",
    "cat(\"mean:\",mean,\"\\n\")\n",
    "cat(\"var :\",var ,\"\\n\")"
   ]
  },
  {
   "cell_type": "code",
   "execution_count": 14,
   "metadata": {},
   "outputs": [
    {
     "data": {
      "image/png": "[encoded data removed]",
      "text/plain": [
       "plot without title"
      ]
     },
     "metadata": {
      "image/png": {
       "height": 420,
       "width": 420
      },
      "text/plain": {
       "height": 420,
       "width": 420
      }
     },
     "output_type": "display_data"
    },
    {
     "data": {
      "image/png": "[encoded data removed]",
      "text/plain": [
       "plot without title"
      ]
     },
     "metadata": {
      "image/png": {
       "height": 420,
       "width": 420
      },
      "text/plain": {
       "height": 420,
       "width": 420
      }
     },
     "output_type": "display_data"
    }
   ],
   "source": [
    "plot(0:n,phyper(0:n,K,M-K,n),type=\"s\",xlim=c(0,40))\n",
    "plot(0:n,dhyper(0:n,K,M-K,n),type=\"s\",xlim=c(0,40))"
   ]
  },
  {
   "cell_type": "markdown",
   "metadata": {},
   "source": [
    "## 3.2.1. \n",
    "quante viti devo aspettarmi di dover scartare?"
   ]
  },
  {
   "cell_type": "code",
   "execution_count": 12,
   "metadata": {},
   "outputs": [
    {
     "name": "stdout",
     "output_type": "stream",
     "text": [
      "[1] 20\n"
     ]
    }
   ],
   "source": [
    "print(mean)"
   ]
  },
  {
   "cell_type": "markdown",
   "metadata": {},
   "source": [
    "## 3.2.2. \n",
    "quanto vale la probabilità che io debba scartare un numero di viti superiore a 10?"
   ]
  },
  {
   "cell_type": "code",
   "execution_count": 9,
   "metadata": {},
   "outputs": [
    {
     "name": "stdout",
     "output_type": "stream",
     "text": [
      "[1] 0.9944875\n",
      "[1] 0.9944875\n",
      "[1] 0.9944875\n"
     ]
    }
   ],
   "source": [
    "\n",
    "print(1-phyper(10,K,M-K,n))            # opzione 1 usando la cdf\n",
    "print(phyper(10,K,M-K,n,lower.tail=F)) # opzione 3 cdf + lower.tail\n",
    "print(1-sum(dhyper(0:10,K,M-K,n)))     # opzione 2 usando la pmf\n"
   ]
  },
  {
   "cell_type": "markdown",
   "metadata": {},
   "source": [
    "## 3.2.3. \n",
    "quanto vale la probabilità che io debba scartare un numero di viti compreso tra 15 e 25 estremi compresi?"
   ]
  },
  {
   "cell_type": "code",
   "execution_count": 10,
   "metadata": {},
   "outputs": [
    {
     "name": "stdout",
     "output_type": "stream",
     "text": [
      "[1] 0.8342016\n",
      "[1] 0.8342016\n"
     ]
    }
   ],
   "source": [
    "print(phyper(25,K,M-K,n)-phyper(14,K,M-K,n)) # opzione 1 usando la cmf\n",
    "print(sum(dhyper(15:25,K,M-K,n)))            # opzione 1 usando la pmf"
   ]
  },
  {
   "cell_type": "markdown",
   "metadata": {},
   "source": [
    "## 3.2.4. \n",
    "confrontate questo ultimo risultato con la minorazione data dalla diseguaglianza di Chebyshev, per controllare che esso soddisfa la diseguaglianza."
   ]
  },
  {
   "cell_type": "code",
   "execution_count": 33,
   "metadata": {},
   "outputs": [
    {
     "name": "stdout",
     "output_type": "stream",
     "text": [
      "Chebyshev bound: 0.3536 \n",
      "actual prob    : 0.8342016 \n",
      "is it respected: TRUE \n"
     ]
    }
   ],
   "source": [
    "w = 5\n",
    "cat(\"Chebyshev bound:\", 1-(var/(w^2))                              ,\"\\n\")\n",
    "cat(\"actual prob    :\", sum(dhyper(15:25,K,M-K,n))                 ,\"\\n\")\n",
    "cat(\"is it respected:\", sum(dhyper(15:25,K,M-K,n)) >= 1-(var/(w^2)),\"\\n\")\n"
   ]
  },
  {
   "cell_type": "markdown",
   "metadata": {},
   "source": [
    "## 3.3. \n",
    "A lavoro terminato, tra le 100 viti che avevo preso, ne sono risultate difettose ben 30. Qual è la probabilità che ciò accadesse?"
   ]
  },
  {
   "cell_type": "code",
   "execution_count": 12,
   "metadata": {},
   "outputs": [
    {
     "data": {
      "text/html": [
       "0.00506312861238661"
      ],
      "text/latex": [
       "0.00506312861238661"
      ],
      "text/markdown": [
       "0.00506312861238661"
      ],
      "text/plain": [
       "[1] 0.005063129"
      ]
     },
     "metadata": {},
     "output_type": "display_data"
    }
   ],
   "source": [
    "dhyper(30,K,M-K,n)"
   ]
  },
  {
   "cell_type": "markdown",
   "metadata": {},
   "source": [
    "## 3.4. \n",
    "Chiamo q la probabilità di scartare un numero di viti al più uguale a s. Se prendo n=100\n",
    "viti e voglio che q sia almeno uguale a 0.8 la probabilità di scartare al più s viti, quanto\n",
    "vale s?"
   ]
  },
  {
   "cell_type": "code",
   "execution_count": 15,
   "metadata": {},
   "outputs": [
    {
     "name": "stdout",
     "output_type": "stream",
     "text": [
      "[1] 23\n"
     ]
    },
    {
     "data": {
      "text/html": [
       "0.812028338774536"
      ],
      "text/latex": [
       "0.812028338774536"
      ],
      "text/markdown": [
       "0.812028338774536"
      ],
      "text/plain": [
       "[1] 0.8120283"
      ]
     },
     "metadata": {},
     "output_type": "display_data"
    }
   ],
   "source": [
    "# s è il quantile 0.8 della distribuzione\n",
    "q=0.8\n",
    "s=qhyper(q,K,M-K,n)\n",
    "print(s)\n",
    "phyper(s,K,M-K,n)\n"
   ]
  },
  {
   "cell_type": "markdown",
   "metadata": {},
   "source": [
    "## 4\n",
    "Riguardo al problema descritto nell’esercizio precedente e alla variabile casuale X che conta il\n",
    "numero di viti che dovrò scartare:\n",
    "## 4.1. \n",
    "ci sono le condizioni per poter approssimare il modello che avete ipotizzato con un altro\n",
    "modello?"
   ]
  },
  {
   "cell_type": "markdown",
   "metadata": {},
   "source": [
    "Si, quando M >> 1 allora H(M,K,n) tende binomiale(n,p=K/M)"
   ]
  },
  {
   "cell_type": "markdown",
   "metadata": {},
   "source": [
    "## 4.2.1. \n",
    "Qual è il numero più probabile di viti che dovrò scartare?"
   ]
  },
  {
   "cell_type": "code",
   "execution_count": 39,
   "metadata": {},
   "outputs": [
    {
     "data": {
      "text/html": [
       "20"
      ],
      "text/latex": [
       "20"
      ],
      "text/markdown": [
       "20"
      ],
      "text/plain": [
       "[1] 20"
      ]
     },
     "metadata": {},
     "output_type": "display_data"
    }
   ],
   "source": [
    "p = K/M\n",
    "n * p"
   ]
  },
  {
   "cell_type": "markdown",
   "metadata": {},
   "source": [
    "## 4.2.2. \n",
    "rispondete alle stesse domande del punto 2 dell’esercizio precedente usando l’approssimazione, e confrontate i risultati numerici che avete ottenuto nei due casi, per controllare che i risultati ottenuti sono molto simili (e quindi l’approssimazione è\n",
    "ben giustificata)."
   ]
  },
  {
   "cell_type": "code",
   "execution_count": 43,
   "metadata": {},
   "outputs": [
    {
     "name": "stdout",
     "output_type": "stream",
     "text": [
      "[1] 0.9944875\n",
      "[1] 0.9944875\n",
      "\n",
      "[1] 0.9943036\n",
      "[1] 0.9943036\n"
     ]
    }
   ],
   "source": [
    "print(1-phyper(10,K,M-K,n))        # opzione 1 usando la cdf\n",
    "print(1-sum(dhyper(0:10,K,M-K,n))) # opzione 2 usando la pmf\n",
    "cat(\"\\n\")\n",
    "print(1-pbinom(10,n,p))        # opzione 1 usando la cdf\n",
    "print(1-sum(dbinom(0:10,n,p))) # opzione 2 usando la pmf"
   ]
  },
  {
   "cell_type": "code",
   "execution_count": 44,
   "metadata": {},
   "outputs": [
    {
     "name": "stdout",
     "output_type": "stream",
     "text": [
      "[1] 0.8342016\n",
      "[1] 0.8342016\n",
      "\n",
      "[1] 0.8320809\n",
      "[1] 0.8320809\n"
     ]
    }
   ],
   "source": [
    "print(phyper(25,K,M-K,n)-phyper(14,K,M-K,n)) # opzione 1 usando la cmf\n",
    "print(sum(dhyper(15:25,K,M-K,n)))            # opzione 1 usando la pmf\n",
    "cat(\"\\n\")\n",
    "print(pbinom(25,n,p)-pbinom(14,n,p)) # opzione 1 usando la cmf\n",
    "print(sum(dbinom(15:25,n,p)))            # opzione 1 usando la pmf"
   ]
  },
  {
   "cell_type": "code",
   "execution_count": 16,
   "metadata": {},
   "outputs": [
    {
     "name": "stdout",
     "output_type": "stream",
     "text": [
      "[1] 0.005189643\n",
      "[1] 0.005063129\n"
     ]
    }
   ],
   "source": [
    "print(dbinom(30,n,p))\n",
    "print(dhyper(30,K,M-K,n))"
   ]
  },
  {
   "cell_type": "code",
   "execution_count": 17,
   "metadata": {},
   "outputs": [
    {
     "name": "stdout",
     "output_type": "stream",
     "text": [
      "Chebyshev bound       : 0.3536 \n",
      "actual prob           : 0.8342016 \n",
      "aprox. prob           : 0.8320809 \n",
      "is it respected       : TRUE \n",
      "approx is it respected: TRUE \n"
     ]
    }
   ],
   "source": [
    "# s è il quantile 0.8 della distribuzione\n",
    "w = 5\n",
    "cat(\"Chebyshev bound       :\", 1-(var/(w^2))                              ,\"\\n\")\n",
    "cat(\"actual prob           :\", sum(dhyper(15:25,K,M-K,n))                 ,\"\\n\")\n",
    "cat(\"aprox. prob           :\", sum(dbinom(15:25,n,p))                 ,\"\\n\")\n",
    "cat(\"is it respected       :\", sum(dhyper(15:25,K,M-K,n)) >= 1-(var/(w^2)),\"\\n\")\n",
    "cat(\"approx is it respected:\", sum(dbinom(15:25,n,p)) >= 1-(var/(w^2)),\"\\n\")\n"
   ]
  },
  {
   "cell_type": "markdown",
   "metadata": {},
   "source": [
    "## 5 \n",
    "Ciascuna vite costa 1.5 centesimi. Se quando faccio un lavoro raccolgo le viti che si sono spezzate\n",
    "e le invio al fornitore, ricevo il rimborso del costo pagato. Prendo n=100 viti per iniziare un\n",
    "lavoro.\n",
    "\n",
    "## 5.1. \n",
    "Esprimere, in funzione di X, la variabile casuale C =“ rimborso che potrei ottenere dal\n",
    "fornitore”."
   ]
  },
  {
   "cell_type": "markdown",
   "metadata": {},
   "source": [
    "C = 1.5*X"
   ]
  },
  {
   "cell_type": "markdown",
   "metadata": {},
   "source": [
    "## 5.2. \n",
    "C è una variabile discreta o continua? Giustificare la risposta"
   ]
  },
  {
   "cell_type": "markdown",
   "metadata": {},
   "source": [
    "C è una variabile discreta in quanto puo assumere un numero finito di valori, tanti quanti ne può assumere X."
   ]
  },
  {
   "cell_type": "markdown",
   "metadata": {},
   "source": [
    "## 5.3. \n",
    "Quanti e quali valori può assumere C?"
   ]
  },
  {
   "cell_type": "markdown",
   "metadata": {},
   "source": [
    "X poteva assumere valori da 0 a 100, di conseguenza 101, esattamente quelli anche C può assumere.  \n",
    "In particolare può assumere {0, 1.5, 1.5x2, 1.5x3, .. 150}"
   ]
  },
  {
   "cell_type": "markdown",
   "metadata": {},
   "source": [
    "## 5.4. \n",
    "Con quale probabilità assume ciascun valore?"
   ]
  },
  {
   "cell_type": "code",
   "execution_count": 61,
   "metadata": {},
   "outputs": [
    {
     "data": {
      "image/png": "[encoded data removed]",
      "text/plain": [
       "plot without title"
      ]
     },
     "metadata": {
      "image/png": {
       "height": 420,
       "width": 420
      },
      "text/plain": {
       "height": 420,
       "width": 420
      }
     },
     "output_type": "display_data"
    }
   ],
   "source": [
    "plot(0:100*1.5,dhyper(0:100,K,M-K,n),type=\"s\")"
   ]
  },
  {
   "cell_type": "code",
   "execution_count": 62,
   "metadata": {},
   "outputs": [
    {
     "data": {
      "image/png": "[encoded data removed]",
      "text/plain": [
       "plot without title"
      ]
     },
     "metadata": {
      "image/png": {
       "height": 420,
       "width": 420
      },
      "text/plain": {
       "height": 420,
       "width": 420
      }
     },
     "output_type": "display_data"
    }
   ],
   "source": [
    "plot(0:100*1.5,dbinom(0:100,n,p),type=\"s\")"
   ]
  },
  {
   "cell_type": "markdown",
   "metadata": {},
   "source": [
    "## 5.5. \n",
    "Qual è il rimborso atteso?"
   ]
  },
  {
   "cell_type": "markdown",
   "metadata": {},
   "source": [
    "E(C)=E(1.5 \\* X)=1.5 \\* E(X) per la proprietà di linearità di E(X) (20*1.5 = 30)"
   ]
  },
  {
   "cell_type": "markdown",
   "metadata": {},
   "source": [
    "## 5.6. \n",
    "Calcolare la probabilità di ottenere un rimborso di 18 euro."
   ]
  },
  {
   "cell_type": "code",
   "execution_count": 57,
   "metadata": {},
   "outputs": [
    {
     "data": {
      "text/html": [
       "0.0125430621241747"
      ],
      "text/latex": [
       "0.0125430621241747"
      ],
      "text/markdown": [
       "0.0125430621241747"
      ],
      "text/plain": [
       "[1] 0.01254306"
      ]
     },
     "metadata": {},
     "output_type": "display_data"
    },
    {
     "data": {
      "text/html": [
       "0.0127538768732753"
      ],
      "text/latex": [
       "0.0127538768732753"
      ],
      "text/markdown": [
       "0.0127538768732753"
      ],
      "text/plain": [
       "[1] 0.01275388"
      ]
     },
     "metadata": {},
     "output_type": "display_data"
    }
   ],
   "source": [
    "numero_di_viti_difettose = 18/1.5 #(12)\n",
    "dhyper(numero_di_viti_difettose,K,M-K,n)\n",
    "dbinom(numero_di_viti_difettose,n,p)\n"
   ]
  },
  {
   "cell_type": "markdown",
   "metadata": {},
   "source": [
    "## 6.\n",
    "C’è un altro imprevisto la fornitura di viti contiene metà delle viti con taglio “a croce”, e metà\n",
    "con taglio “piatto”. Il mio cacciavite è a croce. Ho portato con me la scatola con 100 viti e mio\n",
    "figlio come assistente, che mi porge una vite per volta, la controlla e me la passa se è a croce,\n",
    "altrimenti, invece di metterla da parte, la rimette nella scatola (ha solo 4 anni....)."
   ]
  },
  {
   "cell_type": "markdown",
   "metadata": {},
   "source": [
    "## 6.1. \n",
    "Qual è la probabilità che, estraendo una vite dalla scatola, questa sia a croce?"
   ]
  },
  {
   "cell_type": "markdown",
   "metadata": {},
   "source": [
    "la probabilità che la vite sia a croce è p=0.5"
   ]
  },
  {
   "cell_type": "markdown",
   "metadata": {},
   "source": [
    "## 6.2. \n",
    "Quale modello probabilistico scegliereste per modellare la variabile casuale Y che conta\n",
    "il numero di tentativi prima che la vite scelta da mio figlio sia quella giusta?"
   ]
  },
  {
   "cell_type": "markdown",
   "metadata": {},
   "source": [
    "geometrica, Y ~ G(p=0.5)\n"
   ]
  },
  {
   "cell_type": "markdown",
   "metadata": {},
   "source": [
    "## 6.3. \n",
    "Qual è la probabilità che si debbano aspettare meno di 3 tentativi prima di avere una\n",
    "vite a croce?"
   ]
  },
  {
   "cell_type": "code",
   "execution_count": 1,
   "metadata": {},
   "outputs": [
    {
     "data": {
      "text/html": [
       "0.875"
      ],
      "text/latex": [
       "0.875"
      ],
      "text/markdown": [
       "0.875"
      ],
      "text/plain": [
       "[1] 0.875"
      ]
     },
     "metadata": {},
     "output_type": "display_data"
    },
    {
     "data": {
      "text/html": [
       "0.875"
      ],
      "text/latex": [
       "0.875"
      ],
      "text/markdown": [
       "0.875"
      ],
      "text/plain": [
       "[1] 0.875"
      ]
     },
     "metadata": {},
     "output_type": "display_data"
    }
   ],
   "source": [
    "p = 0.5\n",
    "pgeom(2,p)\n",
    "dgeom(0,p) + dgeom(1,p) + dgeom(2,p)"
   ]
  },
  {
   "cell_type": "markdown",
   "metadata": {},
   "source": [
    "## 6.4. \n",
    "Mio figlio propone di fare una scommessa: indovinare quanti tentativi saranno necessari\n",
    "prima di ottenere una vite a croce. Lui punta su 2 tentativi.\n",
    "Qual è la probabilità che si debbano aspettare esattamente 2 tentativi prima di avere una\n",
    "vite a croce?"
   ]
  },
  {
   "cell_type": "code",
   "execution_count": 22,
   "metadata": {},
   "outputs": [
    {
     "data": {
      "text/html": [
       "0.125"
      ],
      "text/latex": [
       "0.125"
      ],
      "text/markdown": [
       "0.125"
      ],
      "text/plain": [
       "[1] 0.125"
      ]
     },
     "metadata": {},
     "output_type": "display_data"
    }
   ],
   "source": [
    "dgeom(2,p)"
   ]
  },
  {
   "cell_type": "markdown",
   "metadata": {},
   "source": [
    "## 6.5. \n",
    "Mio figlio ha appena rimesso una vite a taglio piatto nella scatola, ed è convinto di avere\n",
    "maggiori probabilità di vincere la scommessa ora. Gli date ragione?"
   ]
  },
  {
   "cell_type": "markdown",
   "metadata": {},
   "source": [
    "no, per la mancanza di memoria della geometrica:\n",
    "P(Y=2|Y>=1)=P(Y=1)\n"
   ]
  },
  {
   "cell_type": "code",
   "execution_count": null,
   "metadata": {},
   "outputs": [],
   "source": [
    "P(la 15 vite è a croce | non ho una croce per almeno 10 estrazione) = P(la 5 estrazione è a croce)"
   ]
  }
 ],
 "metadata": {
  "kernelspec": {
   "display_name": "R",
   "language": "R",
   "name": "ir"
  },
  "language_info": {
   "codemirror_mode": "r",
   "file_extension": ".r",
   "mimetype": "text/x-r-source",
   "name": "R",
   "pygments_lexer": "r",
   "version": "3.6.3"
  }
 },
 "nbformat": 4,
 "nbformat_minor": 4
}
