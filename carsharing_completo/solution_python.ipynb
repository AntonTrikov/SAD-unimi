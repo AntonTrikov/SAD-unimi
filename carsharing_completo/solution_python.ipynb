{
 "cells": [
  {
   "cell_type": "markdown",
   "metadata": {},
   "source": [
    "## Esercizio 0\n",
    "Considerate una generica variable aleatoria $Z$ che assume esclusivamente i valori $0$ e $1$. Indichiamo con $p$ la probabilità $\\mathbb{P}(X=1)$.\n",
    "- 0.1: Sia $Z$ una variabile bernoulliana di parametro $p$. Esprimete, in funzione di $p$, il valore atteso e la varianza di $Z$.\n",
    "    - $\\mathbb{E}[Z] = p, \\mathbb{V}[Z] = pq$\n",
    "- 0.2: Definiamo al variabile $X= 2*Z−1$.\n",
    "    - 0.2.1: $X$ è una variabile discreta o continua?\n",
    "        - $X$ è discreta in quanto lo era $Z$.\n",
    "    - 0.2.2: Quali valori può assumere $X$ ?\n",
    "        - $X$ può assumere i valori $\\{1,-1\\}$.\n",
    "    - 0.2.3: Esprimete il valore atteso di $X$ in funzione di $Z$.\n",
    "        - $\\mathbb{E}[X] = \\mathbb{E}[2*Z-1] = 2*\\mathbb{E}[Z]-1$.\n",
    "    - 0.2.4: Esprimete la varianza di X in funzione della varianza di Z.\n",
    "        - $\\mathbb{V}[X] = \\mathbb{V}[2*Z-1] = \\mathbb{V}[2*Z] = 4*\\mathbb{V}[Z] = 4*p*(1-p)$.\n",
    "    - 0.2.5: La varianza di X è superiormente limitata. Controllate che il valore massimo che essa può assumere è 1.\n",
    "        - $v(p) = 4*p*(1-p)$.  \n",
    "        $\\frac{d}{dp}4*p*(1-p) = 0 \\implies 4*(1-p) - 4*p = 0 \\implies 4 - 8p = 0 \\implies p = \\frac{1}{2}$.  \n",
    "        $v(p=\\frac{1}{2}) = 1.$  \n",
    "        \n",
    "## Esercizio 1\n",
    "1. Indichiamo con $\\bar{X}_{n}$ la media campionaria di un campione casuale $X_1,...,X_n$ estratto dalla popolazione $X$ studiata nell’esercizio precedente.\n",
    "    - Sarà quindi che: $\\bar{X}_{n} = \\frac{1}{n}\\sum_{i=1}^{n}X_i$\n",
    "    - 1.1.1 Esprimete il valore atteso di $\\bar{X}_n$ in funzione di $p$.\n",
    "        - $\\mathbb{E}[\\bar{X}_n] = \\mathbb{E}[\\frac{1}{n}\\sum_{i=1}^{n}X_i] = \\frac{1}{n}\\sum_{i=1}^{n}\\mathbb{E}[X_i] = \\frac{1}{n}\\sum_{i=1}^{n}2*\\mathbb{E}[Z]-1 = \\frac{1}{n}\\sum_{i=1}^{n}2*p-1 = 2*p-1$\n",
    "    - 1.1.2 Esprimete la varianza di $\\bar{X}_n$ in funzione di $\\mathbb{V}[X]$.\n",
    "        - $\\mathbb{V}[\\bar{X}_n] = \\mathbb{V}[\\frac{1}{n}\\sum_{i=1}^{n}X_i] = \\frac{1}{n^2}\\mathbb{V}[\\sum_{i=1}^{n}X_i] = \\frac{1}{n^2}\\sum_{i=1}^{n}\\mathbb{V}[X_i] = \\frac{1}{n^2}\\sum_{i=1}^{n}\\mathbb{V}[X]$\n",
    "    - 1.1.3 Esprimete la varianza di $\\bar{X}_n$ in funzione di $p$ e $n$.\n",
    "        - $\\mathbb{V}[\\bar{X}_n] = \\frac{1}{n^2}\\sum_{i=1}^{n}\\mathbb{V}[X] = \\frac{1}{n}\\mathbb{V}[X] = \\frac{4*p*(1-p)}{n}$\n",
    "    - 1.2 Controllate che $T_n=\\frac{1+\\bar{X}_n}{2}$ è uno stimatore non distorto per il parametro $p$.\n",
    "        - $\\mathbb{E}[T_n] = \\mathbb{E}[\\frac{1+\\bar{X}_n}{2}] = \\frac{1}{2}+\\frac{1}{2}\\mathbb{E}[\\bar{X}_n] = \\frac{1}{2}+\\frac{1}{2}(2*p-1) = p$\n",
    "    - 1.3 Tramite semplici passaggi algebrici controllate che: $\\mathbb{P}(|T_n-p|\\leq 0.05) = \\mathbb{P}(|\\bar{X}_n - (2p-1)|\\leq 0.1)$.\n",
    "        - $\\mathbb{P}(|T_n-p|\\leq 0.05) = \\mathbb{P}(|\\frac{1+\\bar{X}_n}{2}-p|\\leq 0.05) = \\mathbb{P}(|\\frac{1+\\bar{X}_n-2p}{2}|\\leq 0.05) = \\mathbb{P}(|1+\\bar{X}_n-2p|\\leq 0.1) = \\mathbb{P}(|\\bar{X}_n - (2p-1)|\\leq 0.1)$\n",
    "    - 1.4: Indicata con $\\Phi$ la funzione di ripartizione della variabile normale standard, verificate che per $n>>1$ vale la seguente relazione: $\\mathbb{P}(|T_n-p|\\leq 0.05) \\approx 2\\Phi(\\frac{0.1\\sqrt{n}}{2\\sqrt{p(1-p)}})-1$\n",
    "        - sfruttando la 1.3: $\\mathbb{P}(|T_n-p|\\leq 0.05) = \\mathbb{P}(|\\bar{X}_n - (2p-1)|\\leq 0.1)$.  \n",
    "        - ricordiamo che:\n",
    "        $$ Z \\sim \\mathcal{B}(p) $$\n",
    "        $$ X = 2Z-1 $$\n",
    "        $$ \\mathbb{E}[X] = 2p-1 $$\n",
    "        $$ \\mathbb{V}[X] = 4p(p-1) $$\n",
    "        $$ \\mu_\\bar{X_n} = \\mathbb{E}[\\bar{X}_n] = \\mathbb{E}[X] = 2p-1 $$\n",
    "        $$ \\sigma^2_\\bar{X_n} = \\mathbb{V}[\\bar{X}_n] = \\frac{1}{n}4p(1-p) $$  \n",
    "        $$ \\sigma_\\bar{X_n} = \\sqrt{\\mathbb{V}[\\bar{X}_n]} = \\frac{1}{\\sqrt{n}}2\\sqrt{p(1-p)} $$\n",
    "        $$ \\frac{\\bar{X_n}-\\mu_X}{\\sigma_X/\\sqrt{n}} \\approx Y \\sim \\mathcal{N}(0,1) $$  \n",
    "        Procediamo ora con la dimostrazione vera e propria:\n",
    "        $$  \\mathbb{P}(|\\bar{X}_n - (2p-1)|\\leq 0.1) = \\mathbb{P}(\\frac{|\\bar{X_n}-\\mu_X|}{\\sigma_X/\\sqrt{n}}\\leq \\frac{\\sqrt{n}0.1}{\\sigma_X}) = \\mathbb{P}(-\\frac{\\sqrt{n}0.1}{\\sigma_X}\\leq\\frac{\\bar{X_n}-\\mu_X}{\\sigma_X/\\sqrt{n}}\\leq \\frac{\\sqrt{n}0.1}{\\sigma_X}) \\approx \\mathbb{P}(-\\frac{\\sqrt{n}0.1}{\\sigma_X}\\leq Y \\leq \\frac{\\sqrt{n}0.1}{\\sigma_X}) = 1-(\\mathbb{P}(Y \\leq -\\frac{\\sqrt{n}0.1}{\\sigma_X}) + \\mathbb{P}(Y \\geq \\frac{\\sqrt{n}0.1}{\\sigma_X})) = 1-(2-\\Phi(\\frac{0.1\\sqrt{n}}{2\\sqrt{p(1-p)}})) = \\Phi(\\frac{0.1\\sqrt{n}}{2\\sqrt{p(1-p)}})-1 $$\n",
    "    - 1.5: Si controlli che la funzione $\\sqrt{p(1−p)}$ ha il massimo valore nel punto $p= 1/2$.\n",
    "        - $\\frac{d}{dp} \\sqrt{p(1−p)} = 0 \\implies \\frac{1-2p}{2\\sqrt{p(1-p)}} = 0 \\implies 1-2p = 0 \\implies p = 1/2$\n",
    "    - 1.6: Si controlli che $\\mathbb{P}(|T_n-p|\\leq 0.05) \\geq 2\\Phi(0.1\\sqrt{n})-1$\n",
    "        sappiamo che: $\\mathbb{P}(|T_n-p|\\leq 0.05) \\approx 2\\Phi(\\frac{0.1\\sqrt{n}}{2\\sqrt{p(1-p)}})-1$.  \n",
    "        cerchiamo di provare che: $$2\\Phi(\\frac{0.1\\sqrt{n}}{2\\sqrt{p(1-p)}})-1 \\geq 2\\Phi(0.1\\sqrt{n})-1 \\iff \\Phi(\\frac{0.1\\sqrt{n}}{2\\sqrt{p(1-p)}}) \\geq \\Phi(0.1\\sqrt{n})$$  \n",
    "        dall'esercizio precedente sappiamo che $2\\sqrt{p(1-p)}$ ha valore massimo per $p=1/2$, di conseguenza, il valore massimo di $2\\sqrt{p(1-p)}$ è $2\\sqrt{\\frac{1}{2}(1-\\frac{1}{2})} = 1$.  \n",
    "        allora vale che: $\\frac{0.1\\sqrt{n}}{2\\sqrt{p(1-p)}} \\geq 0.1\\sqrt{n}$.  \n",
    "        di conseguenza varrà che: $\\Phi(\\frac{0.1\\sqrt{n}}{2\\sqrt{p(1-p)}}) \\geq \\Phi(0.1\\sqrt{n})$. Questo perchè la funzione di ripartizione è sempre non decrescente.\n",
    "\n",
    "## Esercizio 2\n",
    "2.1 Sia $G$ una variabile esponenziale di parametro $\\nu$.\n",
    "- 2.1.1 Quali valori può assumere $G$.\n",
    "    - Il dominio di $G$ è compreso tra $[0,\\infty)$\n",
    "- 2.1.2 Esprimete, in funzione di $\\nu$, la densità di probabilità $f_G$.\n",
    "    - $f_G(x) = 0$ if $x < 0$ \n",
    "    - $f_G(x) = \\nu e^{-\\nu x}$ if $x\\geq 0$\n",
    "- 2.1.3 Fissato, solo in questo punto, $\\nu= 0.1$, tracciate il grafico di $f_G$.\n",
    "    "
   ]
  },
  {
   "cell_type": "code",
   "execution_count": 18,
   "metadata": {},
   "outputs": [
    {
     "data": {
      "image/png": "[encoded data removed]",
      "text/plain": [
       "<Figure size 432x288 with 1 Axes>"
      ]
     },
     "metadata": {
      "needs_background": "light"
     },
     "output_type": "display_data"
    }
   ],
   "source": [
    "import numpy             as np\n",
    "import matplotlib.pyplot as plt\n",
    "from   scipy.stats   import expon\n",
    "nu = 0.1\n",
    "x  = np.linspace(0,100,100)\n",
    "y  = expon(scale=1/nu).pdf(x)\n",
    "p  = plt.plot(x,y)\n"
   ]
  },
  {
   "cell_type": "markdown",
   "metadata": {},
   "source": [
    "\n",
    "- 2.1.4 In Figura 1 sono mostrati i grafici della funzione di ripartizione di due variabili esponenziali di parametri differenti. Quale dei due grafici corrisponde alla variabile di valore atteso maggiore? Giustificate la risposta.\n",
    "    - $\\nu$ di (b) è sicuramente maggiore del $\\nu$ di a. Questo perchè tanto è più grande è $\\nu$ tanto maggiore sarà la pdf alla partenza e tanto più veloce sarà la decrescita. \n",
    "- 2.1.5 Esprimete la deviazione standard $\\sigma_G$ di G in funzione del valore atteso $\\mathbb{E}[G]$.\n",
    "    - $\\sigma_G = \\frac{1}{\\nu}$ e $\\mathbb{E}[G] = \\frac{1}{\\nu}$. Allora $\\sigma_G = \\mathbb{E}[G]$\n",
    "- 2.1.6 Dato un campione casuale $G_1,...,G_n$ estratto dalla popolazione esponenziale $G$ studiata in questo esercizio, fornite uno stimatore per il parametro $\\nu$.\n",
    "    - Uno stimatore per $\\nu$ è $\\frac{n}{\\sum_{i=1}^{n} G_i}$ "
   ]
  },
  {
   "cell_type": "markdown",
   "metadata": {},
   "source": [
    "## Esercizio 3"
   ]
  },
  {
   "cell_type": "code",
   "execution_count": 6,
   "metadata": {},
   "outputs": [
    {
     "data": {
      "text/html": [
       "<div>\n",
       "<style scoped>\n",
       "    .dataframe tbody tr th:only-of-type {\n",
       "        vertical-align: middle;\n",
       "    }\n",
       "\n",
       "    .dataframe tbody tr th {\n",
       "        vertical-align: top;\n",
       "    }\n",
       "\n",
       "    .dataframe thead th {\n",
       "        text-align: right;\n",
       "    }\n",
       "</style>\n",
       "<table border=\"1\" class=\"dataframe\">\n",
       "  <thead>\n",
       "    <tr style=\"text-align: right;\">\n",
       "      <th></th>\n",
       "      <th>CarIdentifier</th>\n",
       "      <th>TimeFrame</th>\n",
       "      <th>RushHour</th>\n",
       "      <th>PremiumCustomer</th>\n",
       "      <th>Distance</th>\n",
       "      <th>Time</th>\n",
       "    </tr>\n",
       "  </thead>\n",
       "  <tbody>\n",
       "    <tr>\n",
       "      <th>0</th>\n",
       "      <td>102</td>\n",
       "      <td>FRAME D</td>\n",
       "      <td>1</td>\n",
       "      <td>1</td>\n",
       "      <td>3.0</td>\n",
       "      <td>7.9</td>\n",
       "    </tr>\n",
       "    <tr>\n",
       "      <th>1</th>\n",
       "      <td>103</td>\n",
       "      <td>FRAME D</td>\n",
       "      <td>1</td>\n",
       "      <td>1</td>\n",
       "      <td>5.3</td>\n",
       "      <td>13.9</td>\n",
       "    </tr>\n",
       "    <tr>\n",
       "      <th>2</th>\n",
       "      <td>105</td>\n",
       "      <td>FRAME D</td>\n",
       "      <td>1</td>\n",
       "      <td>-1</td>\n",
       "      <td>0.4</td>\n",
       "      <td>4.1</td>\n",
       "    </tr>\n",
       "    <tr>\n",
       "      <th>3</th>\n",
       "      <td>110</td>\n",
       "      <td>FRAME D</td>\n",
       "      <td>1</td>\n",
       "      <td>1</td>\n",
       "      <td>2.8</td>\n",
       "      <td>5.0</td>\n",
       "    </tr>\n",
       "    <tr>\n",
       "      <th>4</th>\n",
       "      <td>110</td>\n",
       "      <td>FRAME B</td>\n",
       "      <td>1</td>\n",
       "      <td>-1</td>\n",
       "      <td>2.7</td>\n",
       "      <td>5.6</td>\n",
       "    </tr>\n",
       "  </tbody>\n",
       "</table>\n",
       "</div>"
      ],
      "text/plain": [
       "   CarIdentifier TimeFrame  RushHour  PremiumCustomer  Distance  Time\n",
       "0            102   FRAME D         1                1       3.0   7.9\n",
       "1            103   FRAME D         1                1       5.3  13.9\n",
       "2            105   FRAME D         1               -1       0.4   4.1\n",
       "3            110   FRAME D         1                1       2.8   5.0\n",
       "4            110   FRAME B         1               -1       2.7   5.6"
      ]
     },
     "execution_count": 6,
     "metadata": {},
     "output_type": "execute_result"
    }
   ],
   "source": [
    "import pandas\n",
    "\n",
    "data = pandas.read_csv(\"carsharing.csv\",sep=';',decimal=',')\n",
    "data[:5]"
   ]
  },
  {
   "cell_type": "code",
   "execution_count": 33,
   "metadata": {},
   "outputs": [
    {
     "name": "stdout",
     "output_type": "stream",
     "text": [
      "392\n",
      "===============\n",
      "5\n",
      "===============\n",
      "FRAME B    123\n",
      "FRAME C    107\n",
      "Name: TimeFrame, dtype: int64\n",
      "===============\n",
      "RushHour     0    1\n",
      "TimeFrame          \n",
      "FRAME A     47    0\n",
      "FRAME B      0  123\n",
      "FRAME C    107    0\n",
      "FRAME D      0   94\n",
      "FRAME E     21    0\n",
      "===============\n",
      "8.437444933920705\n",
      "===============\n",
      "0.5790816326530612\n"
     ]
    }
   ],
   "source": [
    "print(len(data)) # 3.1\n",
    "print(\"=\"*15)\n",
    "print(len(data.TimeFrame.value_counts())) # 3.2.2\n",
    "print(\"=\"*15)\n",
    "print(data.TimeFrame.value_counts()[:2]) # 3.2.3\n",
    "print(\"=\"*15)\n",
    "print(pandas.crosstab(data.TimeFrame,data.RushHour)) # 3.2.4\n",
    "print(\"=\"*15)\n",
    "print(data.loc[data.PremiumCustomer == 1,\"Distance\"].mean()) # 3.2\n",
    "print(\"=\"*15)\n",
    "print(len(data.loc[data.PremiumCustomer == 1])/len(data.PremiumCustomer)) # 3.3\n",
    "p = (1+len(data.loc[data.PremiumCustomer == 1])/len(data.PremiumCustomer))/2"
   ]
  },
  {
   "cell_type": "markdown",
   "metadata": {},
   "source": [
    "- 3.1. Quanti casi contiene il file? -> $392$\n",
    "- 3.2. Analizziamo l’utilizzo del servizio di car sharing nelle diverse fasce orarie (carattereTimeFrame) e negli orari di maggior o minor traffico (carattere RushHour).\n",
    "    - 3.2.1. Il carattere TimeFrame è nominale, ordinale o scalare? Giustificate la risposta. \n",
    "        - Nominale\n",
    "    - 3.2.2. In quante fasce orarie è stata suddivisa una giornata? \n",
    "        - $5$\n",
    "    - 3.2.3. In quali fasce orarie il servizio di car sharing è stato maggiormente utilizzato?\n",
    "        - ${B,C}$\n",
    "    - 3.2.4. Calcolate la tabella delle frequenze congiunte di TimeFrame e RushHour.\n",
    "    - 3.2.5. Leggendo la tabella calcolata al punto precedente determinate quali sono le fasceorarie che corrispondono all’ora di punta. \n",
    "        - ${B,D}$\n",
    "- 3.3. Consideriamo, solo in questo punto dell’esercizio, i clienti che hanno aderito al programma Premium(Premium=1).\n",
    "    - 3.3.2. Fornite una stima della distanza media percorsa in un tragitto da un cliente che ha aderito al programma Premium.\n",
    "        - $8.43$\n",
    "    - 3.3.3. Stimate la probabilità $p$ che un nuovo cliente si iscriva al programma Premium.\n",
    "        - $0.57$ \n",
    "    - 3.3.4. Quale stimatore avete utilizzato al punto precedente? \n",
    "        - Abbiamo utilizzato come stimatore abbiamo utilizzato $T_n$.\n",
    "    - 3.3.5. Fornite un’approssimazione della probabilità di compiere nella stima di $p$ un errore al più uguale a $0.05$.\n",
    "        - Chiamiamo $\\bar{X_n} = \\frac{\\sum_{i=1}^{n=392} X_i}{n}$  \n",
    "        Sia $\\hat{p} = T_n = \\frac{1+\\bar{X_n}}{2}$  \n",
    "        Sappiamo che $\\frac{\\bar{X_n}-\\mu_X}{\\sigma_X/\\sqrt{n}} \\approx Y \\sim \\mathcal{N}(0,1) $ dal TLC.\n",
    "        Passiamo all'approssimazione:\n",
    "        $$ \\mathbb{P}(|\\hat{p}-p| \\leq 0.05) = \\mathbb{P}(|\\bar{T_n} - \\mu_X|\\leq 0.1) = \\mathbb{P}(\\frac{|\\bar{X_n}-\\mu_X|}{\\sigma_X/\\sqrt{n}} \\leq \\frac{0.1\\sqrt{n}}{\\sigma_X}) \\approx \\mathbb{P}(|Y| \\leq \\frac{0.1\\sqrt(n)}{\\sigma_X}) = 2\\phi(\\frac{0.1\\sqrt{n}}{2\\sqrt{p(1-p)}})-1 \\simeq 0.984$$\n",
    "\n",
    "- 3.4. Ritorniamo a considerare il dataset completo e studiamo la distanza percorsa in ciascun utilizzo del servizio (carattere Distance).\n",
    "    - 3.4.1. Il carattere Distance è nominale, ordinale o scalare? Giustificate la risposta.\n",
    "        - Il carattere Distance è un carattere di tipo scalare in quanto può assumere dati che corrispondono a numeri.\n",
    "    - 3.4.2. Tracciate il boxplot di tale carattere"
   ]
  },
  {
   "cell_type": "code",
   "execution_count": 34,
   "metadata": {},
   "outputs": [
    {
     "data": {
      "text/plain": [
       "0.9848394390160404"
      ]
     },
     "execution_count": 34,
     "metadata": {},
     "output_type": "execute_result"
    }
   ],
   "source": [
    "from scipy.stats import norm\n",
    "n = len(data.PremiumCustomer.notna())\n",
    "2*norm(0,1).cdf((0.1*n**0.5)/(2*(p*(1-p))**0.5))-1\n"
   ]
  },
  {
   "cell_type": "code",
   "execution_count": 72,
   "metadata": {},
   "outputs": [
    {
     "data": {
      "text/plain": [
       "<matplotlib.axes._subplots.AxesSubplot at 0x7f7fff49f460>"
      ]
     },
     "execution_count": 72,
     "metadata": {},
     "output_type": "execute_result"
    },
    {
     "data": {
      "image/png": "[encoded data removed]",
      "text/plain": [
       "<Figure size 432x288 with 1 Axes>"
      ]
     },
     "metadata": {
      "needs_background": "light"
     },
     "output_type": "display_data"
    }
   ],
   "source": [
    "data.Distance.plot.box()"
   ]
  },
  {
   "cell_type": "markdown",
   "metadata": {},
   "source": [
    "-    - 3.4.3. In base all’aspetto del grafico ottenuto al punto precedente, determinate quali sono gli indici di centralità e di dispersione che meglio caratterizzano la distanza percorsa,calcolandone il valore."
   ]
  },
  {
   "cell_type": "code",
   "execution_count": 6,
   "metadata": {},
   "outputs": [
    {
     "name": "stdout",
     "output_type": "stream",
     "text": [
      "max:     24.0\n",
      "q1:      1.5750000000000002\n",
      "median:  5.75\n",
      "q2:      5.75\n",
      "q3:      14.025\n",
      "min:     0.1\n",
      "IQR:     12.45\n"
     ]
    }
   ],
   "source": [
    "print(\"max:    \", data.loc[:,\"Distance\"].max())\n",
    "print(\"q1:     \", data.loc[:,\"Distance\"].quantile(0.25))\n",
    "print(\"median: \", data.loc[:,\"Distance\"].median())\n",
    "print(\"q2:     \", data.loc[:,\"Distance\"].quantile(0.50))\n",
    "print(\"q3:     \", data.loc[:,\"Distance\"].quantile(0.75))\n",
    "print(\"min:    \", data.loc[:,\"Distance\"].min())\n",
    "print(\"IQR:    \", data.loc[:,\"Distance\"].quantile(0.75)-data.loc[:,\"Distance\"].quantile(0.25))"
   ]
  },
  {
   "cell_type": "markdown",
   "metadata": {},
   "source": [
    "-    - 3.4.4. Riscontrate una relazione tra la distanza percorsa e il Tempo? In caso affermativo, caratterizzate tale relazione. In ogni caso giustificate la vostra risposta mostrando un grafico."
   ]
  },
  {
   "cell_type": "code",
   "execution_count": 7,
   "metadata": {},
   "outputs": [
    {
     "data": {
      "image/png": "[encoded data removed]",
      "text/plain": [
       "<Figure size 1080x360 with 3 Axes>"
      ]
     },
     "metadata": {
      "needs_background": "light"
     },
     "output_type": "display_data"
    }
   ],
   "source": [
    "import matplotlib.pyplot as plt\n",
    "fig, ax = plt.subplots(nrows=1, ncols=3)\n",
    "fig.set_size_inches(15,5)\n",
    "plot = data.plot.scatter(x=\"Distance\",y=\"Time\",ax = ax[0],title=\"full plot\")\n",
    "plot = data.loc[data.RushHour == 1,:].plot.scatter(x=\"Distance\",y=\"Time\",ax = ax[1], title=\"RushHour = 1\")\n",
    "plot = data.loc[data.RushHour == 0,:].plot.scatter(x=\"Distance\",y=\"Time\",ax = ax[2], title=\"RushHour = 0\")"
   ]
  },
  {
   "cell_type": "markdown",
   "metadata": {},
   "source": [
    "- - - Per brevi distanze l'andamento è il medesimo.  \n",
    "Su distanze più lunghe si denotano due andamenti differenti.\n",
    "La RushHour sembra essere responsabile delle differenze.\n",
    "  - 3.4.5. Calcolate l’indice di correlazione tra la distanza e Tempo.  Il valore ottenuto supporta la risposta che avete dato al punto precedente?"
   ]
  },
  {
   "cell_type": "code",
   "execution_count": 8,
   "metadata": {},
   "outputs": [
    {
     "data": {
      "text/html": [
       "<div>\n",
       "<style scoped>\n",
       "    .dataframe tbody tr th:only-of-type {\n",
       "        vertical-align: middle;\n",
       "    }\n",
       "\n",
       "    .dataframe tbody tr th {\n",
       "        vertical-align: top;\n",
       "    }\n",
       "\n",
       "    .dataframe thead th {\n",
       "        text-align: right;\n",
       "    }\n",
       "</style>\n",
       "<table border=\"1\" class=\"dataframe\">\n",
       "  <thead>\n",
       "    <tr style=\"text-align: right;\">\n",
       "      <th></th>\n",
       "      <th>Distance</th>\n",
       "      <th>Time</th>\n",
       "    </tr>\n",
       "  </thead>\n",
       "  <tbody>\n",
       "    <tr>\n",
       "      <th>Distance</th>\n",
       "      <td>1.000000</td>\n",
       "      <td>0.627399</td>\n",
       "    </tr>\n",
       "    <tr>\n",
       "      <th>Time</th>\n",
       "      <td>0.627399</td>\n",
       "      <td>1.000000</td>\n",
       "    </tr>\n",
       "  </tbody>\n",
       "</table>\n",
       "</div>"
      ],
      "text/plain": [
       "          Distance      Time\n",
       "Distance  1.000000  0.627399\n",
       "Time      0.627399  1.000000"
      ]
     },
     "execution_count": 8,
     "metadata": {},
     "output_type": "execute_result"
    }
   ],
   "source": [
    "data.loc[:,[\"Distance\",\"Time\"]].corr()"
   ]
  },
  {
   "cell_type": "markdown",
   "metadata": {},
   "source": [
    "- - - la correlazione indica che al crescere di ```Distance``` la ```Time``` cresce, come è ragionevole che sia.  \n",
    "  - 3.4.6. Tracciate, possibilmente nella stessa figura, il box plot della distanza nel caso di utilizzo dell’auto in orario di punta (RushHour=1) e in orario non di punta (RushHour=0)."
   ]
  },
  {
   "cell_type": "code",
   "execution_count": 64,
   "metadata": {},
   "outputs": [
    {
     "data": {
      "image/png": "[encoded data removed]",
      "text/plain": [
       "<Figure size 1080x360 with 1 Axes>"
      ]
     },
     "metadata": {
      "needs_background": "light"
     },
     "output_type": "display_data"
    }
   ],
   "source": [
    "import matplotlib.pyplot as plt\n",
    "fig, ax = plt.subplots(nrows=1, ncols=1)\n",
    "fig.set_size_inches(15,5)\n",
    "\n",
    "p=ax.boxplot([data.loc[data.RushHour==1,\"Distance\"],data.loc[data.RushHour==0,\"Distance\"]])"
   ]
  },
  {
   "cell_type": "code",
   "execution_count": 73,
   "metadata": {},
   "outputs": [
    {
     "data": {
      "text/plain": [
       "<matplotlib.axes._subplots.AxesSubplot at 0x7f7fff47ef40>"
      ]
     },
     "execution_count": 73,
     "metadata": {},
     "output_type": "execute_result"
    },
    {
     "data": {
      "image/png": "[encoded data removed]",
      "text/plain": [
       "<Figure size 432x288 with 1 Axes>"
      ]
     },
     "metadata": {
      "needs_background": "light"
     },
     "output_type": "display_data"
    }
   ],
   "source": [
    "data.Distance.hist()"
   ]
  },
  {
   "cell_type": "markdown",
   "metadata": {},
   "source": [
    "- - 3.4.7. Ispezionando i due grafici ottenuti al punto precedente, dite se negli orari di punta sono privilegiati spostamenti \"più brevi\" oppure \"più lunghi\" rispetto agli orari non di punta, giustificando la risposta.\n",
    "\n",
    "    - Dal precedente grafico si può notare che:  \n",
    "quando ```RushHour=1``` il 50% degli spostamenti è \"più breve\", tra 0 e 5.  \n",
    "quando ```RushHour=0``` il 50% degli spostamenti è \"più lungo\", tra 10 e 20.  \n",
    "dall'istogramma si nota anche che la distanza presenta una distribuzione bimodale, dove, le due mode corrispondono con i picchi delle distribuzioni quando la ```RushHour=0``` e quando ```RushHour=1```.  \n",
    "Di conseguenza, durante gli orari di punta sono privilegiati spostamenti brevi. \n",
    "  - 3.4.8. Tracciate, possibilmente nella stessa figura, il box plot della distanza nel caso di utilizzo dell’auto da parte dei clienti che hanno aderito al programma Premium (Premium=1) e di quelli che non vi hanno aderito (Premium=-1)."
   ]
  },
  {
   "cell_type": "code",
   "execution_count": 75,
   "metadata": {},
   "outputs": [
    {
     "data": {
      "image/png": "[encoded data removed]",
      "text/plain": [
       "<Figure size 1080x360 with 1 Axes>"
      ]
     },
     "metadata": {
      "needs_background": "light"
     },
     "output_type": "display_data"
    }
   ],
   "source": [
    "fig, ax = plt.subplots(nrows=1, ncols=1)\n",
    "fig.set_size_inches(15,5)\n",
    "p=ax.boxplot([data.loc[data.PremiumCustomer==-1,\"Distance\"],data.loc[data.PremiumCustomer==1,\"Distance\"]])"
   ]
  },
  {
   "cell_type": "markdown",
   "metadata": {},
   "source": [
    "- - 3.4.9. Ispezionando i due grafici ottenuti al punto precedente, notate una grossa differenzanelle distanze percorse dai clienti dei due gruppi?\n",
    "\n",
    "    - Gli utenti premium tendono a percorerre distanze più lunghe rispetto agli utenti normali.\n",
    "  - 3.4.10. In Figura 1 è mostrato l’istogramma della distanza percorsa. In tale grafico si può individuare la presenza di due gruppi abbastanza distinti. I due gruppi sono relativi al tipo di cliente (Premium=1 oppure Premium=-1) oppure all’orario di utilizzo del veicolo (RushHour=1 oppure RushHour=0)? In altri termini, la distanza percorsa dipende dal fatto che l’utente sia un cliente Premium/non-Premium oppure dal fatto che l’utilizzo è avvenuto in orario Rush/non-Rush? Suggerimento: per rispondere a questa domanda basta ispezionarei boxplot prodotti nei punti precedenti di questo esercizio.\n",
    "\n",
    "    - c'è un differenza nella distanza percorsa se l'utente è premium e non-premium.  \n",
    "c'è un differenza nella distanza percorsa se l'utente sia nella RushHour e non-RushHour.  \n",
    "nel secondo caso la differenza è più marcata e responsabile delle 2 mode nell'istogramma della distanza.\n",
    "  - 3.4.11. Calcolate la distanza media nei due gruppi di orario (di punta/non di punta) e commentate l’istogramma di Figura 2 utilizzando queste due informazioni"
   ]
  },
  {
   "cell_type": "code",
   "execution_count": 76,
   "metadata": {},
   "outputs": [
    {
     "name": "stdout",
     "output_type": "stream",
     "text": [
      "media in orario di punta    : 3.319354838709678\n",
      "media in orario di non punta: 13.487428571428573\n"
     ]
    }
   ],
   "source": [
    "print(\"media in orario di punta    :\", data.loc[data.RushHour == 1, \"Distance\"].mean())\n",
    "print(\"media in orario di non punta:\", data.loc[data.RushHour == 0, \"Distance\"].mean())"
   ]
  },
  {
   "cell_type": "markdown",
   "metadata": {},
   "source": [
    "- - - In orario di punta si tende a percerrere distanze brevi, come avevamo già notato.\n",
    "  - 3.4.12. Sempre in riferimento ai due gruppi di orario (di punta/non di punta), calcolate la varianza within groups e la varianza between groups"
   ]
  },
  {
   "cell_type": "code",
   "execution_count": 77,
   "metadata": {},
   "outputs": [
    {
     "name": "stdout",
     "output_type": "stream",
     "text": [
      "variance within  groups: 20.750989579260825\n",
      "variance between groups: 25.55071290221817\n"
     ]
    }
   ],
   "source": [
    "group1 = data.loc[data.RushHour == 0, \"Distance\"]\n",
    "group2 = data.loc[data.RushHour == 1, \"Distance\"]\n",
    "\n",
    "size        = len(data.Distance)\n",
    "size_group1 = len(group1)\n",
    "size_group2 = len(group2)\n",
    "\n",
    "mean        = data.Distance.mean()\n",
    "mean_group1 = group1.mean()\n",
    "mean_group2 = group2.mean()\n",
    "\n",
    "var        = data.Distance.var()\n",
    "var_group1 = group1.var()\n",
    "var_group2 = group2.var()\n",
    "\n",
    "variance_within_groups  = (size_group1/size)*var_group1 + (size_group2/size)*var_group2\n",
    "variance_between_groups = (size_group1/size)*(mean_group1-mean)**2 + (size_group2/size)*(mean_group2-mean)**2\n",
    "\n",
    "print(\"variance within  groups:\", variance_within_groups)\n",
    "print(\"variance between groups:\", variance_between_groups)"
   ]
  },
  {
   "cell_type": "markdown",
   "metadata": {},
   "source": [
    "## Esercizio 4\n",
    "Analizziamo ora la distanza percorsa in ciascun utilizzo del servizio negli orari di punta (Rush-Hour=1)\n",
    "- 4.1. Tracciate un grafico rappresentativo della distribuzione della distanza percorsa negli oraridi punta."
   ]
  },
  {
   "cell_type": "code",
   "execution_count": 71,
   "metadata": {},
   "outputs": [
    {
     "data": {
      "image/png": "[encoded data removed]",
      "text/plain": [
       "<Figure size 360x360 with 1 Axes>"
      ]
     },
     "metadata": {
      "needs_background": "light"
     },
     "output_type": "display_data"
    }
   ],
   "source": [
    "fig, ax = plt.subplots(nrows=1, ncols=1)\n",
    "fig.set_size_inches(5,5)\n",
    "plot0 = data.loc[data.RushHour == 1,\"Distance\"].plot.hist(ax = ax, title=\"RushHour = 1\")"
   ]
  },
  {
   "cell_type": "markdown",
   "metadata": {},
   "source": [
    "- - Una eventuale normalità è decisamente implausibile data la mancanza di simmetria\n",
    "- 4.2. È plausibile affermare che negli orari di punta la distanza segue una legge normale? Giustificate la risposta."
   ]
  },
  {
   "cell_type": "code",
   "execution_count": 14,
   "metadata": {},
   "outputs": [
    {
     "data": {
      "image/png": "[encoded data removed]",
      "text/plain": [
       "<Figure size 432x288 with 1 Axes>"
      ]
     },
     "metadata": {
      "needs_background": "light"
     },
     "output_type": "display_data"
    }
   ],
   "source": [
    "from scipy import stats\n",
    "plot = stats.probplot(data.loc[data.RushHour == 1,\"Distance\"], dist=\"norm\", plot=plt)"
   ]
  },
  {
   "cell_type": "markdown",
   "metadata": {},
   "source": [
    "- - La distribuzione delle distanze sembra più essere esponenziale.\n"
   ]
  },
  {
   "cell_type": "code",
   "execution_count": 80,
   "metadata": {},
   "outputs": [
    {
     "name": "stdout",
     "output_type": "stream",
     "text": [
      "mean   : 3.319354838709678\n",
      "std dev: 3.711106147915897\n"
     ]
    }
   ],
   "source": [
    "print(\"mean   :\",data.loc[data.RushHour == 1,\"Distance\"].mean())\n",
    "print(\"std dev:\",data.loc[data.RushHour == 1,\"Distance\"].std())"
   ]
  },
  {
   "cell_type": "markdown",
   "metadata": {},
   "source": [
    "- 4.5 Le stime del valore atteso e della deviazione standard che avete appena calcolato sono compatibili con il modello che avete proposto? Giustificate la risposta."
   ]
  },
  {
   "cell_type": "code",
   "execution_count": 82,
   "metadata": {},
   "outputs": [
    {
     "name": "stdout",
     "output_type": "stream",
     "text": [
      "3.711106147915897 3.319354838709678\n"
     ]
    },
    {
     "data": {
      "image/png": "[encoded data removed]",
      "text/plain": [
       "<Figure size 720x360 with 2 Axes>"
      ]
     },
     "metadata": {
      "needs_background": "light"
     },
     "output_type": "display_data"
    }
   ],
   "source": [
    "import matplotlib.pyplot as plt\n",
    "import numpy\n",
    "fig,ax = plt.subplots(1,2)\n",
    "fig.set_size_inches(10,5)\n",
    "mean = data.loc[data.RushHour == 1,\"Distance\"].mean()\n",
    "x = numpy.linspace(0,20,100)\n",
    "p = ax[0].plot(x,expon(scale=mean).pdf(x))\n",
    "p = ax[0].hist(data.loc[data.RushHour == 1,\"Distance\"],density=True)\n",
    "p = ax[1].plot(x,expon(scale=mean).cdf(x))\n",
    "p = ax[1].hist(data.loc[data.RushHour == 1,\"Distance\"],density=True,cumulative=True)\n",
    "\n",
    "print(data.loc[data.RushHour == 1,\"Distance\"].std(), data.loc[data.RushHour == 1,\"Distance\"].mean())"
   ]
  },
  {
   "cell_type": "markdown",
   "metadata": {},
   "source": [
    "- 4.6 Il modello probabilistico che avete proposto per descrivere la distanza percorsa negli oraridi punta dovrebbe dipendere da un parametro: stimatene il valore.\n",
    "    - $\\hat{\\lambda} = \\frac{n}{\\sum_{i}x_i} = 0.3012$"
   ]
  },
  {
   "cell_type": "code",
   "execution_count": 32,
   "metadata": {},
   "outputs": [
    {
     "data": {
      "text/plain": [
       "0.30126336248785224"
      ]
     },
     "execution_count": 32,
     "metadata": {},
     "output_type": "execute_result"
    }
   ],
   "source": [
    "lmb = 1/data.loc[data.RushHour == 1,\"Distance\"].mean()\n",
    "lmb"
   ]
  },
  {
   "cell_type": "markdown",
   "metadata": {},
   "source": [
    "## Esercizio 5\n",
    "- 5.1. Tracciate un grafico opportuno che descriva la distanza percorsa negli orari non di punta"
   ]
  },
  {
   "cell_type": "code",
   "execution_count": 83,
   "metadata": {},
   "outputs": [
    {
     "data": {
      "text/plain": [
       "<matplotlib.axes._subplots.AxesSubplot at 0x7f7fff394670>"
      ]
     },
     "execution_count": 83,
     "metadata": {},
     "output_type": "execute_result"
    },
    {
     "data": {
      "image/png": "[encoded data removed]",
      "text/plain": [
       "<Figure size 432x288 with 1 Axes>"
      ]
     },
     "metadata": {
      "needs_background": "light"
     },
     "output_type": "display_data"
    }
   ],
   "source": [
    "data.loc[data.RushHour == 0,\"Distance\"].plot.hist()"
   ]
  },
  {
   "cell_type": "markdown",
   "metadata": {},
   "source": [
    "- 5.2. È plausibile affermare che negli orarinondi punta la distanza segue una legge normale? Giustificate la risposta.\n",
    "    - Non si direbbe in quanto la distribuzione non sembra essere simmetrica.\n",
    "- 5.3. Calcolate la media e la mediana della distanza negli orarinondi punta e, alla luce di tali valori, commentate ulteriormente la risposta che avete dato al punto precedente"
   ]
  },
  {
   "cell_type": "code",
   "execution_count": 84,
   "metadata": {},
   "outputs": [
    {
     "name": "stdout",
     "output_type": "stream",
     "text": [
      "13.487428571428573 14.4\n"
     ]
    }
   ],
   "source": [
    "print(data.loc[data.RushHour == 0,\"Distance\"].mean(),\n",
    "      data.loc[data.RushHour == 0,\"Distance\"].median())"
   ]
  },
  {
   "cell_type": "markdown",
   "metadata": {},
   "source": [
    "- - Nella normale, media e mediana sono uguali. Le appena calcolate sono un ulteriore conferma.\n",
    "## Esercizio 6\n",
    "- 6.1. Tracciate il grafico di dispersione della distanza e del tempo per i tragitti brevi."
   ]
  },
  {
   "cell_type": "code",
   "execution_count": 85,
   "metadata": {},
   "outputs": [
    {
     "name": "stdout",
     "output_type": "stream",
     "text": [
      "0.23958342099726487\n"
     ]
    },
    {
     "data": {
      "image/png": "[encoded data removed]",
      "text/plain": [
       "<Figure size 432x288 with 1 Axes>"
      ]
     },
     "metadata": {
      "needs_background": "light"
     },
     "output_type": "display_data"
    }
   ],
   "source": [
    "data.loc[data.Distance <= 1.5].plot.scatter(\"Distance\",\"Time\")\n",
    "print(data.loc[data.Distance <= 1.5].Time.var())"
   ]
  },
  {
   "cell_type": "markdown",
   "metadata": {},
   "source": [
    "- 6.2. Commentate il grafico che avete tracciato al punto precedente, possibilmente collegandoloal valore assunto dall’indice di variazione per il carattereTime.\n",
    "    - Il tempo sembra assumere gli stessi valori indipendentemente dalla distanza percorsa. Ciò significa che il tempo impiegato non sembra cambiare all'aumentare della distanza percorsa. A maggior ragione la varianza per il carattere Time è molto bassa, ciò indica che Time tende ad assumere valori in un range ristretto.\n",
    "## Esercizio 7\n",
    "- 7.1. Stimate la probabilit à $p$ che un’auto venga utilizzata in un orario di punta.\n",
    "    - $\\hat{p} = \\frac{no.RushHour=1}{no.entries} = 0.55$"
   ]
  },
  {
   "cell_type": "code",
   "execution_count": 34,
   "metadata": {},
   "outputs": [
    {
     "data": {
      "text/plain": [
       "0.5535714285714286"
      ]
     },
     "execution_count": 34,
     "metadata": {},
     "output_type": "execute_result"
    }
   ],
   "source": [
    "data.RushHour.mean()"
   ]
  },
  {
   "cell_type": "markdown",
   "metadata": {},
   "source": [
    "- 7.2. Quale stimatore avete utilizzato al punto precedente?\n",
    "    - Ancora una volta, se vediamo $X_i$ come una bernulliana, abbiamo utilizzato la media campionaria.\n",
    "- 7.3 Qual è la numerosità del campione che avete a disposizione?\n",
    "    - $392$"
   ]
  },
  {
   "cell_type": "code",
   "execution_count": null,
   "metadata": {},
   "outputs": [],
   "source": [
    "len(data.loc[data.RushHour.notna(),])"
   ]
  },
  {
   "cell_type": "markdown",
   "metadata": {},
   "source": [
    "-  7.4 Fornite una minorazione della probabilità che nella stima di $p$ abbiate compiuto un errore al più uguale a 0.05.\n",
    "    - Usando lo stesso procedimento per l'esercizio 3.3.5 otteniamo la seguente disuguaglianza.  \n",
    "        - Chiamiamo $\\bar{X_n} = \\frac{\\sum_{i=1}^{n=392} X_i}{n}$  \n",
    "        Sappiamo che $\\mathbb{E}[\\bar{X_n}] = \\mathbb{E}[X] = p$  \n",
    "        Sappiamo che $\\sigma^2_\\bar{X_n} = \\mathbb{V}[\\bar{X_n}] = \\frac{1}{n}\\mathbb{V}[X] = \\frac{1}{n}p(1-p)$  \n",
    "        Sappiamo che $\\frac{\\bar{X_n}-\\mu_X}{\\sigma_X/\\sqrt{n}} \\approx Y \\sim \\mathcal{N}(0,1) $ dal TLC.  \n",
    "        Ricordiamo che $\\sigma_X \\leq 1/2$  \n",
    "        Passiamo all'approssimazione:\n",
    "        $$ \\mathbb{P}(|\\hat{p}-p| \\leq 0.05) = \\mathbb{P}(|\\bar{X_n} - \\mu_X|\\leq 0.05) = \\mathbb{P}(\\frac{|\\bar{X_n}-\\mu_X|}{\\sigma_X/\\sqrt{n}} \\leq \\frac{0.05\\sqrt(n)}{\\sigma_X}) \\geq \\mathbb{P}(\\frac{|\\bar{X_n}-\\mu_X|}{\\sigma_X/\\sqrt{n}} \\leq 0.1\\sqrt(n)) \\approx \\mathbb{P}(|Y| \\leq 0.1\\sqrt(n)) = 2\\phi(0.1\\sqrt{n})-1 \\simeq 0.939$$\n"
   ]
  },
  {
   "cell_type": "code",
   "execution_count": 88,
   "metadata": {},
   "outputs": [
    {
     "data": {
      "text/plain": [
       "0.9398781540422085"
      ]
     },
     "execution_count": 88,
     "metadata": {},
     "output_type": "execute_result"
    }
   ],
   "source": [
    "from scipy.stats import norm\n",
    "2*norm(0.1).cdf(0.1*392**0.5)-1"
   ]
  },
  {
   "cell_type": "markdown",
   "metadata": {},
   "source": [
    "## Esercizio 8\n",
    "Utilizzando altre informazioni riguardo al servizio di carsharing (non presenti nel dataset che vi abbiamo fornito), si è stimato che\n",
    "1. La probabilità che un’auto subisca un incidente è 0.15;\n",
    "2. La probabilità che in un orario di punta un’auto subisca un incidente è 0.2\n",
    "\n",
    "Una data auto oggi non è disponibile perché ieri ha subito un incidente.  Stimate la probabilità che l’incidente sia avvenuto in un orario di punta.\n",
    "\n",
    "$$\\mathbb{P}(Incidente) = 0.15$$\n",
    "$$\\mathbb{P}(Incidente | RushHour) = 0.2$$\n",
    "$$\\mathbb{P}(RushHour) = 0.55$$\n",
    "$$\\mathbb{P}(RushHour|Incidente) = \\frac{\\mathbb{P}(Incidente | RushHour)\\mathbb{P}(RushHour)}{\\mathbb{P}(Incidente)} = \\frac{0.2*0.55}{0.15} \\simeq 0.73$$"
   ]
  },
  {
   "cell_type": "code",
   "execution_count": 72,
   "metadata": {},
   "outputs": [
    {
     "data": {
      "text/plain": [
       "0.7333333333333335"
      ]
     },
     "execution_count": 72,
     "metadata": {},
     "output_type": "execute_result"
    }
   ],
   "source": [
    "(0.2*0.55)/0.15"
   ]
  }
 ],
 "metadata": {
  "kernelspec": {
   "display_name": "Python 3",
   "language": "python",
   "name": "python3"
  },
  "language_info": {
   "codemirror_mode": {
    "name": "ipython",
    "version": 3
   },
   "file_extension": ".py",
   "mimetype": "text/x-python",
   "name": "python",
   "nbconvert_exporter": "python",
   "pygments_lexer": "ipython3",
   "version": "3.8.2"
  }
 },
 "nbformat": 4,
 "nbformat_minor": 4
}
